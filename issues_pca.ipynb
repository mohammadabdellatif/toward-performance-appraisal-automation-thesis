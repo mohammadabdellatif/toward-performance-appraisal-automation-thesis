{
 "cells": [
  {
   "cell_type": "markdown",
   "id": "e9491380-e3e1-4212-8c19-03ee0a491a07",
   "metadata": {
    "tags": []
   },
   "source": [
    "## Do general imports"
   ]
  },
  {
   "cell_type": "code",
   "execution_count": null,
   "id": "284f13a5-123e-4236-9570-e5371ddc3abb",
   "metadata": {
    "tags": []
   },
   "outputs": [],
   "source": [
    "import numpy as np\n",
    "import seaborn as sns\n",
    "import matplotlib.pyplot as plt\n",
    "import pandas as pd\n",
    "import math as math\n",
    "from sklearn import preprocessing\n",
    "from feature_engine.discretisation import ArbitraryDiscretiser\n",
    "\n",
    "import preprocessing.DiscretizeTotalProcessingStepsPreProcess as dtpsp\n",
    "import preprocessing.ProjectsPreProcess as ppp\n",
    "import exploration.analytics_plots as vs\n",
    "\n",
    "pd.set_option('display.max_columns', None)\n"
   ]
  },
  {
   "cell_type": "markdown",
   "id": "d74adbd8-5c1d-433a-84a6-1bc975560573",
   "metadata": {
    "tags": []
   },
   "source": [
    "## Load Datasets"
   ]
  },
  {
   "cell_type": "code",
   "execution_count": null,
   "id": "6e36278e-1525-4524-aac7-cea514884173",
   "metadata": {},
   "outputs": [],
   "source": [
    "issues_df = pd.read_csv('./temp_data/issues.csv', index_col=[\"id\"])\n",
    "issues_df['issue_created'] = pd.to_datetime(issues_df['issue_created'])\n",
    "print(F'Total records in dataset %i' % len(issues_df))"
   ]
  },
  {
   "cell_type": "code",
   "execution_count": null,
   "id": "7a4f04e2-dbf7-432a-aab3-510da27f979e",
   "metadata": {
    "tags": []
   },
   "outputs": [],
   "source": [
    "types = ['Ticket','Deployment','HD Service']\n",
    "\n",
    "issues_df = issues_df[(issues_df['issue_proj'].str.match('\\w{2}\\d{2}\\w{1,}'))\n",
    "                      & (issues_df['issue_type'].isin(types))\n",
    "                      & (issues_df['issue_created'] >= '2022-01-01')\n",
    "                      & (issues_df['issue_created'] <= '2022-12-31')\n",
    "                      & pd.notna(issues_df['issue_resolution_date'])]\n",
    "                      # & (issues_df['issue_priority'] == 'High')]\n",
    "print(F'Total records after filter %i' % len(issues_df))\n",
    "\n",
    "issues_df.head(1)"
   ]
  },
  {
   "cell_type": "code",
   "execution_count": null,
   "id": "36fae754-eac3-447e-8c13-f89eaba8a63a",
   "metadata": {
    "tags": []
   },
   "outputs": [],
   "source": [
    "from sklearn.decomposition import PCA\n",
    "from sklearn.preprocessing import StandardScaler\n",
    "\n",
    "# 0.54616479 +0.26273805+ 0.1083671 + 0.08273006\n",
    "features = issues_df[['wf_total_time','processing_steps','issue_contr_count','issue_comments_count']]\n",
    "for key in features.columns:\n",
    "    scaler = StandardScaler()\n",
    "    features.loc[:,key] = scaler.fit_transform(features.loc[:,key].values.reshape(-1, 1))\n",
    "\n",
    "pca = PCA(n_components = 'mle', svd_solver = 'full')\n",
    "# pca = PCA(n_components = 4)\n",
    "fitted = pca.fit(features)\n",
    "x_r = fitted.transform(features)\n",
    "print(f'Variance: {fitted.explained_variance_}') # eigen values\n",
    "print(f'Variance Ratio: {fitted.explained_variance_ratio_}') # eigen values importance\n",
    "print(f'Components: \\n{fitted.components_}') # eigen vectors (n_components X n_features -> features are 4 at the top\n",
    "\n",
    "# print(f'features in: {fitted.feature_names_in_}')\n",
    "# print(f'features out: {fitted.get_feature_names_out()}')\n",
    "print(f'covariance:\\n{fitted.get_covariance()}')"
   ]
  },
  {
   "cell_type": "code",
   "execution_count": null,
   "id": "11cf1e8c-986a-4265-8cf4-61944bcc8d57",
   "metadata": {
    "tags": []
   },
   "outputs": [],
   "source": [
    "import matplotlib.pyplot as plt\n",
    "\n",
    "# fig = plt.figure(figsize=(20, 5))\n",
    "# ax = fig.add_subplot(111)\n",
    "ax = plt.figure(figsize=(8,8)).add_subplot(projection='3d')\n",
    "\n",
    "ax.view_init(elev=20, azim=-15)\n",
    "ax.scatter(x_r[:,0],x_r[:,1],x_r[:,2])\n"
   ]
  }
 ],
 "metadata": {
  "kernelspec": {
   "display_name": "Python 3 (ipykernel)",
   "language": "python",
   "name": "python3"
  },
  "language_info": {
   "codemirror_mode": {
    "name": "ipython",
    "version": 3
   },
   "file_extension": ".py",
   "mimetype": "text/x-python",
   "name": "python",
   "nbconvert_exporter": "python",
   "pygments_lexer": "ipython3",
   "version": "3.10.9"
  }
 },
 "nbformat": 4,
 "nbformat_minor": 5
}
