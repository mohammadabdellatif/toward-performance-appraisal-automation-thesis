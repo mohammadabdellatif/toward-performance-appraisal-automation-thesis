{
 "cells": [
  {
   "cell_type": "markdown",
   "id": "1a3e312b-7ed1-4eb4-90e8-7bdc89440b12",
   "metadata": {
    "tags": []
   },
   "source": [
    "referencing code samples in https://towardsdatascience.com/elbow-method-is-not-sufficient-to-find-best-k-in-k-means-clustering-fc820da0631d#:~:text=The%20elbow%20method%20is%20a,cluster%20and%20the%20cluster%20centroid.\n"
   ]
  },
  {
   "cell_type": "markdown",
   "id": "e9491380-e3e1-4212-8c19-03ee0a491a07",
   "metadata": {
    "tags": []
   },
   "source": [
    "## Do general imports"
   ]
  },
  {
   "cell_type": "code",
   "execution_count": null,
   "id": "284f13a5-123e-4236-9570-e5371ddc3abb",
   "metadata": {
    "tags": []
   },
   "outputs": [],
   "source": [
    "import math as math\n",
    "\n",
    "import matplotlib.pyplot as plt\n",
    "import pandas as pd\n",
    "from sklearn.cluster import KMeans\n",
    "from sklearn.preprocessing import StandardScaler\n",
    "from yellowbrick.cluster import KElbowVisualizer\n",
    "from yellowbrick.cluster import SilhouetteVisualizer\n",
    "\n",
    "from preprocessing.ProjectsPreProcess import ProjectsPreProcess\n",
    "\n",
    "pd.set_option('display.max_columns', None)"
   ]
  },
  {
   "cell_type": "markdown",
   "id": "d74adbd8-5c1d-433a-84a6-1bc975560573",
   "metadata": {
    "tags": []
   },
   "source": [
    "## Load Datasets"
   ]
  },
  {
   "cell_type": "code",
   "execution_count": null,
   "id": "7df54375-7af5-459a-b9fc-3e597dd54c28",
   "metadata": {
    "tags": []
   },
   "outputs": [],
   "source": [
    "columns = ['issue_comments_count_mean', 'issue_contr_count_mean', 'processing_steps_mean']\n",
    "max_clusters = 10\n",
    "\n",
    "ppp = ProjectsPreProcess()\n",
    "issues_df = pd.read_csv('./temp_data/issues_preprocessed.csv')\n",
    "\n",
    "df = ppp.pre_process(issues_df)\n",
    "df = df[columns]\n",
    "df = StandardScaler().fit_transform(df)"
   ]
  },
  {
   "cell_type": "code",
   "execution_count": null,
   "id": "34094f95-fb83-4e1b-b0bb-06cf97fe13c3",
   "metadata": {
    "tags": []
   },
   "outputs": [],
   "source": [
    "km = KMeans(n_init=\"auto\", random_state=42)\n",
    "visualizer = KElbowVisualizer(km, k=(2, max_clusters + 1))\n",
    "\n",
    "visualizer.fit(df)  # Fit the data to the visualizer\n",
    "visualizer.show()  # Finalize and render the figure"
   ]
  },
  {
   "cell_type": "code",
   "execution_count": null,
   "id": "dc7480d3-17f0-499b-8cb2-c399967c0d83",
   "metadata": {
    "tags": []
   },
   "outputs": [],
   "source": [
    "fig, ax = plt.subplots(math.ceil(max_clusters / 2), 2, figsize=(15, 15))\n",
    "for i in range(2, max_clusters + 1):\n",
    "    km = KMeans(n_clusters=i, n_init='auto', random_state=42)\n",
    "    q, mod = divmod(i, 2)\n",
    "\n",
    "    visualizer = SilhouetteVisualizer(km, colors='yellowbrick', ax=ax[q - 1][mod])\n",
    "    visualizer.fit(df) "
   ]
  }
 ],
 "metadata": {
  "kernelspec": {
   "display_name": "Python 3 (ipykernel)",
   "language": "python",
   "name": "python3"
  },
  "language_info": {
   "codemirror_mode": {
    "name": "ipython",
    "version": 3
   },
   "file_extension": ".py",
   "mimetype": "text/x-python",
   "name": "python",
   "nbconvert_exporter": "python",
   "pygments_lexer": "ipython3",
   "version": "3.10.9"
  }
 },
 "nbformat": 4,
 "nbformat_minor": 5
}
