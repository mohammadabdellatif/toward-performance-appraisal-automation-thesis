{
 "cells": [
  {
   "cell_type": "code",
   "execution_count": null,
   "id": "02dd2fb9-aaf3-46da-902e-32b9e3403ee9",
   "metadata": {
    "tags": []
   },
   "outputs": [],
   "source": [
    "import pandas as pd\n",
    "from matplotlib import pyplot as plt\n",
    "\n",
    "comments_df = pd.read_csv('./temp_data/pp_utterances.csv')\n",
    "\n",
    "len(comments_df)"
   ]
  },
  {
   "cell_type": "code",
   "execution_count": null,
   "id": "0964c157",
   "metadata": {},
   "outputs": [],
   "source": [
    "comments_df.head(3)"
   ]
  },
  {
   "cell_type": "markdown",
   "id": "f188f62c",
   "metadata": {},
   "source": [
    "### LDA"
   ]
  },
  {
   "cell_type": "code",
   "execution_count": null,
   "id": "c8cf484d",
   "metadata": {},
   "outputs": [],
   "source": [
    "from exploration.comments_exploration import lda,sentences_as_corpus,utterances_as_text\n",
    "import pyLDAvis\n",
    "\n",
    "# Visualize the topics\n",
    "pyLDAvis.enable_notebook()\n",
    "comments = utterances_as_text(comments_df)\n",
    "corpus, id2word = sentences_as_corpus(comments)\n",
    "\n",
    "lda_coherance = {}\n",
    "for n in range(4,46):\n",
    "    print(f'model {n} topics')\n",
    "    lda_model = lda(corpus, id2word, num_topics=n, random_state=42,sentences=comments)\n",
    "    lda_coherance[n] = lda_model.coherence()\n",
    "    \n",
    "lda_coherance"
   ]
  },
  {
   "cell_type": "code",
   "execution_count": null,
   "id": "ea2cbe6c-b8e7-4377-8cc5-426d2ba34393",
   "metadata": {
    "tags": []
   },
   "outputs": [],
   "source": [
    "fig = plt.figure(figsize=(5,5))\n",
    "ax = fig.add_subplot(111)\n",
    "ax.plot(lda_coherance.keys(),lda_coherance.values())\n",
    "ax.set_xticks(range(4,46,5))\n",
    "ax.grid(True)"
   ]
  },
  {
   "cell_type": "markdown",
   "id": "79dddf78-c9b2-47ae-a5aa-f18d7a1dc62b",
   "metadata": {
    "tags": []
   },
   "source": [
    "lda_model = lda(corpus, id2word, num_topics=10, random_state=42,sentences=comments)\n",
    "\n",
    "lda_model.lda_visualize"
   ]
  }
 ],
 "metadata": {
  "kernelspec": {
   "display_name": "Python 3 (ipykernel)",
   "language": "python",
   "name": "python3"
  },
  "language_info": {
   "codemirror_mode": {
    "name": "ipython",
    "version": 3
   },
   "file_extension": ".py",
   "mimetype": "text/x-python",
   "name": "python",
   "nbconvert_exporter": "python",
   "pygments_lexer": "ipython3",
   "version": "3.10.9"
  }
 },
 "nbformat": 4,
 "nbformat_minor": 5
}
