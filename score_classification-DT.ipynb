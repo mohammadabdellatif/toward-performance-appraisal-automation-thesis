{
 "cells": [
  {
   "cell_type": "markdown",
   "id": "1aa0cc1e-f881-4fb2-a131-a58cb407ed7a",
   "metadata": {},
   "source": [
    "### Decision Tree testing results\n",
    "- The test was made to detect the score of 5 out of other scores, to create a balanced dataset.\n",
    "- When tested without text tone features (text tone not included):\n",
    "    - The accuracy of the model is 73%\n",
    "    - The interpretation of the tree is not clear\n",
    "- When tested with text tone features (text tone included) as percentages:\n",
    "    - The accuracy of the model is 73%\n",
    "    - The tree rules is easy to interpret\n",
    "- When tested with text tone features (text tone included) as counts:\n",
    "    - The accuracy of the model is 82%\n",
    "    - The tree rules is easy to interpret but not like when the features were percentages\n",
    "- This model could assist in detecting the top performing members from other members.\n",
    "- Clear cut point for total workflow time"
   ]
  },
  {
   "cell_type": "markdown",
   "id": "1a3e312b-7ed1-4eb4-90e8-7bdc89440b12",
   "metadata": {
    "jp-MarkdownHeadingCollapsed": true,
    "tags": []
   },
   "source": [
    "## Install required packages"
   ]
  },
  {
   "cell_type": "markdown",
   "id": "292d14ef-37c6-4456-b861-6aea2a254e64",
   "metadata": {},
   "source": [
    "This script was based on the article below:\n",
    "https://medium.com/@knoldus/how-to-find-correlation-value-of-categorical-variables-23de7e7a9e26\n",
    "\n",
    "I should add a reference for this\n",
    "\n",
    "\"It calculates the correlation/strength-of-association of features in the data-set with both categorical and continuous features using: Pearson’s R for continuous-continuous cases, Correlation Ratio for categorical-continuous cases, Cramer’s V or Theil’s U for categorical-categorical cases.\""
   ]
  },
  {
   "cell_type": "code",
   "execution_count": null,
   "id": "b51e8359-4197-4c14-aec8-7395cc97c57f",
   "metadata": {
    "tags": []
   },
   "outputs": [],
   "source": [
    "# !pip install psycopg2-binary\n",
    "!pip --version\n",
    "\n",
    "!pip install -r requirements.txt"
   ]
  },
  {
   "cell_type": "markdown",
   "id": "e9491380-e3e1-4212-8c19-03ee0a491a07",
   "metadata": {
    "tags": []
   },
   "source": [
    "## Do general imports"
   ]
  },
  {
   "cell_type": "code",
   "execution_count": null,
   "id": "284f13a5-123e-4236-9570-e5371ddc3abb",
   "metadata": {
    "tags": []
   },
   "outputs": [],
   "source": [
    "from classifiers.testing import cycle_test,TestType,TestInputs,DatasetFeatures\n",
    "import pandas as pd\n"
   ]
  },
  {
   "cell_type": "markdown",
   "id": "bd22c7fd-4c51-4973-ad09-a59d38f87973",
   "metadata": {
    "tags": []
   },
   "source": [
    "### Decision Tree Classifier"
   ]
  },
  {
   "cell_type": "code",
   "execution_count": null,
   "id": "8caa4d7d-33e4-4abf-a902-4af05623f996",
   "metadata": {
    "tags": []
   },
   "outputs": [],
   "source": [
    "from sklearn import tree\n",
    "from sklearn.tree import DecisionTreeClassifier\n",
    "from sklearn.metrics import classification_report\n",
    "import matplotlib.pyplot as plt\n",
    "\n",
    "trees = []\n",
    "\n",
    "def fit_and_test(inputs: TestInputs):\n",
    "    clf = DecisionTreeClassifier(random_state=42,criterion=\"entropy\",ccp_alpha=0.01)\n",
    "    clf.fit(inputs.x_train, inputs.y_train)   \n",
    "    # most_features_frame = pd.DataFrame(\n",
    "    #     data=clf.feature_importances_,\n",
    "    #     columns=[\"importance\"],\n",
    "    #     index=inputs.x_train.columns,\n",
    "    # ).sort_values(by=[\"importance\"], ascending=False)\n",
    "    # most_features_frame = most_features_frame[most_features_frame['importance'] > 0]\n",
    "    # print(most_features_frame)\n",
    "\n",
    "    features = inputs.x_train.columns\n",
    "    class_labels = [str(x) for x in inputs.y_test.iloc[:,0].drop_duplicates().sort_values()]\n",
    "    trees.append((clf, features,class_labels))\n",
    "    predicted = clf.predict(inputs.x_test)\n",
    "    return predicted\n",
    "\n",
    "def plot_tree(the_tree,size,fontsize=12):\n",
    "    fig = plt.figure(figsize=size)\n",
    "    ax = fig.add_subplot(111)\n",
    "    tree.plot_tree(the_tree[0],feature_names=the_tree[1],ax=ax,fontsize=fontsize,class_names=the_tree[2],filled=True)\n",
    "    # print(tree.export_text(clf,feature_names=[c for c in x_train.columns],show_weights=True))"
   ]
  },
  {
   "cell_type": "code",
   "execution_count": null,
   "id": "e91b1ad5-2533-44f5-915f-de1af2cf2db4",
   "metadata": {
    "tags": []
   },
   "outputs": [],
   "source": [
    "trees = []\n",
    "cycle_test('Decision Tree Classifier',fit_and_test,test_type=TestType.FIVE_VS_ALL,dataset_types=DatasetFeatures.WITHOUT_TEXT_TONE,add_dummies=True,drop_categories=True)\n",
    "plot_tree(trees[0],size=(40,25),fontsize=12)"
   ]
  },
  {
   "cell_type": "code",
   "execution_count": null,
   "id": "681b5776-0db9-44e6-b741-764bfb73037d",
   "metadata": {
    "tags": []
   },
   "outputs": [],
   "source": [
    "trees = []\n",
    "cycle_test('Decision Tree Classifier',fit_and_test,test_type=TestType.FIVE_VS_ALL,dataset_types=DatasetFeatures.WITH_TEXT_TONE_AS_COUNTS,add_dummies=True,drop_categories=True)\n",
    "plot_tree(trees[0],size=(40,25),fontsize=14)"
   ]
  },
  {
   "cell_type": "code",
   "execution_count": null,
   "id": "01224c81-f56b-410a-a1fe-9a2df051b5ae",
   "metadata": {
    "tags": []
   },
   "outputs": [],
   "source": [
    "trees = []\n",
    "cycle_test('Decision Tree Classifier',fit_and_test,test_type=TestType.FIVE_VS_ALL,dataset_types=DatasetFeatures.WITH_TEXT_TONE_AS_PERCENTAGES,add_dummies=True,drop_categories=True)\n",
    "plot_tree(trees[0],size=(40,25),fontsize=13)"
   ]
  },
  {
   "cell_type": "code",
   "execution_count": null,
   "id": "8ad04e68-71c3-4154-a6c9-0949dc93c6de",
   "metadata": {
    "tags": []
   },
   "outputs": [],
   "source": [
    "trees = []\n",
    "cycle_test('Decision Tree Classifier',fit_and_test,test_type=TestType.THREE_LEVELS,dataset_types=DatasetFeatures.WITHOUT_TEXT_TONE,add_dummies=True,drop_categories=True)\n",
    "plot_tree(trees[0],size=(40,25),fontsize=11)"
   ]
  },
  {
   "cell_type": "code",
   "execution_count": null,
   "id": "2a4fd97a-7cbe-44c4-96b9-0c2fdb43231f",
   "metadata": {
    "tags": []
   },
   "outputs": [],
   "source": [
    "trees = []\n",
    "cycle_test('Decision Tree Classifier',fit_and_test,test_type=TestType.THREE_LEVELS,dataset_types=DatasetFeatures.WITH_TEXT_TONE_AS_COUNTS,add_dummies=True,drop_categories=True)\n",
    "plot_tree(trees[0],size=(40,25),fontsize=12)"
   ]
  },
  {
   "cell_type": "code",
   "execution_count": null,
   "id": "005dfd8d-d553-404d-afa9-2213bebfb35f",
   "metadata": {
    "tags": []
   },
   "outputs": [],
   "source": [
    "trees = []\n",
    "cycle_test('Decision Tree Classifier',fit_and_test,test_type=TestType.THREE_LEVELS,dataset_types=DatasetFeatures.WITH_TEXT_TONE_AS_PERCENTAGES,add_dummies=True,drop_categories=True)\n",
    "plot_tree(trees[0],size=(40,25),fontsize=12)"
   ]
  }
 ],
 "metadata": {
  "kernelspec": {
   "display_name": "Python 3 (ipykernel)",
   "language": "python",
   "name": "python3"
  },
  "language_info": {
   "codemirror_mode": {
    "name": "ipython",
    "version": 3
   },
   "file_extension": ".py",
   "mimetype": "text/x-python",
   "name": "python",
   "nbconvert_exporter": "python",
   "pygments_lexer": "ipython3",
   "version": "3.10.9"
  }
 },
 "nbformat": 4,
 "nbformat_minor": 5
}
