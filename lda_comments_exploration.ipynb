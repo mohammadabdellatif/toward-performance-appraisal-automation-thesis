{
 "cells": [
  {
   "cell_type": "code",
   "execution_count": null,
   "id": "02dd2fb9-aaf3-46da-902e-32b9e3403ee9",
   "metadata": {
    "tags": []
   },
   "source": [
    "file = 'pp_utterances'\n",
    "\n",
    "import pandas as pd\n",
    "from matplotlib import pyplot as plt\n",
    "\n",
    "comments_df = pd.read_csv(f'./temp_data/{file}_lda.csv')\n",
    "len(comments_df)\n"
   ],
   "outputs": []
  },
  {
   "cell_type": "code",
   "execution_count": null,
   "id": "0964c157",
   "metadata": {},
   "source": [
    "comments_df.head(3)"
   ],
   "outputs": []
  },
  {
   "cell_type": "code",
   "execution_count": null,
   "id": "c303a33b",
   "metadata": {
    "collapsed": false,
    "jupyter": {
     "outputs_hidden": false
    },
    "pycharm": {
     "is_executing": true
    },
    "tags": []
   },
   "source": [
    "len(comments_df[(comments_df['author'] == 'admin') | (comments_df['author'] == 'u003') ])"
   ],
   "outputs": []
  },
  {
   "cell_type": "code",
   "execution_count": null,
   "id": "b7f281f0-f457-4b65-b471-fa83d97a56be",
   "metadata": {},
   "source": [
    "# comments_df = comments_df[(comments_df['author'] != 'admin') & (comments_df['author'] != 'u003') ]"
   ],
   "outputs": []
  },
  {
   "cell_type": "code",
   "execution_count": null,
   "id": "1e2d6331",
   "metadata": {
    "collapsed": false,
    "jupyter": {
     "outputs_hidden": false
    }
   },
   "source": [
    "def frequencies(df):\n",
    "    topics_freq = df[['actionbody', 'h_topic']].groupby('h_topic').count()\n",
    "    topics_freq.rename(columns={'actionbody': 'count'}, inplace=True)\n",
    "    return topics_freq"
   ],
   "outputs": []
  },
  {
   "cell_type": "code",
   "execution_count": null,
   "id": "933fb353",
   "metadata": {
    "collapsed": false,
    "jupyter": {
     "outputs_hidden": false
    }
   },
   "source": [
    "\n",
    "import math\n",
    "\n",
    "\n",
    "def plot_topics_freq(topics_freq, ax):\n",
    "    ax.bar(topics_freq.index, topics_freq['count'])\n",
    "    # ax.set_yticks([x for x in range(0, max(), 10000)])\n",
    "    ax.set_xlabel('topic')\n",
    "    ax.set_ylabel('frequencies')\n",
    "    ax.grid(True, axis='y')\n",
    "\n",
    "\n",
    "fig = plt.figure(figsize=(6, 4))\n",
    "ax = fig.add_subplot(111)\n",
    "ax.set_title('Topics Distribution')\n",
    "\n",
    "plot_topics_freq(frequencies(comments_df), ax)\n",
    "\n",
    "fig = plt.figure(figsize=(20, 4))\n",
    "role = comments_df['author_role'].drop_duplicates()\n",
    "fig_r = math.ceil(len(role) / 3)\n",
    "for i, t in enumerate(role):\n",
    "    topic_comments = comments_df[comments_df['author_role'] == t]\n",
    "    ax = fig.add_subplot(fig_r, 3, i + 1)\n",
    "    ax.set_title(f'Topics Distribution - {t}')\n",
    "    plot_topics_freq(frequencies(topic_comments), ax)"
   ],
   "outputs": []
  },
  {
   "cell_type": "code",
   "execution_count": null,
   "id": "c0dd4198",
   "metadata": {
    "collapsed": false,
    "jupyter": {
     "outputs_hidden": false
    },
    "tags": []
   },
   "source": [
    "for t in comments_df['h_topic'].drop_duplicates():\n",
    "    df = comments_df[comments_df['h_topic'] == t]\n",
    "    df.to_csv(f'./temp_data/lda/{file}_{t}.csv')\n",
    "\n",
    "print('done')"
   ],
   "outputs": []
  }
 ],
 "metadata": {
  "kernelspec": {
   "display_name": "Python 3 (ipykernel)",
   "language": "python",
   "name": "python3"
  },
  "language_info": {
   "codemirror_mode": {
    "name": "ipython",
    "version": 3
   },
   "file_extension": ".py",
   "mimetype": "text/x-python",
   "name": "python",
   "nbconvert_exporter": "python",
   "pygments_lexer": "ipython3",
   "version": "3.10.9"
  }
 },
 "nbformat": 4,
 "nbformat_minor": 5
}
