{
 "cells": [
  {
   "cell_type": "markdown",
   "id": "d13b2dc6-78ad-4fdc-b4d0-78f0c5454ec8",
   "metadata": {
    "tags": []
   },
   "source": [
    "### Naive Bayes classifitere testing results\n",
    "- The test was made to detect the score of 5 out of other scores, to create a balanced dataset.\n",
    "- Two models were tested with and without text tone features, and both gave the same accuracy of 73%\n",
    "- The model performance didn't change even when the text tone features was counts not percentages."
   ]
  },
  {
   "cell_type": "markdown",
   "id": "1a3e312b-7ed1-4eb4-90e8-7bdc89440b12",
   "metadata": {
    "jp-MarkdownHeadingCollapsed": true,
    "tags": []
   },
   "source": [
    "## Install required packages"
   ]
  },
  {
   "cell_type": "markdown",
   "id": "292d14ef-37c6-4456-b861-6aea2a254e64",
   "metadata": {},
   "source": [
    "This script was based on the article below:\n",
    "https://medium.com/@knoldus/how-to-find-correlation-value-of-categorical-variables-23de7e7a9e26\n",
    "\n",
    "I should add a reference for this\n",
    "\n",
    "\"It calculates the correlation/strength-of-association of features in the data-set with both categorical and continuous features using: Pearson’s R for continuous-continuous cases, Correlation Ratio for categorical-continuous cases, Cramer’s V or Theil’s U for categorical-categorical cases.\""
   ]
  },
  {
   "cell_type": "code",
   "execution_count": null,
   "id": "b51e8359-4197-4c14-aec8-7395cc97c57f",
   "metadata": {
    "tags": []
   },
   "outputs": [],
   "source": [
    "# !pip install psycopg2-binary\n",
    "!pip --version\n",
    "\n",
    "!pip install -r requirements.txt"
   ]
  },
  {
   "cell_type": "markdown",
   "id": "e9491380-e3e1-4212-8c19-03ee0a491a07",
   "metadata": {
    "jp-MarkdownHeadingCollapsed": true,
    "tags": []
   },
   "source": [
    "## Do general imports"
   ]
  },
  {
   "cell_type": "code",
   "execution_count": null,
   "id": "284f13a5-123e-4236-9570-e5371ddc3abb",
   "metadata": {
    "tags": []
   },
   "outputs": [],
   "source": [
    "import numpy as np\n",
    "import seaborn as sns\n",
    "import matplotlib.pyplot as plt\n",
    "import pandas as pd\n",
    "import math as math\n",
    "from dython.nominal import associations\n",
    "from dython.nominal import correlation_ratio\n",
    "from dython.data_utils import split_hist\n",
    "\n",
    "\n",
    "pd.set_option('display.max_columns', None)\n"
   ]
  },
  {
   "cell_type": "markdown",
   "id": "d74adbd8-5c1d-433a-84a6-1bc975560573",
   "metadata": {
    "tags": []
   },
   "source": [
    "## Load Datasets"
   ]
  },
  {
   "cell_type": "code",
   "execution_count": null,
   "id": "6e36278e-1525-4524-aac7-cea514884173",
   "metadata": {},
   "outputs": [],
   "source": [
    "from classifiers.testing import cycle_test,TestType,TestInputs,DatasetFeatures\n",
    "from sklearn.naive_bayes import GaussianNB\n",
    "from sklearn.preprocessing import MinMaxScaler\n",
    "from pandas.api.types import CategoricalDtype\n"
   ]
  },
  {
   "cell_type": "markdown",
   "id": "91037703-2711-4811-9098-210c5b5ca160",
   "metadata": {},
   "source": [
    "### Build Dataset"
   ]
  },
  {
   "cell_type": "code",
   "execution_count": null,
   "id": "a1558b83-fca0-464f-b832-8c1cb6ccb1ce",
   "metadata": {},
   "outputs": [],
   "source": [
    "def pre_process(x,y):\n",
    "    num_x = x.select_dtypes(include='number')\n",
    "    x[num_x.columns] = MinMaxScaler().fit_transform(num_x[num_x.columns])\n",
    "    return x,y\n",
    "\n",
    "def build_and_test(input: TestInputs):\n",
    "    nb_classifier = GaussianNB()\n",
    "    nb_clf = nb_classifier.fit(input.x_train,input.y_train['Q1'])\n",
    "    predicted = nb_clf.predict(input.x_test)\n",
    "    return predicted"
   ]
  },
  {
   "cell_type": "markdown",
   "id": "a320e518-bcdd-4214-809a-76f4dc8d55c3",
   "metadata": {},
   "source": [
    "### Gaussian Naive Bayes"
   ]
  },
  {
   "cell_type": "code",
   "execution_count": null,
   "id": "4bd5cc86-2302-4899-b285-db8899dbb68a",
   "metadata": {
    "tags": []
   },
   "outputs": [],
   "source": [
    "cycle_test('Gaussian Naive Bayes',build_and_test,test_type=TestType.FIVE_VS_ALL, drop_categories=True, add_dummies=True, pre_processor=pre_process)"
   ]
  },
  {
   "cell_type": "code",
   "execution_count": null,
   "id": "8c97d6aa-9ae7-4802-9533-731aa29ee5aa",
   "metadata": {
    "tags": []
   },
   "outputs": [],
   "source": [
    "cycle_test('Gaussian Naive Bayes',build_and_test,test_type=TestType.THREE_LEVELS,drop_categories=True, add_dummies=True,pre_processor=pre_process)"
   ]
  },
  {
   "cell_type": "code",
   "execution_count": null,
   "id": "716d6dcd-1972-41aa-966c-013f1746b500",
   "metadata": {
    "tags": []
   },
   "outputs": [],
   "source": [
    "cycle_test('Gaussian Naive Bayes',build_and_test,test_type=TestType.ALL,drop_categories=True, add_dummies=True,pre_processor=pre_process)"
   ]
  }
 ],
 "metadata": {
  "kernelspec": {
   "display_name": "Python 3 (ipykernel)",
   "language": "python",
   "name": "python3"
  },
  "language_info": {
   "codemirror_mode": {
    "name": "ipython",
    "version": 3
   },
   "file_extension": ".py",
   "mimetype": "text/x-python",
   "name": "python",
   "nbconvert_exporter": "python",
   "pygments_lexer": "ipython3",
   "version": "3.10.9"
  }
 },
 "nbformat": 4,
 "nbformat_minor": 5
}
