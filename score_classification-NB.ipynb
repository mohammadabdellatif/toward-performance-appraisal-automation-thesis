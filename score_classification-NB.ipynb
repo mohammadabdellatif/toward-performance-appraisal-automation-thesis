{
 "cells": [
  {
   "cell_type": "markdown",
   "id": "d13b2dc6-78ad-4fdc-b4d0-78f0c5454ec8",
   "metadata": {
    "tags": []
   },
   "source": [
    "### Naive Bayes classifitere testing results\n",
    "- The test was made to detect the score of 5 out of other scores, to create a balanced dataset.\n",
    "- Two models were tested with and without text tone features, and both gave the same accuracy of 73%\n",
    "- The model performance didn't change even when the text tone features was counts not percentages."
   ]
  },
  {
   "cell_type": "markdown",
   "id": "292d14ef-37c6-4456-b861-6aea2a254e64",
   "metadata": {},
   "source": [
    "This script was based on the article below:\n",
    "https://medium.com/@knoldus/how-to-find-correlation-value-of-categorical-variables-23de7e7a9e26\n",
    "\n",
    "I should add a reference for this\n",
    "\n",
    "\"It calculates the correlation/strength-of-association of features in the data-set with both categorical and continuous features using: Pearson’s R for continuous-continuous cases, Correlation Ratio for categorical-continuous cases, Cramer’s V or Theil’s U for categorical-categorical cases.\""
   ]
  },
  {
   "cell_type": "markdown",
   "id": "e9491380-e3e1-4212-8c19-03ee0a491a07",
   "metadata": {
    "tags": []
   },
   "source": [
    "## Do general imports"
   ]
  },
  {
   "cell_type": "code",
   "execution_count": 1,
   "id": "284f13a5-123e-4236-9570-e5371ddc3abb",
   "metadata": {
    "tags": []
   },
   "outputs": [],
   "source": [
    "\n",
    "import pandas as pd\n",
    "\n",
    "pd.set_option('display.max_columns', None)\n"
   ]
  },
  {
   "cell_type": "markdown",
   "id": "d74adbd8-5c1d-433a-84a6-1bc975560573",
   "metadata": {
    "tags": []
   },
   "source": [
    "## Load Datasets"
   ]
  },
  {
   "cell_type": "code",
   "execution_count": 2,
   "id": "6e36278e-1525-4524-aac7-cea514884173",
   "metadata": {},
   "outputs": [],
   "source": [
    "from classifiers.testing import cycle_test,TestType,TestInputs\n",
    "from sklearn.naive_bayes import GaussianNB\n",
    "from sklearn.preprocessing import MinMaxScaler\n"
   ]
  },
  {
   "cell_type": "markdown",
   "id": "91037703-2711-4811-9098-210c5b5ca160",
   "metadata": {},
   "source": [
    "### Build Dataset"
   ]
  },
  {
   "cell_type": "code",
   "execution_count": 3,
   "id": "a1558b83-fca0-464f-b832-8c1cb6ccb1ce",
   "metadata": {},
   "outputs": [],
   "source": [
    "def pre_process(x,y):\n",
    "    num_x = x.select_dtypes(include='number')\n",
    "    x[num_x.columns] = MinMaxScaler().fit_transform(num_x[num_x.columns])\n",
    "    return x,y\n",
    "\n",
    "def build_and_test(input: TestInputs):\n",
    "    nb_classifier = GaussianNB()\n",
    "    nb_clf = nb_classifier.fit(input.x_train,input.y_train['Q1'])\n",
    "    predicted = nb_clf.predict(input.x_test)\n",
    "    return predicted"
   ]
  },
  {
   "cell_type": "markdown",
   "id": "a320e518-bcdd-4214-809a-76f4dc8d55c3",
   "metadata": {},
   "source": [
    "### Gaussian Naive Bayes"
   ]
  },
  {
   "cell_type": "code",
   "execution_count": 4,
   "id": "4bd5cc86-2302-4899-b285-db8899dbb68a",
   "metadata": {
    "tags": []
   },
   "outputs": [
    {
     "name": "stdout",
     "output_type": "stream",
     "text": [
      "==================================================\n",
      "start test Gaussian Naive Bayes to test 5 Vs All\n",
      "Total records in dataset 747\n",
      "total records in learning dataset 747\n",
      "total number of records in learning 603\n",
      "5 Vs All - Without DA features\n",
      "              precision    recall  f1-score   support\n",
      "\n",
      "           0       0.83      0.57      0.68        70\n",
      "           5       0.77      0.93      0.84       111\n",
      "\n",
      "    accuracy                           0.79       181\n",
      "   macro avg       0.80      0.75      0.76       181\n",
      "weighted avg       0.80      0.79      0.78       181\n",
      "\n",
      "5 Vs All - With DA features (%)\n",
      "              precision    recall  f1-score   support\n",
      "\n",
      "           0       0.80      0.59      0.68        70\n",
      "           5       0.78      0.91      0.84       111\n",
      "\n",
      "    accuracy                           0.78       181\n",
      "   macro avg       0.79      0.75      0.76       181\n",
      "weighted avg       0.79      0.78      0.78       181\n",
      "\n",
      "total records in learning dataset 747\n",
      "total number of records in learning 603\n",
      "5 Vs All - With DA features (counts)\n",
      "              precision    recall  f1-score   support\n",
      "\n",
      "           0       0.90      0.61      0.73        70\n",
      "           5       0.80      0.95      0.87       111\n",
      "\n",
      "    accuracy                           0.82       181\n",
      "   macro avg       0.85      0.78      0.80       181\n",
      "weighted avg       0.84      0.82      0.81       181\n",
      "\n",
      "==================================================\n"
     ]
    }
   ],
   "source": [
    "cycle_test('Gaussian Naive Bayes',build_and_test,test_type=TestType.FIVE_VS_ALL, drop_categories=True, add_dummies=True, pre_processor=pre_process)"
   ]
  },
  {
   "cell_type": "code",
   "execution_count": 5,
   "id": "8c97d6aa-9ae7-4802-9533-731aa29ee5aa",
   "metadata": {
    "tags": []
   },
   "outputs": [
    {
     "name": "stdout",
     "output_type": "stream",
     "text": [
      "==================================================\n",
      "start test Gaussian Naive Bayes to test Three Levels\n",
      "Total records in dataset 747\n",
      "total records in learning dataset 747\n",
      "total number of records in learning 603\n",
      "Three Levels - Without DA features\n",
      "              precision    recall  f1-score   support\n",
      "\n",
      "           0       0.67      0.21      0.32        28\n",
      "           1       0.45      0.55      0.49        42\n",
      "           2       0.82      0.89      0.85       111\n",
      "\n",
      "    accuracy                           0.71       181\n",
      "   macro avg       0.65      0.55      0.56       181\n",
      "weighted avg       0.71      0.71      0.69       181\n",
      "\n",
      "Three Levels - With DA features (%)\n",
      "              precision    recall  f1-score   support\n",
      "\n",
      "           0       0.62      0.29      0.39        28\n",
      "           1       0.46      0.64      0.53        42\n",
      "           2       0.86      0.85      0.85       111\n",
      "\n",
      "    accuracy                           0.71       181\n",
      "   macro avg       0.65      0.59      0.59       181\n",
      "weighted avg       0.73      0.71      0.71       181\n",
      "\n",
      "total records in learning dataset 747\n",
      "total number of records in learning 603\n",
      "Three Levels - With DA features (counts)\n",
      "              precision    recall  f1-score   support\n",
      "\n",
      "           0       0.60      0.32      0.42        28\n",
      "           1       0.43      0.45      0.44        42\n",
      "           2       0.82      0.90      0.86       111\n",
      "\n",
      "    accuracy                           0.71       181\n",
      "   macro avg       0.62      0.56      0.57       181\n",
      "weighted avg       0.70      0.71      0.69       181\n",
      "\n",
      "==================================================\n"
     ]
    }
   ],
   "source": [
    "cycle_test('Gaussian Naive Bayes',build_and_test,test_type=TestType.THREE_LEVELS,drop_categories=True, add_dummies=True,pre_processor=pre_process)"
   ]
  },
  {
   "cell_type": "code",
   "execution_count": 6,
   "id": "716d6dcd-1972-41aa-966c-013f1746b500",
   "metadata": {
    "tags": []
   },
   "outputs": [
    {
     "name": "stdout",
     "output_type": "stream",
     "text": [
      "==================================================\n",
      "start test Gaussian Naive Bayes to test All classes\n",
      "Total records in dataset 747\n",
      "total records in learning dataset 747\n",
      "total number of records in learning 603\n",
      "All classes - Without DA features\n",
      "              precision    recall  f1-score   support\n",
      "\n",
      "           1       0.33      0.06      0.10        18\n",
      "           2       0.22      0.40      0.29        10\n",
      "           3       0.09      0.55      0.16        20\n",
      "           4       0.17      0.27      0.21        22\n",
      "           5       0.75      0.03      0.05       111\n",
      "\n",
      "    accuracy                           0.14       181\n",
      "   macro avg       0.31      0.26      0.16       181\n",
      "weighted avg       0.54      0.14      0.10       181\n",
      "\n",
      "All classes - With DA features (%)\n",
      "              precision    recall  f1-score   support\n",
      "\n",
      "           1       0.25      0.06      0.09        18\n",
      "           2       0.25      0.50      0.33        10\n",
      "           3       0.17      0.50      0.25        20\n",
      "           4       0.17      0.32      0.22        22\n",
      "           5       0.98      0.50      0.66       111\n",
      "\n",
      "    accuracy                           0.43       181\n",
      "   macro avg       0.36      0.37      0.31       181\n",
      "weighted avg       0.68      0.43      0.49       181\n",
      "\n",
      "total records in learning dataset 747\n",
      "total number of records in learning 603\n",
      "All classes - With DA features (counts)\n",
      "              precision    recall  f1-score   support\n",
      "\n",
      "           1       0.14      0.06      0.08        18\n",
      "           2       0.12      0.20      0.15        10\n",
      "           3       0.19      0.25      0.22        20\n",
      "           4       0.21      0.64      0.32        22\n",
      "           5       0.97      0.57      0.72       111\n",
      "\n",
      "    accuracy                           0.47       181\n",
      "   macro avg       0.33      0.34      0.30       181\n",
      "weighted avg       0.66      0.47      0.52       181\n",
      "\n",
      "==================================================\n"
     ]
    }
   ],
   "source": [
    "cycle_test('Gaussian Naive Bayes',build_and_test,test_type=TestType.ALL,drop_categories=True, add_dummies=True,pre_processor=pre_process)"
   ]
  }
 ],
 "metadata": {
  "kernelspec": {
   "display_name": "Python 3 (ipykernel)",
   "language": "python",
   "name": "python3"
  },
  "language_info": {
   "codemirror_mode": {
    "name": "ipython",
    "version": 3
   },
   "file_extension": ".py",
   "mimetype": "text/x-python",
   "name": "python",
   "nbconvert_exporter": "python",
   "pygments_lexer": "ipython3",
   "version": "3.10.9"
  }
 },
 "nbformat": 4,
 "nbformat_minor": 5
}
