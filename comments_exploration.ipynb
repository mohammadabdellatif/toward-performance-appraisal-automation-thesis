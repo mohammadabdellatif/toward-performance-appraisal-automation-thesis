{
 "cells": [
  {
   "cell_type": "code",
   "execution_count": null,
   "id": "f93adb36-b747-4ea5-8ee0-2f8cc7c8bab7",
   "metadata": {
    "tags": []
   },
   "outputs": [],
   "source": [
    "### Note\n",
    "# LDA part was inherited from this article https://towardsdatascience.com/end-to-end-topic-modeling-in-python-latent-dirichlet-allocation-lda-35ce4ed6b3e0"
   ]
  },
  {
   "cell_type": "code",
   "execution_count": null,
   "id": "904a2441-c43d-46dc-b422-17758ab01617",
   "metadata": {
    "tags": []
   },
   "outputs": [],
   "source": [
    "# !pip install psycopg2-binary\n",
    "!pip --version\n",
    "\n",
    "!pip install -r requirements.txt"
   ]
  },
  {
   "cell_type": "code",
   "execution_count": null,
   "id": "02dd2fb9-aaf3-46da-902e-32b9e3403ee9",
   "metadata": {
    "tags": []
   },
   "outputs": [],
   "source": [
    "\n",
    "import pandas as pd\n",
    "from matplotlib import pyplot as plt\n",
    "\n",
    "from exploration.comments_exploration import cloud\n",
    "\n",
    "comments_df = pd.read_csv('./temp_data/pp_utterances.csv')\n",
    "\n",
    "len(comments_df)"
   ]
  },
  {
   "cell_type": "code",
   "execution_count": null,
   "id": "0964c157",
   "metadata": {},
   "outputs": [],
   "source": [
    "comments_df.head(3)"
   ]
  },
  {
   "cell_type": "code",
   "execution_count": null,
   "id": "e73a7358",
   "metadata": {},
   "outputs": [],
   "source": [
    "comments_df[['issueid', 'author_role']].groupby('author_role').count()\\\n",
    ".reset_index()\\\n",
    ".rename(columns={'issueid':'Count','author_role':'Author Role'})\\\n",
    ".transpose()"
   ]
  },
  {
   "cell_type": "code",
   "execution_count": null,
   "id": "a138d41f-68be-4380-9599-ebee528a2101",
   "metadata": {
    "tags": []
   },
   "outputs": [],
   "source": [
    "comments_df = comments_df[~pd.isna(comments_df['pp_actionbody'])]\n",
    "len(comments_df)"
   ]
  },
  {
   "cell_type": "code",
   "execution_count": null,
   "id": "d68a2289-aa5f-43a9-9f6b-03601e59af30",
   "metadata": {},
   "outputs": [],
   "source": [
    "comments_df = comments_df[~((comments_df['author'].isin(['admin','u003']))\n",
    "                        & (comments_df['comment_seq'] < 3)\n",
    "                        & (comments_df['author_role'] == 'others'))]\n",
    "\n",
    "comments_df = comments_df[~pd.isna(comments_df['pp_actionbody'])]"
   ]
  },
  {
   "cell_type": "code",
   "execution_count": null,
   "id": "2812a92c-b332-4da4-81b7-b658fbbdf2e9",
   "metadata": {
    "tags": []
   },
   "outputs": [],
   "source": [
    "comments_df[['issueid', 'author_role']].groupby('author_role').count()\\\n",
    ".reset_index()\\\n",
    ".rename(columns={'issueid':'Count','author_role':'Author Role'})\\\n",
    ".transpose()"
   ]
  },
  {
   "cell_type": "code",
   "execution_count": null,
   "id": "cf637c86-7dc7-42eb-beb1-490e1b4afdbd",
   "metadata": {
    "tags": []
   },
   "outputs": [],
   "source": [
    "# na_actionbody_df = comments_df[pd.isna(comments_df['pp_actionbody']) & ~pd.isna(comments_df['actionbody'])]\n",
    "# print(len(na_actionbody_df))\n",
    "# na_actionbody_df.to_csv('./temp_data/na_utterances.csv')"
   ]
  },
  {
   "cell_type": "code",
   "execution_count": null,
   "id": "f1b234cf-7600-40fb-b5ad-1cb667c345d5",
   "metadata": {
    "tags": []
   },
   "outputs": [],
   "source": [
    "# comments_df = comments_df[~comments_df['author'].isin(['admin','u003'])]\n",
    "cloud_df = comments_df[['author_role','pp_actionbody']]\n",
    "cloud_df = cloud_df.drop_duplicates()\n",
    "len(cloud_df)"
   ]
  },
  {
   "cell_type": "markdown",
   "id": "f9514583",
   "metadata": {},
   "source": [
    "## word cloud"
   ]
  },
  {
   "cell_type": "code",
   "execution_count": null,
   "id": "8db2052c-4c6a-4b41-acec-5ccc40c8ba95",
   "metadata": {
    "tags": []
   },
   "outputs": [],
   "source": [
    "max_words = 200\n",
    "\n",
    "fig = plt.figure(figsize=(10,6))\n",
    "ax1 = (fig.add_subplot(111))\n",
    "ax1.set_title('Utterances Words Cloud')\n",
    "cloud(utterances_df=cloud_df, ax=ax1, max_words = max_words,width=4000)"
   ]
  },
  {
   "cell_type": "code",
   "execution_count": null,
   "id": "a8fb567f",
   "metadata": {},
   "outputs": [],
   "source": [
    "others_df = cloud_df[cloud_df['author_role'] == 'others']\n",
    "assignee_df = cloud_df[cloud_df['author_role'] == 'assignee']\n",
    "reporter_df = cloud_df[cloud_df['author_role'] == 'reporter']\n",
    "\n",
    "fig = plt.figure(figsize=(6, 6))\n",
    "ax1 = (fig.add_subplot(111))\n",
    "ax1.set_title('Others')\n",
    "cloud(utterances_df=others_df, ax=ax1, max_words = max_words)\n",
    "\n",
    "fig = plt.figure(figsize=(6, 6))\n",
    "ax2 = (fig.add_subplot(111))\n",
    "ax2.set_title('Assignee')\n",
    "cloud(utterances_df=assignee_df, ax=ax2, max_words = max_words)\n",
    "\n",
    "fig = plt.figure(figsize=(6, 6))\n",
    "ax3 = (fig.add_subplot(111))\n",
    "ax3.set_title('Reporter')\n",
    "cloud(utterances_df=reporter_df, ax=ax3, max_words = max_words)"
   ]
  },
  {
   "cell_type": "markdown",
   "id": "f188f62c",
   "metadata": {},
   "source": [
    "### LDA"
   ]
  },
  {
   "cell_type": "code",
   "execution_count": null,
   "id": "c8cf484d",
   "metadata": {},
   "outputs": [],
   "source": [
    "# from exploration.comments_exploration import utterances_lda\n",
    "# import pyLDAvis\n",
    "\n",
    "# # Visualize the topics\n",
    "# pyLDAvis.enable_notebook()\n",
    "\n",
    "# lda_model = utterances_lda(comments_df, num_topics=8, random_state=42)\n",
    "\n",
    "# lda_model.lda_visualize"
   ]
  },
  {
   "cell_type": "code",
   "execution_count": null,
   "id": "04731a3e",
   "metadata": {},
   "outputs": [],
   "source": [
    "# lda_model = utterances_lda(comments_df[comments_df['author_role'] == 'reporter'], num_topics=7, random_state=42)\n",
    "\n",
    "# lda_model.lda_visualize"
   ]
  },
  {
   "cell_type": "code",
   "execution_count": null,
   "id": "9c030dc8",
   "metadata": {},
   "outputs": [],
   "source": [
    "# lda_model = utterances_lda(comments_df[comments_df['author_role'] == 'assignee'], num_topics=6,random_state=42)\n",
    "\n",
    "# lda_model.lda_visualize"
   ]
  },
  {
   "cell_type": "code",
   "execution_count": null,
   "id": "6e6416fe",
   "metadata": {
    "tags": []
   },
   "outputs": [],
   "source": [
    "# lda_model = utterances_lda(comments_df[comments_df['author_role'] == 'others'], num_topics=8,random_state=42)\n",
    "\n",
    "# lda_model.lda_visualize"
   ]
  }
 ],
 "metadata": {
  "kernelspec": {
   "display_name": "Python 3 (ipykernel)",
   "language": "python",
   "name": "python3"
  },
  "language_info": {
   "codemirror_mode": {
    "name": "ipython",
    "version": 3
   },
   "file_extension": ".py",
   "mimetype": "text/x-python",
   "name": "python",
   "nbconvert_exporter": "python",
   "pygments_lexer": "ipython3",
   "version": "3.10.9"
  }
 },
 "nbformat": 4,
 "nbformat_minor": 5
}
