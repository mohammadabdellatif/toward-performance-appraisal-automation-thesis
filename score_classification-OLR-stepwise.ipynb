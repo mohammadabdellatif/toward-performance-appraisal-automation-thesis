{
 "cells": [
  {
   "cell_type": "markdown",
   "id": "3b9879a7-7b84-4bf1-8591-fceaf757061e",
   "metadata": {},
   "source": [
    "This is based on a script taken from https://www.kaggle.com/code/goyami/steps-for-stepwise-feature-selection\n",
    "### Conculsion\n",
    "- Multiple tests with K 3, 5, 7, and 9\n",
    "- The performance didn't change after 7, as the accuracy was 78%, 81%, 83%, and 83%. Therefore, k=7 was selected.\n",
    "- The performance didn't change without the utterances classes features"
   ]
  },
  {
   "cell_type": "markdown",
   "id": "292d14ef-37c6-4456-b861-6aea2a254e64",
   "metadata": {},
   "source": [
    "This script was based on the article below:\n",
    "https://medium.com/@knoldus/how-to-find-correlation-value-of-categorical-variables-23de7e7a9e26\n",
    "\n",
    "I should add a reference for this\n",
    "\n",
    "\"It calculates the correlation/strength-of-association of features in the data-set with both categorical and continuous features using: Pearson’s R for continuous-continuous cases, Correlation Ratio for categorical-continuous cases, Cramer’s V or Theil’s U for categorical-categorical cases.\""
   ]
  },
  {
   "cell_type": "markdown",
   "id": "e9491380-e3e1-4212-8c19-03ee0a491a07",
   "metadata": {
    "tags": []
   },
   "source": [
    "## Do general imports"
   ]
  },
  {
   "cell_type": "code",
   "execution_count": null,
   "id": "284f13a5-123e-4236-9570-e5371ddc3abb",
   "metadata": {
    "tags": []
   },
   "outputs": [],
   "source": [
    "from classifiers.testing import cycle_test,TestType,TestInputs,DatasetFeatures\n",
    "import classifiers.ml_dataset_preparation as mdp \n",
    "from pandas.api.types import CategoricalDtype\n",
    "import patsy\n",
    "import pandas as pd\n",
    "\n",
    "score_category = CategoricalDtype(categories=[0, 1, 2], ordered=True)"
   ]
  },
  {
   "cell_type": "markdown",
   "id": "0d8820cc-59cf-4d2f-a792-1235564deb8a",
   "metadata": {},
   "source": [
    "### Ordinal Logistic Regression"
   ]
  },
  {
   "cell_type": "code",
   "execution_count": null,
   "id": "27f5c956-56d6-4142-aeda-07fa183252fc",
   "metadata": {
    "tags": []
   },
   "outputs": [],
   "source": [
    "from statsmodels.miscmodels.ordinal_model import OrderedModel\n",
    "from sklearn.preprocessing import MinMaxScaler,StandardScaler\n",
    "import operator\n",
    "\n",
    "features = ['utr_assignee_open_close','utr_assignee_inform','utr_assignee_user_mention','utr_assignee_resolution',\n",
    "            'utr_assignee_technical','utr_assignee_investigation','utr_assignee_assignment_update','utr_assignee_reminder','utr_assignee_status_update',\n",
    "            'utr_assignee_support_session',\n",
    "            'utr_reporter_user_mention','utr_reporter_open_close','utr_reporter_support_session','utr_reporter_request',\n",
    "            'utr_reporter_attach_info','utr_reporter_resolution','utr_reporter_inform','utr_reporter_technical',\n",
    "            'utr_others_open_close','utr_others_user_mention','utr_others_investigation','utr_others_reminder',\n",
    "            'utr_others_assignment_update','utr_others_technical','utr_others_request','utr_others_resolution_update',\n",
    "            'utr_others_update_request','utr_others_resolution',\n",
    "            'processing_steps','wf_total_time']"
   ]
  },
  {
   "cell_type": "code",
   "execution_count": null,
   "id": "e6eac0b6-c01b-43f5-8a26-e6284806a1fc",
   "metadata": {
    "tags": []
   },
   "outputs": [],
   "source": [
    "def pre_process(x,y):\n",
    "    num_x = x.select_dtypes(include='number')\n",
    "    x[num_x.columns] = StandardScaler().fit_transform(num_x[num_x.columns])\n",
    "    return x,y"
   ]
  },
  {
   "cell_type": "code",
   "execution_count": null,
   "id": "4abbf9db-74f7-40cf-b24e-0c58e27e8d8c",
   "metadata": {
    "tags": []
   },
   "outputs": [],
   "source": [
    "import statsmodels.api as sm\n",
    "import pandas as pd"
   ]
  },
  {
   "cell_type": "code",
   "execution_count": null,
   "id": "6e9efb9f-7a07-4ba9-bee7-5d31d515b86d",
   "metadata": {
    "tags": []
   },
   "outputs": [],
   "source": [
    "issues_df = pd.read_csv('./temp_data/scored_issues_snapshots_w2v_cls.csv', index_col=['idx'])\n",
    "\n",
    "X, y = mdp.build_dataset(issues_df.copy(), \n",
    "                          class_to_predict={5:2,4:1,3:1,2:0,1:0},\n",
    "                          utterances_as_percentage=True,\n",
    "                          add_dummies=False,                            \n",
    "                          drop_categories=True)\n",
    "X, y = pre_process(X,y)"
   ]
  },
  {
   "cell_type": "code",
   "execution_count": null,
   "id": "0dc9ab57-8e8c-4e96-b023-d388a1148190",
   "metadata": {
    "tags": []
   },
   "outputs": [],
   "source": [
    "def processSubset(X, y, feature_set):\n",
    "    mod_prob = OrderedModel(y['Q1'],\n",
    "                        X[feature_set],\n",
    "                        distr='logit')\n",
    "    # hasconst=False\n",
    "    res_log = mod_prob.fit(method='bfgs',maxiter=1000,disp=0)\n",
    "    return {'model':res_log, 'AIC':res_log.aic}\n",
    "\n",
    "print(processSubset(X=X, y=y, feature_set=features))"
   ]
  },
  {
   "cell_type": "code",
   "execution_count": null,
   "id": "b520fd1a-0c79-46f3-9aa8-e0a5df1c322b",
   "metadata": {
    "tags": []
   },
   "outputs": [],
   "source": [
    "import itertools\n",
    "\n",
    "# return the lowest AIC\n",
    "def getBest(X, y, k):\n",
    "    results = []\n",
    "    for combo in itertools.combinations(features, k):\n",
    "        combo = list(combo)\n",
    "        try:\n",
    "            results.append(processSubset(X, y, feature_set=combo))\n",
    "        except Exception as e:\n",
    "            print(f'fail to create a model {combo} {e}')\n",
    "    models = pd.DataFrame(results)\n",
    "    best_model = models.loc[models['AIC'].argmin()]\n",
    "    print('Processed', models.shape[0], 'models on', k)\n",
    "    \n",
    "    return best_model,models\n",
    "\n",
    "best,models = getBest(X, y, k=1)\n",
    "print(best)"
   ]
  },
  {
   "cell_type": "code",
   "execution_count": null,
   "id": "0165312a-6cdf-4d09-bfef-e8d083f021b1",
   "metadata": {
    "tags": []
   },
   "outputs": [],
   "source": [
    "pd.set_option('display.max_colwidth', None)\n",
    "\n",
    "models.sort_values(by='AIC')\n",
    "models.loc[models['AIC'].argmax()]['model'].model.exog_names"
   ]
  },
  {
   "cell_type": "code",
   "execution_count": null,
   "id": "de4894d6-7010-4a65-bae7-9cdbd830a05c",
   "metadata": {
    "tags": []
   },
   "outputs": [],
   "source": [
    "def forward(X, y, predictors):\n",
    "    remaining_predictors = [p for p in X.columns if p not in predictors]\n",
    "    results=[]\n",
    "    for p in remaining_predictors:\n",
    "        results.append(processSubset(X, y, feature_set=predictors+[p]))\n",
    "    models = pd.DataFrame(results)\n",
    "    \n",
    "    best_model = models.loc[models['AIC'].argmin()]\n",
    "    print('Selected predictors:', best_model['model'].model.exog_names, 'AIC:', best_model['AIC'])\n",
    "    return best_model\n",
    "\n",
    "def backward(X,y,predictors):\n",
    "    results = []\n",
    "   \n",
    "    for combo in itertools.combinations(predictors, len(predictors) - 1):\n",
    "        results.append(processSubset(X=X, y= y,feature_set=list(combo)))\n",
    "    models = pd.DataFrame(results)\n",
    "   \n",
    "    best_model = models.loc[models['AIC'].argmin()]\n",
    "    print('Selected predictors:',best_model['model'].model.exog_names,' AIC:',best_model['AIC'] )\n",
    "    return best_model"
   ]
  },
  {
   "cell_type": "code",
   "execution_count": null,
   "id": "de041c1e-fd0b-42ea-a94e-292b77e4cc20",
   "metadata": {
    "tags": []
   },
   "outputs": [],
   "source": [
    "def forward_model(X,y):\n",
    "    Fmodels = pd.DataFrame(columns=[\"AIC\", \"model\"])\n",
    "    \n",
    "    predictors = []\n",
    "    \n",
    "    for i in range(1, len(X.columns) + 1):\n",
    "        Forward_result = forward(X=X,y=y,predictors=predictors)\n",
    "        if i > 1:\n",
    "            if Forward_result['AIC'] > Fmodel_before:\n",
    "                break\n",
    "        Fmodels.loc[i] = Forward_result\n",
    "        predictors = Fmodels.loc[i][\"model\"].model.exog_names\n",
    "        Fmodel_before = Fmodels.loc[i][\"AIC\"]\n",
    "        predictors = [ k for k in predictors if k != '0/1' and k != '1/2']\n",
    "\n",
    "    return(Fmodels['model'][len(Fmodels['model'])])"
   ]
  },
  {
   "cell_type": "code",
   "execution_count": null,
   "id": "044bc9dc-d79b-4e61-9db2-153988c22ef5",
   "metadata": {
    "tags": []
   },
   "outputs": [],
   "source": [
    "def Stepwise_model(X,y):\n",
    "    Stepmodels = pd.DataFrame(columns=[\"AIC\", \"model\"])\n",
    "    predictors = ['utr_assignee_assignment_update']\n",
    "    Smodel_before = processSubset(X,y,predictors)['AIC']\n",
    "    \n",
    "    for i in range(1, len(X.columns) + 1):\n",
    "        Forward_result = forward(X=X, y=y, predictors=predictors) # constant added\n",
    "        print('forward')\n",
    "        Stepmodels.loc[i] = Forward_result\n",
    "        predictors = Stepmodels.loc[i][\"model\"].model.exog_names\n",
    "        predictors = [ k for k in predictors if k != '0/1' and k != '1/2']\n",
    "        Backward_result = backward(X=X, y=y, predictors=predictors)  # Check if there is anything to remove\n",
    "        if Backward_result['AIC']< Forward_result['AIC']:\n",
    "            Stepmodels.loc[i] = Backward_result\n",
    "            predictors = Stepmodels.loc[i][\"model\"].model.exog_names\n",
    "            Smodel_before = Stepmodels.loc[i][\"AIC\"]\n",
    "            predictors = [ k for k in predictors if k != '0/1' and k != '1/2']\n",
    "            print('backward')\n",
    "        if Stepmodels.loc[i]['AIC']> Smodel_before:\n",
    "            break\n",
    "        else:\n",
    "            Smodel_before = Stepmodels.loc[i][\"AIC\"]\n",
    "    return (Stepmodels['model'][len(Stepmodels['model'])])"
   ]
  },
  {
   "cell_type": "code",
   "execution_count": null,
   "id": "52c6d62b-c4d0-4e10-adf4-3c56f4a71831",
   "metadata": {
    "tags": []
   },
   "outputs": [],
   "source": [
    "Forward_best_model = Stepwise_model(X=X[features], y= y)\n",
    "Forward_best_model"
   ]
  },
  {
   "cell_type": "code",
   "execution_count": null,
   "id": "6209da9d-b19b-4993-b021-e0c82d5df91c",
   "metadata": {
    "tags": []
   },
   "outputs": [],
   "source": [
    "Forward_best_model.model.exog_names"
   ]
  }
 ],
 "metadata": {
  "kernelspec": {
   "display_name": "Python 3 (ipykernel)",
   "language": "python",
   "name": "python3"
  },
  "language_info": {
   "codemirror_mode": {
    "name": "ipython",
    "version": 3
   },
   "file_extension": ".py",
   "mimetype": "text/x-python",
   "name": "python",
   "nbconvert_exporter": "python",
   "pygments_lexer": "ipython3",
   "version": "3.10.9"
  }
 },
 "nbformat": 4,
 "nbformat_minor": 5
}
