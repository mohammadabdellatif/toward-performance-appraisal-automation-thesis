{
 "cells": [
  {
   "cell_type": "markdown",
   "id": "1a3e312b-7ed1-4eb4-90e8-7bdc89440b12",
   "metadata": {
    "tags": []
   },
   "source": [
    "## Install required packages"
   ]
  },
  {
   "cell_type": "markdown",
   "id": "292d14ef-37c6-4456-b861-6aea2a254e64",
   "metadata": {},
   "source": [
    "This script was based on the article below:\n",
    "https://medium.com/@knoldus/how-to-find-correlation-value-of-categorical-variables-23de7e7a9e26\n",
    "\n",
    "I should add a reference for this\n",
    "\n",
    "\"It calculates the correlation/strength-of-association of features in the data-set with both categorical and continuous features using: Pearson’s R for continuous-continuous cases, Correlation Ratio for categorical-continuous cases, Cramer’s V or Theil’s U for categorical-categorical cases.\""
   ]
  },
  {
   "cell_type": "code",
   "execution_count": null,
   "id": "b51e8359-4197-4c14-aec8-7395cc97c57f",
   "metadata": {
    "tags": []
   },
   "source": [
    "# !pip install psycopg2-binary\n",
    "!pip --version\n",
    "\n",
    "!pip install -r requirements.txt"
   ],
   "outputs": []
  },
  {
   "cell_type": "markdown",
   "id": "e9491380-e3e1-4212-8c19-03ee0a491a07",
   "metadata": {
    "tags": []
   },
   "source": [
    "## Do general imports"
   ]
  },
  {
   "cell_type": "code",
   "execution_count": null,
   "id": "284f13a5-123e-4236-9570-e5371ddc3abb",
   "metadata": {
    "tags": []
   },
   "source": [
    "import numpy as np\n",
    "import seaborn as sns\n",
    "import matplotlib.pyplot as plt\n",
    "import pandas as pd\n",
    "import math as math\n",
    "from dython.nominal import associations\n",
    "from dython.nominal import correlation_ratio\n",
    "from dython.data_utils import split_hist\n",
    "\n",
    "\n",
    "pd.set_option('display.max_columns', None)\n",
    "plt.rcParams.update({'font.size': 14})\n"
   ],
   "outputs": []
  },
  {
   "cell_type": "markdown",
   "id": "d74adbd8-5c1d-433a-84a6-1bc975560573",
   "metadata": {
    "tags": []
   },
   "source": [
    "## Load Datasets"
   ]
  },
  {
   "cell_type": "code",
   "execution_count": null,
   "id": "6e36278e-1525-4524-aac7-cea514884173",
   "metadata": {},
   "source": [
    "issues_df = pd.read_csv('./temp_data/issues.csv', index_col=[\"id\"])\n",
    "issues_df['issue_created'] = pd.to_datetime(issues_df['issue_created'])\n",
    "print(F'Total records in dataset %i' % len(issues_df))\n",
    "issues_df.head(1)"
   ],
   "outputs": []
  },
  {
   "cell_type": "code",
   "execution_count": null,
   "id": "de7edc4b-01aa-4488-89e0-6e4c9a94bfba",
   "metadata": {},
   "source": [
    "# types = ['Ticket','Service','Deployment','HD Service','Project']\n",
    "types = ['Ticket','Deployment','HD Service']\n",
    "\n",
    "issues_df = issues_df[(issues_df['issue_proj'].str.match('\\w{2}\\d{2}\\w{1,}'))\n",
    "                      & (issues_df['issue_type'].isin(types))\n",
    "                      & (issues_df['issue_created'] >= '2022-01-01')\n",
    "                      & (issues_df['issue_created'] <= '2022-12-31')\n",
    "                      & pd.notna(issues_df['issue_resolution_date'])]\n",
    "                      # & (issues_df['issue_priority'] == 'High')]\n",
    "print(F'Total records after filter %i' % len(issues_df))\n",
    "\n",
    "issues_df.head(1)"
   ],
   "outputs": []
  },
  {
   "cell_type": "code",
   "execution_count": null,
   "id": "0e0f010b-9b8e-4f43-ae81-84423b2a580e",
   "metadata": {
    "tags": []
   },
   "source": [
    "included = ['issue_comments_count','issue_contr_count','processing_steps','wf_total_time','issue_priority']\n",
    "\n",
    "df = issues_df.drop(columns=[c for c in issues_df.columns if not c.startswith('wf_') and c not in included])\n",
    "for i,c in enumerate(df.columns):\n",
    "    if df.dtypes[i] == object:\n",
    "        continue\n",
    "    df.loc[pd.isna(df[c]),c] = 0\n",
    "    df[c] = (df[c]-df[c].mean()) / df[c].std()\n",
    "    df.rename(columns={c:c.replace('wf_','').replace('_',' ')},inplace=True)\n",
    "\n",
    "a_results = associations(df,compute_only=True)\n",
    "\n",
    "\n",
    "corr = a_results['corr']\n",
    "corr = corr.pow(2)"
   ],
   "outputs": []
  },
  {
   "cell_type": "code",
   "execution_count": null,
   "id": "c050df36-b40c-4396-890c-7231683adcf0",
   "metadata": {
    "tags": []
   },
   "source": [
    "fig = plt.figure(figsize=(30, 25))\n",
    "ax = fig.add_subplot(111)\n",
    "\n",
    "# Generate a mask for the upper triangle\n",
    "mask = np.triu(np.ones_like(corr, dtype=bool))\n",
    "\n",
    "# Generate a custom diverging colormap\n",
    "cmap = sns.diverging_palette(230, 20, as_cmap=True)\n",
    "\n",
    "# Draw the heatmap with the mask and correct aspect rati\n",
    "sns.heatmap(corr,mask=mask, vmax=1,vmin=0, center=0,\n",
    "            square=True, linewidths=.5, cbar_kws={\"shrink\": .75}, ax = ax,annot=True,fmt=\".4f\",)"
   ],
   "outputs": []
  },
  {
   "cell_type": "code",
   "execution_count": null,
   "id": "a296be95-d3ef-4d3c-8faa-7211066c6651",
   "metadata": {},
   "source": [
    "segnificant = ['total time','issue contr count','issue comments count','processing steps','in progress','validation','waiting','pending deployment']\n",
    "corr = corr.loc[segnificant,segnificant]\n",
    "renames = {'issue contr count':'contributors','issue comments count':'comments count'}\n",
    "corr.rename(columns=renames,index=renames,inplace=True)\n",
    "corr = corr.pow(2)"
   ],
   "outputs": []
  },
  {
   "cell_type": "code",
   "execution_count": null,
   "id": "b45014f2-e13d-4d78-a9fd-60e920d1206a",
   "metadata": {
    "tags": []
   },
   "source": [
    "fig = plt.figure(figsize=(10, 10))\n",
    "ax = fig.add_subplot(111)\n",
    "\n",
    "# Generate a mask for the upper triangle\n",
    "mask = np.triu(np.ones_like(corr, dtype=bool))\n",
    "\n",
    "for i in range(len(mask)):\n",
    "    mask[i][i] = False\n",
    "\n",
    "# Generate a custom diverging colormap\n",
    "cmap = sns.diverging_palette(230, 20, as_cmap=True)\n",
    "\n",
    "# Draw the heatmap with the mask and correct aspect rati\n",
    "sns.heatmap(corr,mask=mask, vmax=1,vmin=0, center=0,\n",
    "            square=True, linewidths=1, cbar_kws={\"shrink\": .6}, ax = ax,annot=True,fmt=\".4f\",)"
   ],
   "outputs": []
  },
  {
   "cell_type": "markdown",
   "id": "01c68843-2bd6-43b9-99aa-1a498ebffc3e",
   "metadata": {},
   "source": [
    "### Conclusions\n",
    "* It was found there is a positive correlation between workflow total time and how much time an issue spent in waiting, validation, and in progress (ordered from hightest to lowest correlation)\n",
    "* Also, a positive correlation exists between workflow total time and comments count, it is not very high."
   ]
  },
  {
   "cell_type": "code",
   "execution_count": null,
   "id": "bb920830-c97e-4b5e-9fc9-85125a861979",
   "metadata": {
    "tags": []
   },
   "source": [
    "corr['total time'].sort_values(ascending=False)"
   ],
   "outputs": []
  },
  {
   "cell_type": "code",
   "execution_count": null,
   "id": "773c31e2-7c8c-4694-830b-7c879f3a145e",
   "metadata": {
    "tags": []
   },
   "source": [
    "fig = plt.figure(figsize=(10,10))\n",
    "ax = fig.add_subplot(331)\n",
    "ax.scatter(x=issues_df['wf_total_time'],y=issues_df['wf_waiting'])\n",
    "ax.set_xlabel('Total time')\n",
    "ax.set_xticklabels([])\n",
    "ax.set_yticklabels([])\n",
    "ax.set_ylabel('Waiting')\n",
    "\n",
    "ax = fig.add_subplot(332)\n",
    "ax.scatter(x=issues_df['wf_total_time'],y=issues_df['wf_validation'])\n",
    "ax.set_xticklabels([])\n",
    "ax.set_yticklabels([])\n",
    "ax.set_xlabel('Total time')\n",
    "ax.set_ylabel('Validation')\n",
    "\n",
    "ax = fig.add_subplot(333)\n",
    "ax.scatter(x=issues_df['wf_total_time'],y=issues_df['wf_in_progress'])\n",
    "ax.set_xticklabels([])\n",
    "ax.set_yticklabels([])\n",
    "ax.set_xlabel('Total time')\n",
    "ax.set_ylabel('In Progress')\n",
    "\n",
    "# ax = fig.add_subplot(334)\n",
    "# ax.scatter(x=issues_df['wf_total_time'],y=issues_df['processing_steps'])\n",
    "# ax.set_xlabel('Total time')\n",
    "# ax.set_ylabel('Processing Steps')\n",
    "\n",
    "# ax = fig.add_subplot(335)\n",
    "# ax.scatter(x=issues_df['wf_total_time'],y=issues_df['issue_comments_count'])\n",
    "# ax.set_xlabel('Total time')\n",
    "# ax.set_ylabel('Comments Count')"
   ],
   "outputs": []
  }
 ],
 "metadata": {
  "kernelspec": {
   "display_name": "Python 3 (ipykernel)",
   "language": "python",
   "name": "python3"
  },
  "language_info": {
   "codemirror_mode": {
    "name": "ipython",
    "version": 3
   },
   "file_extension": ".py",
   "mimetype": "text/x-python",
   "name": "python",
   "nbconvert_exporter": "python",
   "pygments_lexer": "ipython3",
   "version": "3.10.9"
  }
 },
 "nbformat": 4,
 "nbformat_minor": 5
}
