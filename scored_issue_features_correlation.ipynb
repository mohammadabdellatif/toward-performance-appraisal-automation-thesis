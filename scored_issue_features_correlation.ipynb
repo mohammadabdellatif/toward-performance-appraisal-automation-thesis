{
 "cells": [
  {
   "cell_type": "markdown",
   "id": "292d14ef-37c6-4456-b861-6aea2a254e64",
   "metadata": {},
   "source": [
    "This script was based on the article below:\n",
    "https://medium.com/@knoldus/how-to-find-correlation-value-of-categorical-variables-23de7e7a9e26\n",
    "\n",
    "I should add a reference for this\n",
    "\n",
    "\"It calculates the correlation/strength-of-association of features in the data-set with both categorical and continuous features using: Pearson’s R for continuous-continuous cases, Correlation Ratio for categorical-continuous cases, Cramer’s V or Theil’s U for categorical-categorical cases.\""
   ]
  },
  {
   "cell_type": "markdown",
   "id": "e9491380-e3e1-4212-8c19-03ee0a491a07",
   "metadata": {
    "jp-MarkdownHeadingCollapsed": true,
    "tags": []
   },
   "source": [
    "## Do general imports"
   ]
  },
  {
   "cell_type": "code",
   "execution_count": null,
   "id": "284f13a5-123e-4236-9570-e5371ddc3abb",
   "metadata": {
    "tags": []
   },
   "outputs": [],
   "source": [
    "import matplotlib.pyplot as plt\n",
    "import numpy as np\n",
    "import pandas as pd\n",
    "import seaborn as sns\n",
    "\n",
    "pd.set_option('display.max_columns', None)"
   ]
  },
  {
   "cell_type": "markdown",
   "id": "d74adbd8-5c1d-433a-84a6-1bc975560573",
   "metadata": {
    "tags": []
   },
   "source": [
    "## Load Datasets"
   ]
  },
  {
   "cell_type": "code",
   "execution_count": null,
   "id": "6e36278e-1525-4524-aac7-cea514884173",
   "metadata": {},
   "outputs": [],
   "source": [
    "import classifiers.ml_dataset_preparation as dp\n",
    "\n",
    "issues_df = pd.read_csv('./temp_data/scored_issues_snapshots_w2v_cls.csv', index_col=[\"idx\"])\n",
    "print(F'Total records in dataset %i' % len(issues_df))\n",
    "issues_df.head(1)"
   ]
  },
  {
   "cell_type": "code",
   "execution_count": null,
   "id": "edd86782-9c82-4335-a6d5-ce30fbce8217",
   "metadata": {
    "tags": []
   },
   "outputs": [],
   "source": [
    "scores = issues_df[issues_df['Q1'] != 0][['Q1','Q2','Q3']]\n",
    "scores['max_s'] = scores.max(axis=1)\n",
    "scores['min_s'] = scores.min(axis=1)\n",
    "scores['range_s'] = scores['max_s'] - scores['min_s']\n",
    "\n",
    "scores = scores[scores['range_s'] != 0]\n",
    "print(f'{len(scores)}')\n",
    "scores['range_s'].describe()"
   ]
  },
  {
   "cell_type": "code",
   "execution_count": null,
   "id": "252d6b48-c9e4-46cb-9e46-15550839fa6f",
   "metadata": {
    "tags": []
   },
   "outputs": [],
   "source": [
    "q_freq = issues_df[['Q3']].value_counts().sort_index()\n",
    "ds = pd.DataFrame(columns=['Q1','Q2','Q3'],index=[i for i in range(0,6)])\n",
    "print(q_freq)\n",
    "ds['Q1'] = issues_df[['Q1']].value_counts().sort_index().values\n",
    "ds['Q2'] = issues_df[['Q2']].value_counts().sort_index().values\n",
    "ds['Q3'] = issues_df[['Q3']].value_counts().sort_index().values\n",
    "ds = ds.drop(index=0)\n",
    "ds"
   ]
  },
  {
   "cell_type": "code",
   "execution_count": null,
   "id": "c00db4dc-3520-4515-87c9-05d194f23e51",
   "metadata": {
    "tags": []
   },
   "outputs": [],
   "source": [
    "fig = plt.figure(figsize=(12,3))\n",
    "ax = fig.add_subplot(131)\n",
    "ax.bar([i[0] for i in q_freq.index], q_freq.values)\n",
    "ax.grid(True, axis=\"y\")\n",
    "ax.set_xlabel('Scores')\n",
    "ax.set_ylabel('Frequencies')\n",
    "ax.set_xticks([i for i in range(0,6)])"
   ]
  },
  {
   "cell_type": "code",
   "execution_count": null,
   "id": "86afad96-45c6-4bec-b492-91bf7fc32f79",
   "metadata": {},
   "outputs": [],
   "source": [
    "features = []\n",
    "\n",
    "assignee_utterances = [\n",
    "    # 'utr_assignee_open_close',\n",
    "           'utr_assignee_inform', \n",
    "    # 'utr_assignee_user_mention',\n",
    "           'utr_assignee_resolution', 'utr_assignee_technical',\n",
    "           'utr_assignee_investigation', 'utr_assignee_assignment_update',\n",
    "           'utr_assignee_reminder', 'utr_assignee_status_update',\n",
    "           'utr_assignee_support_session']\n",
    "\n",
    "reporter_utterances =[\n",
    "            # 'utr_reporter_user_mention',\n",
    "           # 'utr_reporter_open_close',\n",
    "    'utr_reporter_support_session',\n",
    "           'utr_reporter_request', 'utr_reporter_attach_info',\n",
    "           'utr_reporter_resolution', 'utr_reporter_inform',\n",
    "           'utr_reporter_technical']\n",
    "\n",
    "others_utterances=[\n",
    "    # 'utr_others_open_close',\n",
    "           # 'utr_others_user_mention',\n",
    "    'utr_others_investigation',\n",
    "           'utr_others_reminder', 'utr_others_assignment_update',\n",
    "           'utr_others_technical', 'utr_others_request',\n",
    "           'utr_others_resolution_update', 'utr_others_update_request',\n",
    "           'utr_others_resolution']\n",
    "\n",
    "wf_features =[\n",
    "        'wf_resolved',\n",
    "        'wf_open', \n",
    "        'wf_in_progress',\n",
    "        'wf_reopened',\n",
    "        'wf_validation',\n",
    "        'wf_resolved_under_monitoring',\n",
    "        'wf_closed',  \n",
    "        'wf_waiting', \n",
    "        'wf_pending_deployment']\n",
    "\n",
    "features.extend(['wf_total_time','processing_steps'])\n",
    "features.extend(assignee_utterances)\n",
    "features.extend(reporter_utterances)\n",
    "features.extend(others_utterances)\n",
    "features.extend(wf_features)"
   ]
  },
  {
   "cell_type": "code",
   "execution_count": null,
   "id": "a1558b83-fca0-464f-b832-8c1cb6ccb1ce",
   "metadata": {},
   "outputs": [],
   "source": [
    "x_df,y_df = dp.build_dataset(issues_df,add_dummies=False,class_to_predict=5,utterances_as_percentage=False)\n",
    "x_df = x_df[features]\n",
    "print(f'{len(x_df)} records with {len(x_df.columns)} columns')\n",
    "x_df.head(1)"
   ]
  },
  {
   "cell_type": "markdown",
   "id": "53bde563-0120-45d9-91ae-6a48f0af3b43",
   "metadata": {},
   "source": [
    "### Information Gain"
   ]
  },
  {
   "cell_type": "code",
   "execution_count": null,
   "id": "625eeec9-9125-4498-b49a-7d031383214f",
   "metadata": {
    "tags": []
   },
   "outputs": [],
   "source": [
    "from sklearn.feature_selection import mutual_info_classif\n",
    "\n",
    "importances = mutual_info_classif(x_df, y_df['Q1'])\n",
    "\n",
    "importances_ser = pd.Series(importances,x_df.columns[0:len(x_df.columns)])\n",
    "importances_ser[importances_ser > 0.1].sort_values(ascending=False)"
   ]
  },
  {
   "cell_type": "markdown",
   "id": "517a298d-b3a4-428f-b830-2bdef1be76aa",
   "metadata": {},
   "source": [
    "### Fisher Score"
   ]
  },
  {
   "cell_type": "code",
   "execution_count": null,
   "id": "1f5ccd5b-f69c-497b-87a3-23cf9e8abe77",
   "metadata": {
    "tags": []
   },
   "outputs": [],
   "source": [
    "from skfeature.function.similarity_based import fisher_score\n",
    "\n",
    "importances = fisher_score.fisher_score(x_df.to_numpy(), y_df['Q1'].to_numpy())\n",
    "\n",
    "importances_ser = pd.Series(importances,x_df.columns[0:len(x_df.columns)])\n",
    "importances_ser.sort_values(ascending=False).head(40)"
   ]
  },
  {
   "cell_type": "markdown",
   "id": "25bd3dc7-445f-4fed-b92a-7e30e13aea34",
   "metadata": {
    "tags": []
   },
   "source": [
    "### Variance Threshold\n",
    "The features with higher variance will have more information"
   ]
  },
  {
   "cell_type": "code",
   "execution_count": null,
   "id": "1b162a35-2f05-4b8b-b67e-8474c060ca3b",
   "metadata": {
    "tags": []
   },
   "outputs": [],
   "source": [
    "from sklearn.feature_selection import VarianceThreshold\n",
    "from sklearn.preprocessing import MinMaxScaler\n",
    "\n",
    "x = MinMaxScaler().fit_transform(x_df)\n",
    "v_threshold = VarianceThreshold(threshold=0.01)\n",
    "v_threshold.fit(x)\n",
    "pd.Series(x_df.columns)[v_threshold.get_support()]"
   ]
  },
  {
   "cell_type": "code",
   "execution_count": null,
   "id": "ed7f684f-f0f8-4613-8601-7ac0f7e15abf",
   "metadata": {
    "tags": []
   },
   "outputs": [],
   "source": [
    "# corr = learning_df.corr(numeric_only=False)\n",
    "# q1_corr = corr.loc['Q1']\n",
    "# q1_corr = q1_corr[(q1_corr >= 0.2) | (q1_corr <= -0.2)]\n",
    "# q1_corr"
   ]
  },
  {
   "cell_type": "markdown",
   "id": "45fdf929-c0cd-4c30-9254-adae77674940",
   "metadata": {},
   "source": [
    "### ANOVA"
   ]
  },
  {
   "cell_type": "code",
   "execution_count": null,
   "id": "7e8d0082-ef59-4f51-99d9-99bef1175fd4",
   "metadata": {
    "tags": []
   },
   "outputs": [],
   "source": [
    "from sklearn.feature_selection import SelectKBest, f_classif\n",
    "\n",
    "# print(f'{x_df.columns[69]} {x_df.columns[78]} {x_df.columns[481]}')\n",
    "anova_filter = SelectKBest(f_classif, k=20)\n",
    "anova_filter = anova_filter.fit(x_df, y_df['Q1'])\n",
    "anova_filter.get_feature_names_out()"
   ]
  },
  {
   "cell_type": "markdown",
   "id": "34d0be5d-507c-46e1-aa93-7c1ab9ba3499",
   "metadata": {
    "tags": []
   },
   "source": [
    "### plots"
   ]
  },
  {
   "cell_type": "code",
   "execution_count": null,
   "id": "c050df36-b40c-4396-890c-7231683adcf0",
   "metadata": {
    "tags": []
   },
   "outputs": [],
   "source": [
    "fig = plt.figure(figsize=(50, 50))\n",
    "ax = fig.add_subplot(111)\n",
    "\n",
    "corr = x_df.corr()\n",
    "\n",
    "# Generate a mask for the upper triangle\n",
    "mask = np.triu(np.ones_like(corr, dtype=bool))\n",
    "\n",
    "# Generate a custom diverging colormap\n",
    "cmap = sns.diverging_palette(230, 20, as_cmap=True)\n",
    "\n",
    "# Draw the heatmap with the mask and correct aspect rati\n",
    "sns.heatmap(corr,mask=mask, vmax=1,vmin=-1, center=0,\n",
    "            square=True, linewidths=.5, cbar_kws={\"shrink\": .75}, ax = ax,annot=True,fmt=\".4f\",)"
   ]
  },
  {
   "cell_type": "code",
   "execution_count": null,
   "id": "a296be95-d3ef-4d3c-8faa-7211066c6651",
   "metadata": {},
   "outputs": [],
   "source": [
    "# segnificant = ['total time','issue contr count','issue comments count','processing steps','in progress','validation','waiting','pending deployment']\n",
    "# corr = corr.loc[segnificant,segnificant]\n",
    "# renames = {'issue contr count':'contributors','issue comments count':'comments count'}\n",
    "# corr.rename(columns=renames,index=renames,inplace=True)"
   ]
  },
  {
   "cell_type": "code",
   "execution_count": null,
   "id": "b45014f2-e13d-4d78-a9fd-60e920d1206a",
   "metadata": {
    "tags": []
   },
   "outputs": [],
   "source": [
    "# fig = plt.figure(figsize=(10, 10))\n",
    "# ax = fig.add_subplot(111)\n",
    "\n",
    "# # Generate a mask for the upper triangle\n",
    "# mask = np.triu(np.ones_like(corr, dtype=bool))\n",
    "\n",
    "# for i in range(len(mask)):\n",
    "#     mask[i][i] = False\n",
    "\n",
    "# # Generate a custom diverging colormap\n",
    "# cmap = sns.diverging_palette(230, 20, as_cmap=True)\n",
    "\n",
    "# # Draw the heatmap with the mask and correct aspect rati\n",
    "# sns.heatmap(corr,mask=mask, vmax=1,vmin=-1, center=0,\n",
    "#             square=True, linewidths=1, cbar_kws={\"shrink\": .6}, ax = ax,annot=True,fmt=\".4f\",)"
   ]
  }
 ],
 "metadata": {
  "kernelspec": {
   "display_name": "Python 3 (ipykernel)",
   "language": "python",
   "name": "python3"
  },
  "language_info": {
   "codemirror_mode": {
    "name": "ipython",
    "version": 3
   },
   "file_extension": ".py",
   "mimetype": "text/x-python",
   "name": "python",
   "nbconvert_exporter": "python",
   "pygments_lexer": "ipython3",
   "version": "3.10.9"
  }
 },
 "nbformat": 4,
 "nbformat_minor": 5
}
