{
 "cells": [
  {
   "cell_type": "code",
   "execution_count": null,
   "id": "904a2441-c43d-46dc-b422-17758ab01617",
   "metadata": {
    "tags": []
   },
   "outputs": [],
   "source": [
    "# !pip install psycopg2-binary\n",
    "!pip --version\n",
    "\n",
    "!pip install -r requirements.txt"
   ]
  },
  {
   "cell_type": "code",
   "execution_count": null,
   "id": "02dd2fb9-aaf3-46da-902e-32b9e3403ee9",
   "metadata": {
    "tags": []
   },
   "outputs": [],
   "source": [
    "import matplotlib.pyplot as plt\n",
    "import pandas as pd\n",
    "\n",
    "from exploration.commons import plot_density_scatter\n",
    "\n",
    "plt.rcParams.update({'font.size': 14})\n",
    "\n",
    "merged_df = pd.read_csv('./temp_data/merged_df.csv')\n",
    "len(merged_df)"
   ]
  },
  {
   "cell_type": "code",
   "execution_count": null,
   "id": "8e62132d",
   "metadata": {
    "collapsed": false,
    "jupyter": {
     "outputs_hidden": false
    }
   },
   "outputs": [],
   "source": [
    "merged_df.head()"
   ]
  },
  {
   "cell_type": "code",
   "execution_count": null,
   "id": "8458e59c",
   "metadata": {
    "collapsed": false,
    "jupyter": {
     "outputs_hidden": false
    }
   },
   "outputs": [],
   "source": [
    "merged_df[['others_comments','reporter_comments','assignee_comments',\n",
    "           'others_utterances','reporter_utterances','assignee_utterances',\n",
    "          'others_terms','reporter_terms','assignee_terms']]\\\n",
    ".rename(columns={\n",
    "    'others_comments':'Others Comments',\n",
    "    'reporter_comments':'Reporter Comments',\n",
    "    'assignee_comments':'Assignee Comments',\n",
    "    'others_utterances':'Others Utterances',\n",
    "    'reporter_utterances':'Reporter Utterances',\n",
    "    'assignee_utterances':'Assignee Utterances',\n",
    "    'others_terms':'Others words',\n",
    "    'reporter_terms':'Reporter Words',\n",
    "    'assignee_terms':'Assignee Words'\n",
    "})\\\n",
    ".describe().transpose().drop(columns=['count'])"
   ]
  },
  {
   "cell_type": "code",
   "execution_count": null,
   "id": "0a88206a",
   "metadata": {
    "collapsed": false,
    "jupyter": {
     "outputs_hidden": false
    }
   },
   "outputs": [],
   "source": [
    "fig: plt.Figure = plt.figure(figsize=(10, 3))\n",
    "ax: plt.Axes = fig.add_subplot(131)\n",
    "\n",
    "ax.set_xlabel(\"Reporter Comments\")\n",
    "ax.set_ylabel(\"Assignee Comments\")\n",
    "plot_density_scatter(ax, merged_df['reporter_comments'], merged_df['assignee_comments'],\n",
    "                     label=\"Reporter comments Vs. Assignee comments\", size=20)\n",
    "ax.set_xticklabels([])\n",
    "ax.set_yticklabels([])\n",
    "\n",
    "ax: plt.Axes = fig.add_subplot(132)\n",
    "ax.set_xlabel(\"Assignee Comments\")\n",
    "ax.set_ylabel(\"Others Comments\")\n",
    "plot_density_scatter(ax, merged_df['assignee_comments'], merged_df['others_comments'],\n",
    "                     label=\"Assignee comments Vs. Others comments\", size=20)\n",
    "ax.set_xticklabels([])\n",
    "ax.set_yticklabels([])\n",
    "\n",
    "ax: plt.Axes = fig.add_subplot(133)\n",
    "ax.set_xlabel(\"Reporter Comments\")\n",
    "ax.set_ylabel(\"Others Comments\")\n",
    "plot_density_scatter(ax, merged_df['reporter_comments'], merged_df['others_comments'],\n",
    "                     label=\"Reporter comments Vs. Others comments\", size=20)\n",
    "ax.set_xticklabels([])\n",
    "ax.set_yticklabels([])"
   ]
  },
  {
   "cell_type": "code",
   "execution_count": null,
   "id": "bd56c71b",
   "metadata": {
    "collapsed": false,
    "jupyter": {
     "outputs_hidden": false
    }
   },
   "outputs": [],
   "source": [
    "fig: plt.Figure = plt.figure(figsize=(6, 6))\n",
    "\n",
    "ax: plt.Axes = fig.add_subplot(311)\n",
    "ax.boxplot(merged_df[['reporter_comments']], vert=False)\n",
    "ax.set_ylabel(\"Reporter Comments\")\n",
    "\n",
    "ax: plt.Axes = fig.add_subplot(312)\n",
    "ax.boxplot(merged_df['assignee_comments'], vert=False)\n",
    "ax.set_ylabel(\"Assignee Comments\")\n",
    "\n",
    "ax: plt.Axes = fig.add_subplot(313)\n",
    "ax.boxplot(merged_df['others_comments'], vert=False)\n",
    "ax.set_ylabel(\"Others Comments\")"
   ]
  },
  {
   "cell_type": "code",
   "execution_count": null,
   "id": "d0f18df0",
   "metadata": {
    "collapsed": false,
    "jupyter": {
     "outputs_hidden": false
    },
    "tags": []
   },
   "outputs": [],
   "source": [
    "def __hist(ax: plt.Axes, data, x_label, y_label = 'Frequency', bins = 50):\n",
    "    ax.hist(data, bins=bins)\n",
    "    ax.set_xlabel(x_label)\n",
    "    ax.set_ylabel(y_label)\n",
    "\n",
    "fig: plt.Figure = plt.figure(figsize=(18, 4))\n",
    "\n",
    "__hist(fig.add_subplot(131), merged_df.assignee_comments, 'Assignee Comments')\n",
    "__hist(fig.add_subplot(132), merged_df.reporter_comments, 'Reporter Comments')\n",
    "__hist(fig.add_subplot(133), merged_df.others_comments, 'Others Comments')"
   ]
  }
 ],
 "metadata": {
  "kernelspec": {
   "display_name": "Python 3 (ipykernel)",
   "language": "python",
   "name": "python3"
  },
  "language_info": {
   "codemirror_mode": {
    "name": "ipython",
    "version": 3
   },
   "file_extension": ".py",
   "mimetype": "text/x-python",
   "name": "python",
   "nbconvert_exporter": "python",
   "pygments_lexer": "ipython3",
   "version": "3.10.9"
  }
 },
 "nbformat": 4,
 "nbformat_minor": 5
}
