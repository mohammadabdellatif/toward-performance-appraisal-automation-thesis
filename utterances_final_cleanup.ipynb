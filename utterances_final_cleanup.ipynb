{
 "cells": [
  {
   "cell_type": "markdown",
   "id": "e7887f83-26eb-4861-a2ad-4ca64c50c362",
   "metadata": {},
   "source": [
    "### Notes\n",
    "We might need to remove the common words in the corpus beside the stop words as those are common cross all corpus"
   ]
  },
  {
   "cell_type": "code",
   "execution_count": 1,
   "id": "f03ffa5036989526",
   "metadata": {
    "tags": []
   },
   "outputs": [],
   "source": [
    "import pandas as pd\n",
    "import nltk as nltk\n",
    "\n",
    "utterances_df = pd.read_csv('./temp_data/utterances.csv')\n",
    "utterances_df.set_index('id')\n",
    "utterances_df['actionbody'] = utterances_df['actionbody'].astype('str')\n",
    "uttr_voc_df = pd.read_csv('./temp_data/utterances_voc.csv')\n",
    "uttr_voc_df = uttr_voc_df.dropna()"
   ]
  },
  {
   "cell_type": "code",
   "execution_count": 2,
   "id": "27e528c2511d5a64",
   "metadata": {
    "tags": []
   },
   "outputs": [],
   "source": [
    "uttr_voc_df.groupby('type').count().sort_values('word',ascending=False).to_csv('./temp_data/ph.csv')"
   ]
  },
  {
   "cell_type": "code",
   "execution_count": 3,
   "id": "be78aa5b869975f3",
   "metadata": {
    "tags": []
   },
   "outputs": [
    {
     "data": {
      "text/plain": [
       "0             ph_technical\n",
       "209           ph_mobile_no\n",
       "9132               ph_user\n",
       "9152               ph_name\n",
       "10059              ph_code\n",
       "               ...        \n",
       "24666          yes ph_user\n",
       "24670    yesterday ph_path\n",
       "24683         your ph_path\n",
       "24839          zip ph_path\n",
       "24844         zoom ph_path\n",
       "Name: type, Length: 322, dtype: object"
      ]
     },
     "execution_count": 3,
     "metadata": {},
     "output_type": "execute_result"
    }
   ],
   "source": [
    "ph_s = uttr_voc_df['type'].drop_duplicates()\n",
    "ph_s[ph_s.str.contains(r'ph_[a-z^\\s]+', regex = True)]"
   ]
  },
  {
   "cell_type": "code",
   "execution_count": 4,
   "id": "89175fa617f7b375",
   "metadata": {},
   "outputs": [],
   "source": [
    "# tech_words_df = uttr_voc_df[uttr_voc_df['type'].isin(['ph_technical','ph_name'])]\n",
    "tech_words_df = uttr_voc_df\n",
    "tech_words_df = tech_words_df.set_index('word')"
   ]
  },
  {
   "cell_type": "code",
   "execution_count": 5,
   "id": "d72756bd3970f3b7",
   "metadata": {},
   "outputs": [
    {
     "data": {
      "text/plain": [
       "Index(['id', 'issueid', 'created', 'author', 'actionbody', 'utr_seq',\n",
       "       'is_private', 'comment_seq'],\n",
       "      dtype='object')"
      ]
     },
     "execution_count": 5,
     "metadata": {},
     "output_type": "execute_result"
    }
   ],
   "source": [
    "utterances_df.head(5)\n",
    "utterances_df.columns"
   ]
  },
  {
   "cell_type": "code",
   "execution_count": 6,
   "id": "c4f61d4b-32e8-46dd-8f18-a2ba5414d594",
   "metadata": {
    "tags": []
   },
   "outputs": [
    {
     "name": "stdout",
     "output_type": "stream",
     "text": [
      "done\n"
     ]
    }
   ],
   "source": [
    "rows = utterances_df.iterrows()\n",
    "utterances_df['changed'] = False\n",
    "utterances_df['actionbody_old'] = utterances_df['actionbody']\n",
    "for idx,r in rows:\n",
    "    body = r['actionbody']\n",
    "    body_words = nltk.tokenize.wordpunct_tokenize(body)\n",
    "    updated_body = \"\"\n",
    "    affected = False\n",
    "    for word in body_words:\n",
    "        w = word\n",
    "        if word in tech_words_df.index:\n",
    "            w = tech_words_df.loc[w,'type']\n",
    "            affected = True\n",
    "        updated_body += w + \" \"  \n",
    "    if affected:\n",
    "        utterances_df.loc[idx,'actionbody'] = updated_body\n",
    "        utterances_df.loc[idx,'changed'] = True\n",
    "\n",
    "print('done')"
   ]
  },
  {
   "cell_type": "code",
   "execution_count": 7,
   "id": "a8aa8f04-b365-41b1-99cb-ff007205c7ba",
   "metadata": {
    "tags": []
   },
   "outputs": [
    {
     "name": "stdout",
     "output_type": "stream",
     "text": [
      "done\n"
     ]
    }
   ],
   "source": [
    "utterances_df[['id', 'changed', 'actionbody_old','actionbody','issueid', 'created', 'author', 'utr_seq',\n",
    "       'is_private', 'comment_seq']].set_index('id').to_csv('./temp_data/utterances_cleaned.csv')\n",
    "print('done')        "
   ]
  }
 ],
 "metadata": {
  "kernelspec": {
   "display_name": "Python 3 (ipykernel)",
   "language": "python",
   "name": "python3"
  },
  "language_info": {
   "codemirror_mode": {
    "name": "ipython",
    "version": 3
   },
   "file_extension": ".py",
   "mimetype": "text/x-python",
   "name": "python",
   "nbconvert_exporter": "python",
   "pygments_lexer": "ipython3",
   "version": "3.10.9"
  }
 },
 "nbformat": 4,
 "nbformat_minor": 5
}
