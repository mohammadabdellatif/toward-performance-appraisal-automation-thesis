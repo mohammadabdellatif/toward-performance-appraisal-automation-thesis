{
 "cells": [
  {
   "cell_type": "code",
   "execution_count": null,
   "id": "c422b3d5-88b9-4d67-a279-44e482c8b279",
   "metadata": {
    "tags": []
   },
   "outputs": [],
   "source": [
    "import pandas as pd\n",
    "from sklearn import datasets\n",
    "from dython.data_utils import split_hist\n",
    "\n",
    "# # Load data and convert to DataFrame\n",
    "# data = datasets.load_breast_cancer()\n",
    "# df = pd.DataFrame(data=data.data, columns=data.feature_names)\n",
    "# df['malignant'] = [not bool(x) for x in data.target]"
   ]
  },
  {
   "cell_type": "code",
   "execution_count": null,
   "id": "8816432c-0ce4-465c-83be-133e9209ff08",
   "metadata": {
    "tags": []
   },
   "outputs": [],
   "source": [
    "# df\n",
    "import math\n",
    "math.exp(0.8347)\n",
    "1e-9"
   ]
  },
  {
   "cell_type": "code",
   "execution_count": null,
   "id": "ca24f5f7-7d7a-433d-bccc-48a0c20dc294",
   "metadata": {
    "tags": []
   },
   "outputs": [],
   "source": [
    "# Plot histogram\n",
    "# split_hist(df, 'mean radius', split_by='malignant', bins=20, figsize=(15,7))"
   ]
  },
  {
   "cell_type": "code",
   "execution_count": null,
   "id": "3b03890d-0067-405b-b2d4-9c086277ccc6",
   "metadata": {
    "tags": []
   },
   "outputs": [],
   "source": [
    "import numpy as np\n",
    "import matplotlib.pyplot as plt\n",
    "\n",
    "Women = [115, 215, 250, 200]\n",
    "Men = [114, 230, 510, 370]\n",
    "\n",
    "n=4\n",
    "r = np.arange(n)\n",
    "width = 0.25\n",
    "\n",
    "\n",
    "plt.bar(r, Women, color = 'b',\n",
    "\t\twidth = width, edgecolor = 'black',\n",
    "\t\tlabel='Women')\n",
    "plt.bar(r + width, Men, color = 'g',\n",
    "\t\twidth = width, edgecolor = 'black',\n",
    "\t\tlabel='Men')\n",
    "\n",
    "plt.xlabel(\"Year\")\n",
    "plt.ylabel(\"Number of people voted\")\n",
    "plt.title(\"Number of people voted in each year\")\n",
    "\n",
    "# plt.grid(linestyle='--')\n",
    "plt.xticks(r + width/2,['2018','2019','2020','2021'])\n",
    "plt.legend()\n",
    "\n",
    "plt.show()\n"
   ]
  },
  {
   "cell_type": "code",
   "execution_count": null,
   "id": "8e8d9f08-e4e3-4071-86e0-d61d2ec2d2a2",
   "metadata": {
    "tags": []
   },
   "outputs": [],
   "source": [
    "import pandas as pd\n",
    "import math as m\n",
    "\n",
    "df = pd.DataFrame(columns=['x','y'],data=[[1,2],[1,3],[2,1],[2,2]])\n",
    "df['x'] = [m.exp(x) for x in df['x']]\n",
    "df"
   ]
  }
 ],
 "metadata": {
  "kernelspec": {
   "display_name": "Python 3 (ipykernel)",
   "language": "python",
   "name": "python3"
  },
  "language_info": {
   "codemirror_mode": {
    "name": "ipython",
    "version": 3
   },
   "file_extension": ".py",
   "mimetype": "text/x-python",
   "name": "python",
   "nbconvert_exporter": "python",
   "pygments_lexer": "ipython3",
   "version": "3.10.9"
  }
 },
 "nbformat": 4,
 "nbformat_minor": 5
}
