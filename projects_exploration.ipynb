{
 "cells": [
  {
   "cell_type": "markdown",
   "id": "e9491380-e3e1-4212-8c19-03ee0a491a07",
   "metadata": {
    "tags": []
   },
   "source": [
    "## Do general imports"
   ]
  },
  {
   "cell_type": "code",
   "id": "284f13a5-123e-4236-9570-e5371ddc3abb",
   "metadata": {
    "tags": []
   },
   "source": [
    "import matplotlib.pyplot as plt\n",
    "import pandas as pd\n",
    "import seaborn as sns\n",
    "\n",
    "from preprocessing.projects import ProjectsPreProcess\n",
    "\n",
    "pd.set_option('display.max_columns', None)\n"
   ],
   "outputs": [],
   "execution_count": null
  },
  {
   "cell_type": "markdown",
   "id": "d74adbd8-5c1d-433a-84a6-1bc975560573",
   "metadata": {
    "tags": []
   },
   "source": [
    "## Load Datasets"
   ]
  },
  {
   "cell_type": "code",
   "id": "7a4f04e2-dbf7-432a-aab3-510da27f979e",
   "metadata": {
    "tags": []
   },
   "source": [
    "ppp = ProjectsPreProcess()\n",
    "issues_df = pd.read_csv('./temp_data/issues_preprocessed.csv')\n",
    "\n",
    "projects_df = ppp.pre_process(issues_df, clusters=4, features=[ 'issue_comments_count_mean',\n",
    "                                      'issue_contr_count_mean', 'processing_steps_mean'])\n",
    "    \n",
    "print(F'Total records in dataset %i' % len(projects_df))\n",
    "\n",
    "projects_df.head(10)"
   ],
   "outputs": [],
   "execution_count": null
  },
  {
   "cell_type": "code",
   "id": "4db550a1-c8ba-4652-a78a-41212e3589b2",
   "metadata": {
    "tags": []
   },
   "source": [
    "# colors = ['red','orange','green','blue','gray']\n",
    "ax = plt.figure(figsize=(8,8)).add_subplot(projection='3d')\n",
    "\n",
    "# categories = issues_df[['proj_category','wf_total_time']].groupby('proj_category').count().sort_values('wf_total_time').index\n",
    "categories = projects_df['category'].drop_duplicates().sort_values()\n",
    "\n",
    "# y = ('Total Time Average','wf_total_time_mean',)\n",
    "# z = ('Project category', 'category',categories)\n",
    "y = ('Contributors Average','issue_contr_count_mean',)\n",
    "z = ('Comments Average','issue_comments_count_mean')\n",
    "# z = ('Issues Count','count',)\n",
    "x = ('Processing Steps Average', 'processing_steps_mean',)\n",
    "\n",
    "for i,c in enumerate(categories):\n",
    "    # Plot the 3D surface\n",
    "    df = projects_df[projects_df['category'] == c]\n",
    "    projects = df['wf_total_time_mean'].drop_duplicates()\n",
    "    ax.scatter(df[x[1]],df[y[1]],df[z[1]],label=f'{len(projects)} projects')\n",
    "\n",
    "ax.legend()\n",
    "if len(z) > 2:\n",
    "    ax.set_zticks(z[2])\n",
    "if len(x) > 2:\n",
    "    ax.set_xticks(x[2])\n",
    "if len(y) > 2:\n",
    "    ax.set_yticks(y[2])\n",
    "        \n",
    "# Plot the 3D surface\n",
    "ax.set_xlabel(x[0])\n",
    "ax.set_ylabel(y[0])\n",
    "ax.set_zlabel(z[0])\n",
    "\n",
    "# ax.view_init(elev=60, azim=50, roll=0)\n",
    "ax.view_init(elev=30, azim=-75)\n",
    "ax.set_box_aspect(aspect=None, zoom=0.85)"
   ],
   "outputs": [],
   "execution_count": null
  },
  {
   "cell_type": "code",
   "id": "4a1f8983-5640-41b9-884d-1404ba97bb35",
   "metadata": {
    "tags": []
   },
   "source": [
    "sns.pairplot(projects_df[projects_df.columns[1:]],hue='category',corner=True,palette=sns.color_palette(\"tab10\"))#,kind=\"kde\")"
   ],
   "outputs": [],
   "execution_count": null
  }
 ],
 "metadata": {
  "kernelspec": {
   "display_name": "Python 3 (ipykernel)",
   "language": "python",
   "name": "python3"
  },
  "language_info": {
   "codemirror_mode": {
    "name": "ipython",
    "version": 3
   },
   "file_extension": ".py",
   "mimetype": "text/x-python",
   "name": "python",
   "nbconvert_exporter": "python",
   "pygments_lexer": "ipython3",
   "version": "3.10.9"
  }
 },
 "nbformat": 4,
 "nbformat_minor": 5
}
