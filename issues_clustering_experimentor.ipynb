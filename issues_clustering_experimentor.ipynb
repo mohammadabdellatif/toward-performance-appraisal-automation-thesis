{
 "cells": [
  {
   "cell_type": "markdown",
   "id": "1a3e312b-7ed1-4eb4-90e8-7bdc89440b12",
   "metadata": {
    "tags": []
   },
   "source": [
    "referencing code samples in https://towardsdatascience.com/elbow-method-is-not-sufficient-to-find-best-k-in-k-means-clustering-fc820da0631d#:~:text=The%20elbow%20method%20is%20a,cluster%20and%20the%20cluster%20centroid.\n"
   ]
  },
  {
   "cell_type": "markdown",
   "id": "e9491380-e3e1-4212-8c19-03ee0a491a07",
   "metadata": {
    "tags": []
   },
   "source": [
    "## Do general imports"
   ]
  },
  {
   "cell_type": "code",
   "execution_count": null,
   "id": "284f13a5-123e-4236-9570-e5371ddc3abb",
   "metadata": {
    "tags": []
   },
   "source": [
    "import matplotlib.pyplot as plt\n",
    "import pandas as pd\n",
    "import seaborn as sns\n",
    "from sklearn.cluster import KMeans\n",
    "from sklearn.preprocessing import StandardScaler\n",
    "from yellowbrick.cluster import KElbowVisualizer\n",
    "from yellowbrick.cluster import SilhouetteVisualizer\n",
    "\n",
    "pd.set_option('display.max_columns', None)\n",
    "plt.rcParams.update({'font.size': 14})\n"
   ],
   "outputs": []
  },
  {
   "cell_type": "markdown",
   "id": "d74adbd8-5c1d-433a-84a6-1bc975560573",
   "metadata": {
    "tags": []
   },
   "source": [
    "## Load Datasets"
   ]
  },
  {
   "cell_type": "code",
   "execution_count": null,
   "id": "7df54375-7af5-459a-b9fc-3e597dd54c28",
   "metadata": {
    "tags": []
   },
   "source": [
    "issues_df = pd.read_csv('./temp_data/issues.csv')\n",
    "max_clusters = 7\n",
    "columns = ['processing_steps','issue_comments_count','issue_contr_count','wf_total_time']\n",
    "types = ['Ticket', 'Deployment', 'HD Service']\n",
    "\n",
    "issues_df = issues_df[(issues_df['issue_proj'].str.match('\\w{2}\\d{2}\\w{1,}'))\n",
    "                      & (issues_df['issue_type'].isin(types))\n",
    "                      & (issues_df['issue_created'] >= '2022-01-01')\n",
    "                      & (issues_df['issue_created'] <= '2022-12-31')\n",
    "                      & pd.notna(issues_df['issue_resolution_date'])]\n",
    "df = issues_df[columns].copy()\n",
    "\n",
    "for c in df.columns:\n",
    "    df.loc[:,c] = StandardScaler().fit_transform(df[c].values.reshape(-1, 1))\n",
    "df"
   ],
   "outputs": []
  },
  {
   "cell_type": "code",
   "execution_count": null,
   "id": "34094f95-fb83-4e1b-b0bb-06cf97fe13c3",
   "metadata": {
    "tags": []
   },
   "source": [
    "km = KMeans(n_init=\"auto\",random_state=42)\n",
    "\n",
    "if len(df.columns) == 1:\n",
    "    unique_v = len(df.drop_duplicates())\n",
    "    if unique_v < max_clusters:\n",
    "        max_clusters = unique_v\n",
    "visualizer = KElbowVisualizer(km, k=(2,max_clusters+1),timings=False)\n",
    "visualizer.ax.set_xlabel('k',fontsize=14) \n",
    "visualizer.ax.set_ylabel('distortion score',fontsize=14) \n",
    "visualizer.fit(df)        # Fit the data to the visualizer\n",
    "visualizer.show()        # Finalize and render the figure"
   ],
   "outputs": []
  },
  {
   "cell_type": "code",
   "execution_count": null,
   "id": "dc7480d3-17f0-499b-8cb2-c399967c0d83",
   "metadata": {
    "tags": []
   },
   "source": [
    "for i in range(2,max_clusters + 1):\n",
    "\n",
    "    km = KMeans(n_clusters=i, n_init='auto', random_state=42)\n",
    "    q, mod = divmod(i, 3)\n",
    "    fig = plt.figure(figsize=(6,2))\n",
    "    ax = fig.add_subplot(1,1,1)\n",
    "    ax.set_ylabel('Size',fontsize=14)\n",
    "    ax.set_xlabel(f'Score',fontsize=14)\n",
    "    ax.set_title(f'{i} clusters',fontsize=14)\n",
    "    visualizer = SilhouetteVisualizer(km,colors=sns.color_palette(\"tab10\"), ax=ax)\n",
    "    visualizer.fit(df)\n"
   ],
   "outputs": []
  },
  {
   "cell_type": "code",
   "execution_count": null,
   "id": "7d915b7c-e64a-4ae0-a51a-a75f772f8974",
   "metadata": {
    "tags": []
   },
   "source": [
    "km = KMeans(n_clusters=4, n_init='auto', random_state=42)\n",
    "km.fit(df)\n",
    "sns.set(font_scale=1)\n",
    "\n",
    "df_pp = issues_df[columns].copy()\n",
    "df_pp.loc[:,'category'] = km.labels_\n",
    "\n",
    "cat = df_pp['category'].drop_duplicates().sort_values()\n",
    "labels = []\n",
    "for c in cat:\n",
    "    c_len = len(df_pp[df_pp['category'] == c])\n",
    "    labels.append(f'{c_len} issues')\n",
    "\n",
    "pair_plot = sns.pairplot(df_pp.rename(columns={\n",
    "'wf_total_time':'Total Time',\n",
    "'issue_contr_count':'Contributors count',\n",
    "'issue_comments_count':'Comments count',\n",
    "'processing_steps':'Processing Steps'\n",
    "}),hue='category',palette=sns.color_palette(\"tab10\")[0:(len(cat))],corner=True)\n",
    "\n",
    "lgnd = pair_plot.legend\n",
    "for i,l in enumerate(labels):\n",
    "    lgnd.texts[i].set_text(l)"
   ],
   "outputs": []
  },
  {
   "cell_type": "code",
   "execution_count": null,
   "id": "52a29e25-646d-49d7-9978-277caf5f5733",
   "metadata": {
    "tags": []
   },
   "source": [
    "ax = plt.figure(figsize=(8,8)).add_subplot(projection='3d')\n",
    "colors = palette=sns.color_palette(\"tab10\")\n",
    "categories = df_pp['category'].drop_duplicates().sort_values()\n",
    "\n",
    "x= ('Workflow Total Time','wf_total_time',)\n",
    "y= ('Comments Count','issue_comments_count',)\n",
    "z= ('Processing Steps', 'processing_steps',)\n",
    "\n",
    "df = df_pp[[x[1],y[1],z[1],'category']].copy()\n",
    "\n",
    "for i,c in enumerate(categories):\n",
    "    df_c = df_pp[df_pp['category'] == c]\n",
    "    x_v = df_c[x[1]]\n",
    "    y_v = df_c[y[1]]\n",
    "    z_v = df_c[z[1]]\n",
    "    ax.scatter(x_v, y_v, z_v,color=colors[i],label=f'{len(df_c)} issues')\n",
    "\n",
    "ax.legend()\n",
    "if len(z) > 2:\n",
    "    ax.set_zticks(z[2])\n",
    "if len(x) > 2:\n",
    "    ax.set_xticks(x[2])\n",
    "if len(y) > 2:\n",
    "    ax.set_yticks(y[2])\n",
    "        \n",
    "ax.set_xlabel(x[0])\n",
    "ax.set_ylabel(y[0])\n",
    "ax.set_zlabel(z[0])\n",
    "\n",
    "ax.view_init(elev=20, azim=-130, roll=0)\n",
    "ax.set_box_aspect(aspect=None, zoom=0.85)"
   ],
   "outputs": []
  }
 ],
 "metadata": {
  "kernelspec": {
   "display_name": "Python 3 (ipykernel)",
   "language": "python",
   "name": "python3"
  },
  "language_info": {
   "codemirror_mode": {
    "name": "ipython",
    "version": 3
   },
   "file_extension": ".py",
   "mimetype": "text/x-python",
   "name": "python",
   "nbconvert_exporter": "python",
   "pygments_lexer": "ipython3",
   "version": "3.10.9"
  }
 },
 "nbformat": 4,
 "nbformat_minor": 5
}
