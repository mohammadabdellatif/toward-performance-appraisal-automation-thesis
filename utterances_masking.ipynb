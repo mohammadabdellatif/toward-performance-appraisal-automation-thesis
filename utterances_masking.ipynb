{
 "cells": [
  {
   "cell_type": "markdown",
   "id": "e7887f83-26eb-4861-a2ad-4ca64c50c362",
   "metadata": {},
   "source": [
    "### Notes\n",
    "We might need to remove the common words in the corpus beside the stop words as those are common cross all corpus"
   ]
  },
  {
   "cell_type": "code",
   "execution_count": 1,
   "id": "19474cb8df5adcd0",
   "metadata": {},
   "outputs": [
    {
     "name": "stderr",
     "output_type": "stream",
     "text": [
      "[nltk_data] Downloading package punkt to /home/jovyan/nltk_data...\n",
      "[nltk_data]   Package punkt is already up-to-date!\n",
      "[nltk_data] Downloading package words to /home/jovyan/nltk_data...\n",
      "[nltk_data]   Package words is already up-to-date!\n",
      "[nltk_data] Downloading package wordnet to /home/jovyan/nltk_data...\n",
      "[nltk_data]   Package wordnet is already up-to-date!\n",
      "[nltk_data] Downloading package averaged_perceptron_tagger to\n",
      "[nltk_data]     /home/jovyan/nltk_data...\n",
      "[nltk_data]   Package averaged_perceptron_tagger is already up-to-\n",
      "[nltk_data]       date!\n"
     ]
    },
    {
     "name": "stdout",
     "output_type": "stream",
     "text": [
      "total recods 30108\n"
     ]
    }
   ],
   "source": [
    "import csv\n",
    "import re as re\n",
    "\n",
    "import nltk as nltk\n",
    "import pandas as pd\n",
    "from nltk.corpus import words\n",
    "from pandas import DataFrame\n",
    "\n",
    "nltk.download('punkt')\n",
    "nltk.download('words')\n",
    "nltk.download('wordnet')\n",
    "nltk.download('averaged_perceptron_tagger')\n",
    "\n",
    "utterances = pd.read_csv('./temp_data/utterances.csv')\n",
    "utterances['actionbody'] = utterances['actionbody'].astype(str)\n",
    "print(f'total recods {len(utterances)}')"
   ]
  },
  {
   "cell_type": "code",
   "execution_count": 2,
   "id": "8bb2e583949b9664",
   "metadata": {},
   "outputs": [
    {
     "name": "stdout",
     "output_type": "stream",
     "text": [
      "Original: after looking at the change history provided, we found that the issue occurred because the user was able to approve a batch with $340 that was already approved, which should not be allowed.\n",
      "Lemmatized: ['after', ' ', 'look', ' ', 'at', ' ', 'the', ' ', 'change', ' ', 'history', ' ', 'provide', ',', '', ' ', 'we', ' ', 'find', ' ', 'that', ' ', 'the', ' ', 'issue', ' ', 'occur', ' ', 'because', ' ', 'the', ' ', 'user', ' ', 'be', ' ', 'able', ' ', 'to', ' ', 'approve', ' ', 'a', ' ', 'batch', ' ', 'with', ' ', '$340', ' ', 'that', ' ', 'be', ' ', 'already', ' ', 'approve', ',', '', ' ', 'which', ' ', 'should', ' ', 'not', ' ', 'be', ' ', 'allow', '.', '']\n"
     ]
    }
   ],
   "source": [
    "# https://www.ibm.com/think/topics/stemming-lemmatization#:~:text=The%20practical%20distinction%20between%20stemming,be%20found%20in%20the%20dictionary.\n",
    "from nltk.stem import WordNetLemmatizer\n",
    "from nltk.corpus import wordnet\n",
    "from nltk import pos_tag\n",
    " \n",
    "def get_wordnet_pos(tag):\n",
    "    if tag.startswith('J'):\n",
    "        return wordnet.ADJ\n",
    "    elif tag.startswith('V'):\n",
    "        return wordnet.VERB\n",
    "    elif tag.startswith('N'):\n",
    "        return wordnet.NOUN\n",
    "    elif tag.startswith('R'):\n",
    "        return wordnet.ADV\n",
    "    else:         \n",
    "        return wordnet.NOUN\n",
    "       \n",
    "def lemmatize_passage(text):\n",
    "    words = re.split(r'([\\s,\"\\'\\.\\[\\]\\(\\)])',text)\n",
    "    pos_tags = pos_tag(words)\n",
    "    lemmatizer = WordNetLemmatizer()\n",
    "    lemmatized_words = [lemmatizer.lemmatize(word, get_wordnet_pos(tag)) for word, tag in pos_tags]\n",
    "    return lemmatized_words\n",
    " \n",
    "text = \"after looking at the change history provided, we found that the issue occurred because the user was able to approve a batch with $340 that was already approved, which should not be allowed.\"\n",
    "result = lemmatize_passage(text)\n",
    " \n",
    "print(\"Original:\", text)\n",
    "print(\"Lemmatized:\", result)"
   ]
  },
  {
   "cell_type": "code",
   "execution_count": 3,
   "id": "74cee6337e9dd9b",
   "metadata": {},
   "outputs": [
    {
     "data": {
      "text/plain": [
       "235892"
      ]
     },
     "execution_count": 3,
     "metadata": {},
     "output_type": "execute_result"
    }
   ],
   "source": [
    "dic_words = {}\n",
    "for w in words.words():\n",
    "    dic_words.update({w:''})\n",
    "\n",
    "len(dic_words)"
   ]
  },
  {
   "cell_type": "code",
   "execution_count": 4,
   "id": "a4855c7b-175b-4a07-a812-4f86c2579576",
   "metadata": {
    "tags": []
   },
   "outputs": [
    {
     "name": "stdout",
     "output_type": "stream",
     "text": [
      "think\n",
      "thinking\n"
     ]
    }
   ],
   "source": [
    "print(WordNetLemmatizer().lemmatize('thinking', wordnet.VERB))\n",
    "print(WordNetLemmatizer().lemmatize('thinking', wordnet.ADJ))"
   ]
  },
  {
   "cell_type": "code",
   "execution_count": 5,
   "id": "9af8f626-14b9-42ea-881d-ab62ece5e452",
   "metadata": {
    "tags": []
   },
   "outputs": [
    {
     "name": "stdout",
     "output_type": "stream",
     "text": [
      "create vocabulary DF\n",
      "size of vocabulary 5333\n"
     ]
    }
   ],
   "source": [
    "vocabulary = {}\n",
    "for idx, row in utterances.iterrows():\n",
    "    b_words = lemmatize_passage(row['actionbody'])\n",
    "    for w in b_words:\n",
    "        if w not in dic_words:\n",
    "            vocabulary.update({w:''})\n",
    "\n",
    "print('create vocabulary DF')            \n",
    "voc_df = DataFrame(columns=['word'])\n",
    "voc_df['word'] = vocabulary.keys()\n",
    "voc_df.set_index('word', inplace=True)\n",
    "voc_df.sort_values(by=['word'], ascending=True, inplace=True)\n",
    "\n",
    "print(f'size of vocabulary {len(voc_df)}')"
   ]
  },
  {
   "cell_type": "code",
   "execution_count": 6,
   "id": "625ac191-aeb9-44c9-a396-55ea364168d5",
   "metadata": {
    "tags": []
   },
   "outputs": [
    {
     "data": {
      "text/plain": [
       "26820"
      ]
     },
     "execution_count": 6,
     "metadata": {},
     "output_type": "execute_result"
    }
   ],
   "source": [
    "masked_uttr_df = pd.read_csv('./temp_data/utterances_voc_20250316.csv')\n",
    "masked_uttr_df.set_index('word',inplace=True)\n",
    "len(masked_uttr_df)"
   ]
  },
  {
   "cell_type": "code",
   "execution_count": 7,
   "id": "d067178ce36b71a9",
   "metadata": {
    "tags": []
   },
   "outputs": [
    {
     "data": {
      "text/plain": [
       "5333"
      ]
     },
     "execution_count": 7,
     "metadata": {},
     "output_type": "execute_result"
    }
   ],
   "source": [
    "joined_voc_df = voc_df.join(masked_uttr_df, on='word')\n",
    "joined_voc_df.to_csv('./temp_data/vocabulary.csv',quoting=csv.QUOTE_ALL)\n",
    "len(joined_voc_df)"
   ]
  }
 ],
 "metadata": {
  "kernelspec": {
   "display_name": "Python 3 (ipykernel)",
   "language": "python",
   "name": "python3"
  },
  "language_info": {
   "codemirror_mode": {
    "name": "ipython",
    "version": 3
   },
   "file_extension": ".py",
   "mimetype": "text/x-python",
   "name": "python",
   "nbconvert_exporter": "python",
   "pygments_lexer": "ipython3",
   "version": "3.10.9"
  }
 },
 "nbformat": 4,
 "nbformat_minor": 5
}
