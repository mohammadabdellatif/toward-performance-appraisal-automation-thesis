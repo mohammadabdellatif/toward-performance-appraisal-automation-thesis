{
 "cells": [
  {
   "cell_type": "markdown",
   "id": "fb563002-4d0c-4059-afea-19292ad6e81c",
   "metadata": {},
   "source": [
    "### Load data"
   ]
  },
  {
   "cell_type": "code",
   "id": "02dd2fb9-aaf3-46da-902e-32b9e3403ee9",
   "metadata": {
    "tags": []
   },
   "source": [
    "import matplotlib.pyplot as plt\n",
    "import pandas as pd\n",
    "import exploration.commons as pltutil\n",
    "from exploration.comments_exploration import cloud\n",
    "\n",
    "\n",
    "utterances_df = pd.read_csv('./temp_data/pp_utterances.csv')\n",
    "len(utterances_df)\n"
   ],
   "outputs": [],
   "execution_count": null
  },
  {
   "cell_type": "code",
   "id": "7f27377f",
   "metadata": {
    "collapsed": false,
    "jupyter": {
     "outputs_hidden": false
    }
   },
   "source": [
    "df_grp = utterances_df[['id','author_role']].groupby('author_role').count().reset_index().rename(columns={'author_role':'Author Role','id':'Count'})\n",
    "df_grp = df_grp.set_index('Author Role')\n",
    "df_grp.transpose()"
   ],
   "outputs": [],
   "execution_count": null
  },
  {
   "cell_type": "code",
   "id": "cd8120fc-326f-451b-a045-71532ee0e4ce",
   "metadata": {
    "tags": []
   },
   "source": [
    "# utterances_df = utterances_df[utterances_df['author_role'] == 'assignee']"
   ],
   "outputs": [],
   "execution_count": null
  },
  {
   "cell_type": "markdown",
   "id": "a7e80e19-dd87-43a1-90f0-218ede9f4513",
   "metadata": {
    "tags": []
   },
   "source": [
    "### Words exploration"
   ]
  },
  {
   "cell_type": "markdown",
   "id": "6ab0069d-1bda-44c3-96d6-97bc66332d7a",
   "metadata": {
    "tags": []
   },
   "source": [
    "#### Words cloud"
   ]
  },
  {
   "cell_type": "code",
   "id": "b7100393",
   "metadata": {
    "collapsed": false,
    "jupyter": {
     "outputs_hidden": false
    }
   },
   "source": [
    "fig = plt.figure(figsize=(10,6))\n",
    "ax = fig.add_subplot(111)\n",
    "cloud_df = utterances_df[['pp_actionbody','author','author_role']].reset_index()\n",
    "cloud_df = cloud_df[~pd.isna(cloud_df['pp_actionbody'])]\n",
    "cloud_df.drop_duplicates()\n",
    "cloud(cloud_df,ax,max_words=150)"
   ],
   "outputs": [],
   "execution_count": null
  },
  {
   "cell_type": "code",
   "id": "a58fe138-ec1e-44b3-a455-e3b04653def6",
   "metadata": {
    "tags": []
   },
   "source": [
    "utterances_df[['words_count','pp_words_count']].describe().rename(columns={'words_count':'Words Count','pp_words_count':'Words Count (Preprocessed)'}).transpose()"
   ],
   "outputs": [],
   "execution_count": null
  },
  {
   "cell_type": "markdown",
   "id": "c4a18ef9-0b5b-4446-bba1-7ab9fa48d1e2",
   "metadata": {
    "tags": []
   },
   "source": [
    "#### Words count per issue"
   ]
  },
  {
   "cell_type": "code",
   "id": "314055b3",
   "metadata": {
    "collapsed": false,
    "jupyter": {
     "outputs_hidden": false
    }
   },
   "source": [
    "words_per_issue_df = utterances_df[['issueid','words_count','pp_words_count']].groupby(\"issueid\").sum()"
   ],
   "outputs": [],
   "execution_count": null
  },
  {
   "cell_type": "code",
   "id": "10ef20ee",
   "metadata": {
    "collapsed": false,
    "jupyter": {
     "outputs_hidden": false
    }
   },
   "source": [
    "words_per_issue_df.describe().rename(columns={'words_count':'Words Count','pp_words_count':'Words Count (Preprocessed)'}).transpose()"
   ],
   "outputs": [],
   "execution_count": null
  },
  {
   "cell_type": "code",
   "id": "4b26089f-dc25-4b44-b905-d0c2793f39dd",
   "metadata": {
    "tags": []
   },
   "source": [
    "fig = plt.figure(figsize=(16,6))\n",
    "ax = fig.add_subplot(121)\n",
    "\n",
    "pltutil.plot_hist(ax, \n",
    "        words_per_issue_df['words_count'], \n",
    "        bins=200,\n",
    "        xlabel='Words Count',\n",
    "        ylabel='Frequency',\n",
    "        grid='both', \n",
    "        max_y=1400,\n",
    "        xsteps=500,\n",
    "        ysteps=100,\n",
    "        xrotation=90)\n",
    "\n",
    "ax = fig.add_subplot(122)\n",
    "\n",
    "pltutil.plot_hist(ax, \n",
    "        words_per_issue_df['pp_words_count'], \n",
    "        bins=200,\n",
    "        xlabel='Words Count (Preprocessed)',\n",
    "        ylabel='Frequency',\n",
    "        grid='both', \n",
    "        max_y=1500,\n",
    "        xsteps=500,\n",
    "        ysteps=100,\n",
    "        xrotation=90)\n",
    "\n",
    "fig = plt.figure(figsize=(16,2))\n",
    "ax = fig.add_subplot(121)\n",
    "pltutil.plot_box(ax,\n",
    "                  words_per_issue_df['words_count'], \n",
    "                  label='Words Count',\n",
    "                  vertical=False,\n",
    "                  steps=500,\n",
    "                  grid='x',\n",
    "                  rotation=90)\n",
    "\n",
    "ax = fig.add_subplot(122)\n",
    "pltutil.plot_box(ax,\n",
    "                  words_per_issue_df['pp_words_count'], \n",
    "                  label='Words Count (Preprocessed)',\n",
    "                  vertical=False,\n",
    "                  steps=500,\n",
    "                  grid='x',\n",
    "                  rotation=90)"
   ],
   "outputs": [],
   "execution_count": null
  },
  {
   "cell_type": "markdown",
   "id": "0e96fc48-4f41-470a-abd6-22910a23c0cb",
   "metadata": {
    "tags": []
   },
   "source": [
    "#### Words per comment"
   ]
  },
  {
   "cell_type": "code",
   "id": "fe293d00-992d-4606-8e6f-2175f6fe0181",
   "metadata": {
    "tags": []
   },
   "source": [
    "words_per_comment_df = utterances_df[['id','issueid','words_count','pp_words_count']].groupby(['id','issueid']).sum()\n",
    "words_per_comment_df.head(3)"
   ],
   "outputs": [],
   "execution_count": null
  },
  {
   "cell_type": "code",
   "id": "120b065c-4a6a-4a46-af5b-75a060d972ff",
   "metadata": {
    "tags": []
   },
   "source": [
    "words_per_comment_df[['words_count','pp_words_count']].describe().rename(columns={'words_count':'Words Count','pp_words_count':'Words Count (Preprocessed)'}).transpose()"
   ],
   "outputs": [],
   "execution_count": null
  },
  {
   "cell_type": "code",
   "id": "31ef415e-73ae-45bd-bf77-4cfa7217ce95",
   "metadata": {
    "tags": []
   },
   "source": [
    "fig = plt.figure(figsize=(16,6))\n",
    "ax = fig.add_subplot(121)\n",
    "\n",
    "pltutil.plot_hist(ax, \n",
    "        words_per_comment_df['words_count'], \n",
    "        bins=200,\n",
    "        xlabel='Words Count',\n",
    "        ylabel='Frequency',\n",
    "        grid='both', \n",
    "        max_y=35000,\n",
    "        xsteps=500,\n",
    "        ysteps=5000,\n",
    "        xrotation=90)\n",
    "\n",
    "ax = fig.add_subplot(122)\n",
    "\n",
    "pltutil.plot_hist(ax, \n",
    "        words_per_comment_df['pp_words_count'], \n",
    "        bins=200,\n",
    "        xlabel='Words Count (Preprocessed)',\n",
    "        ylabel='Frequency',\n",
    "        grid='both', \n",
    "        max_y=35000,\n",
    "        xsteps=500,\n",
    "        ysteps=5000,\n",
    "        xrotation=90)\n",
    "\n",
    "fig = plt.figure(figsize=(16,2))\n",
    "ax = fig.add_subplot(121)\n",
    "pltutil.plot_box(ax,\n",
    "                  words_per_comment_df['words_count'], \n",
    "                  label='Words Count',\n",
    "                  vertical=False,\n",
    "                  steps=500,\n",
    "                  grid='x',\n",
    "                  rotation=90)\n",
    "\n",
    "ax = fig.add_subplot(122)\n",
    "pltutil.plot_box(ax,\n",
    "                  words_per_comment_df['pp_words_count'], \n",
    "                  label='Words Count (Preprocessed)',\n",
    "                  vertical=False,\n",
    "                  steps=500,\n",
    "                  grid='x',\n",
    "                  rotation=90)"
   ],
   "outputs": [],
   "execution_count": null
  },
  {
   "cell_type": "markdown",
   "id": "abf00af3-5242-46c5-8584-f75767a14fba",
   "metadata": {
    "tags": []
   },
   "source": [
    "### Utterances exploration"
   ]
  },
  {
   "cell_type": "code",
   "id": "2fdb1df4",
   "metadata": {
    "collapsed": false,
    "jupyter": {
     "outputs_hidden": false
    }
   },
   "source": [
    "comments_per_issue_df = utterances_df[['issueid', 'id', 'utr_seq']].groupby(['issueid', 'id']).count()\n",
    "comments_per_issue_df = comments_per_issue_df.rename(columns={'utr_seq': 'utterances_count'})\n",
    "comments_per_issue_df.head(10)"
   ],
   "outputs": [],
   "execution_count": null
  },
  {
   "cell_type": "code",
   "id": "36e18804-898e-47dd-8c78-fdcff55cec77",
   "metadata": {
    "tags": []
   },
   "source": [
    "comments_per_issue_df.describe().transpose()"
   ],
   "outputs": [],
   "execution_count": null
  },
  {
   "cell_type": "code",
   "id": "a4424777",
   "metadata": {
    "collapsed": false,
    "jupyter": {
     "outputs_hidden": false
    }
   },
   "source": [
    "utter_per_issue_df = comments_per_issue_df.groupby('issueid').sum('utterances_count')\n",
    "utter_per_issue_df.head(5)"
   ],
   "outputs": [],
   "execution_count": null
  },
  {
   "cell_type": "code",
   "id": "4672d250",
   "metadata": {
    "collapsed": false,
    "jupyter": {
     "outputs_hidden": false
    }
   },
   "source": [
    "utter_per_issue_df.describe().rename(columns={'utterances_count':'Utterances Count'}).transpose()"
   ],
   "outputs": [],
   "execution_count": null
  },
  {
   "cell_type": "code",
   "id": "edcf4fa8",
   "metadata": {
    "collapsed": false,
    "jupyter": {
     "outputs_hidden": false
    }
   },
   "source": [
    "fig = plt.figure(figsize=(8,6))\n",
    "ax = fig.add_subplot(111)\n",
    "\n",
    "pltutil.plot_hist(ax, \n",
    "        utter_per_issue_df['utterances_count'], \n",
    "        bins=200,\n",
    "        xlabel='Utterances Count',\n",
    "        ylabel='Frequency',\n",
    "        grid='both', \n",
    "        max_y=1000,\n",
    "        xsteps=50,\n",
    "        ysteps=50,\n",
    "        xrotation=90)"
   ],
   "outputs": [],
   "execution_count": null
  },
  {
   "cell_type": "code",
   "id": "e185737c",
   "metadata": {
    "collapsed": false,
    "jupyter": {
     "outputs_hidden": false
    },
    "tags": []
   },
   "source": [
    "fig = plt.figure(figsize=(8,2))\n",
    "ax = fig.add_subplot(111)\n",
    "pltutil.plot_box(ax,\n",
    "                  utter_per_issue_df['utterances_count'], \n",
    "                  label='Utterances Count',\n",
    "                  vertical=False,\n",
    "                  steps=50,\n",
    "                  grid='x',\n",
    "                  rotation=90)\n"
   ],
   "outputs": [],
   "execution_count": null
  }
 ],
 "metadata": {
  "kernelspec": {
   "display_name": "Python 3 (ipykernel)",
   "language": "python",
   "name": "python3"
  },
  "language_info": {
   "codemirror_mode": {
    "name": "ipython",
    "version": 3
   },
   "file_extension": ".py",
   "mimetype": "text/x-python",
   "name": "python",
   "nbconvert_exporter": "python",
   "pygments_lexer": "ipython3",
   "version": "3.10.9"
  }
 },
 "nbformat": 4,
 "nbformat_minor": 5
}
