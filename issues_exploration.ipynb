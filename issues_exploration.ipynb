{
 "cells": [
  {
   "cell_type": "markdown",
   "id": "1a3e312b-7ed1-4eb4-90e8-7bdc89440b12",
   "metadata": {
    "jp-MarkdownHeadingCollapsed": true,
    "tags": []
   },
   "source": [
    "## Install required packages"
   ]
  },
  {
   "cell_type": "code",
   "execution_count": null,
   "id": "b51e8359-4197-4c14-aec8-7395cc97c57f",
   "metadata": {
    "tags": []
   },
   "outputs": [],
   "source": [
    "# !pip install psycopg2-binary\n",
    "!pip --version\n",
    "\n",
    "!pip install -r requirements.txt"
   ]
  },
  {
   "cell_type": "markdown",
   "id": "e9491380-e3e1-4212-8c19-03ee0a491a07",
   "metadata": {
    "tags": []
   },
   "source": [
    "## Do general imports"
   ]
  },
  {
   "cell_type": "code",
   "execution_count": null,
   "id": "284f13a5-123e-4236-9570-e5371ddc3abb",
   "metadata": {
    "tags": []
   },
   "outputs": [],
   "source": [
    "import numpy as np\n",
    "import seaborn as sns\n",
    "import matplotlib.pyplot as plt\n",
    "import pandas as pd\n",
    "import math as math\n",
    "from sklearn import preprocessing\n",
    "from feature_engine.discretisation import ArbitraryDiscretiser\n",
    "\n",
    "from preprocessing.issues_clustering import TotalTimeClusteringPreProcess\n",
    "import preprocessing.projects as ppp\n",
    "import exploration.analytics_plots as vs\n",
    "\n",
    "pd.set_option('display.max_columns', None)\n",
    "plt.rcParams.update({'font.size': 14})\n"
   ]
  },
  {
   "cell_type": "markdown",
   "id": "d74adbd8-5c1d-433a-84a6-1bc975560573",
   "metadata": {
    "tags": []
   },
   "source": [
    "## Load Datasets"
   ]
  },
  {
   "cell_type": "code",
   "execution_count": null,
   "id": "6e36278e-1525-4524-aac7-cea514884173",
   "metadata": {},
   "outputs": [],
   "source": [
    "issues_df = pd.read_csv('./temp_data/issues.csv', index_col=[\"id\"])\n",
    "issues_df['issue_created'] = pd.to_datetime(issues_df['issue_created'])\n",
    "print(F'Total records in dataset %i' % len(issues_df))"
   ]
  },
  {
   "cell_type": "markdown",
   "id": "36959a9f-789a-43bb-8d27-c90c8fc2924c",
   "metadata": {
    "tags": []
   },
   "source": [
    "### Plot issues per year"
   ]
  },
  {
   "cell_type": "code",
   "execution_count": null,
   "id": "b57087a6-a8ab-46e5-8773-14402af8d857",
   "metadata": {},
   "outputs": [],
   "source": [
    "fig = plt.figure(figsize=(10,5))\n",
    "\n",
    "ax = fig.add_subplot(111)\n",
    "df = issues_df[(issues_df['issue_created'] <= '2022-12-31')]\n",
    "vs.plot_issues_by_year(df,ax)"
   ]
  },
  {
   "cell_type": "markdown",
   "id": "db4a37b2-7308-4a2e-a66d-6087eb957603",
   "metadata": {
    "tags": []
   },
   "source": [
    "### Keep the issues reported in 2022 for the study"
   ]
  },
  {
   "cell_type": "code",
   "execution_count": null,
   "id": "7a4f04e2-dbf7-432a-aab3-510da27f979e",
   "metadata": {
    "tags": []
   },
   "outputs": [],
   "source": [
    "\n",
    "\n",
    "# types = ['Ticket','Service','Deployment','HD Service','Project']\n",
    "types = ['Ticket','Deployment','HD Service']\n",
    "\n",
    "issues_df = issues_df[(issues_df['issue_proj'].str.match('\\w{2}\\d{2}\\w{1,}'))\n",
    "                      & (issues_df['issue_type'].isin(types))\n",
    "                      & (issues_df['issue_created'] >= '2022-01-01')\n",
    "                      & (issues_df['issue_created'] <= '2022-12-31')\n",
    "                      & pd.notna(issues_df['issue_resolution_date'])]\n",
    "                      # & (issues_df['issue_priority'] == 'High')]\n",
    "print(F'Total records after filter %i' % len(issues_df))\n",
    "\n",
    "issues_df.head(1)"
   ]
  },
  {
   "cell_type": "markdown",
   "id": "16beb762-83ee-4103-8568-2ed2e27c7f59",
   "metadata": {
    "tags": []
   },
   "source": [
    "### Find number of tickets peer type"
   ]
  },
  {
   "cell_type": "code",
   "execution_count": null,
   "id": "e96bac6b-237c-4881-84ee-d83f014b769f",
   "metadata": {
    "tags": []
   },
   "outputs": [],
   "source": [
    "print(issues_df['issue_type'].value_counts())\n",
    "print(len(issues_df['issue_proj'].unique()))"
   ]
  },
  {
   "cell_type": "code",
   "execution_count": null,
   "id": "ad1a0b0f-0214-4ea9-96be-b6dc99c1dc79",
   "metadata": {
    "tags": []
   },
   "outputs": [],
   "source": [
    "issues_df.head(2)"
   ]
  },
  {
   "cell_type": "markdown",
   "id": "31cbfc35-00d1-4fe0-b933-0e90ea88a1a8",
   "metadata": {
    "tags": []
   },
   "source": [
    "### Explore reported issues by priority"
   ]
  },
  {
   "cell_type": "code",
   "execution_count": null,
   "id": "df5e93ad-530a-45b7-8acc-69093a960919",
   "metadata": {
    "tags": []
   },
   "outputs": [],
   "source": [
    "# plt.autoscale(enable=False)\n",
    "\n",
    "fig = plt.figure(figsize=(10, 6))\n",
    "\n",
    "ax = fig.add_subplot(111)\n",
    "vs.plot_issues_by_month(issues_df, ax)\n",
    "\n",
    "fig = plt.figure(figsize=(10, 5))\n",
    "ax = fig.add_subplot(111)\n",
    "vs.plot_issues_by_priority(issues_df, ax)\n",
    "\n",
    "# fig = plt.figure(figsize=(10, 5))\n",
    "# ax = fig.add_subplot(111)\n",
    "# vs.plot_total_time_bin(issues_df, result, ax)\n",
    "\n",
    "# fig = plt.figure(figsize=(10, 5))\n",
    "# ax = fig.add_subplot(111)\n",
    "# vs.plot_box_by_issue_category(issues_df, result, ax)"
   ]
  },
  {
   "cell_type": "markdown",
   "id": "b0a57e1a-7011-44c3-8248-f4c4c5efa96e",
   "metadata": {
    "tags": []
   },
   "source": [
    "## Inspect comments"
   ]
  },
  {
   "cell_type": "markdown",
   "id": "ef231a38-3995-4880-97eb-4f2d5e48a9bf",
   "metadata": {
    "tags": []
   },
   "source": [
    "### Explore issues spent time Vs. Comments"
   ]
  },
  {
   "cell_type": "code",
   "execution_count": null,
   "id": "fb7a551e-9678-4ebf-ac58-d20ca1293d7a",
   "metadata": {
    "tags": []
   },
   "outputs": [],
   "source": [
    "fig = plt.figure(figsize=(10,5))\n",
    "ax = fig.add_subplot(111)\n",
    "# ax.autoscale(enable=False)\n",
    "vs.plot_comments_count_frequency(issues_df, ax)\n",
    "\n",
    "fig = plt.figure(figsize=(10,2))\n",
    "ax = fig.add_subplot(111)\n",
    "vs.plot_comments_count_summary(issues_df, ax)\n",
    "\n",
    "fig = plt.figure(figsize=(10,5))\n",
    "ax = fig.add_subplot(111)\n",
    "vs.plot_comments_count_time_spent(issues_df, ax)"
   ]
  },
  {
   "cell_type": "markdown",
   "id": "fa37ddd6-8a6a-4e2c-ae91-32046038ea8e",
   "metadata": {
    "tags": []
   },
   "source": [
    "## Total spent time analysis"
   ]
  },
  {
   "cell_type": "markdown",
   "id": "18c59f68-c5de-43cb-b278-c0925b5554f8",
   "metadata": {
    "tags": []
   },
   "source": [
    "### Plot summary for each workflow step"
   ]
  },
  {
   "cell_type": "code",
   "execution_count": null,
   "id": "5c7375fc-1b9a-4618-a55c-7587f599923c",
   "metadata": {
    "tags": []
   },
   "outputs": [],
   "source": [
    "vs.wf_steps_summary(issues_df, divider = 60).round(2)"
   ]
  },
  {
   "cell_type": "code",
   "execution_count": null,
   "id": "c4d14507-65db-43ee-a15a-4d51d86e7d33",
   "metadata": {
    "tags": []
   },
   "outputs": [],
   "source": [
    "fig = plt.figure(figsize=(10, 10))\n",
    "ax = fig.add_subplot(111)\n",
    "\n",
    "vs.plot_wf_spent_summary(issues_df, ax,divider = 60*60)"
   ]
  },
  {
   "cell_type": "markdown",
   "id": "01aaf801-674f-402f-bb8e-b893f0e8e963",
   "metadata": {
    "tags": []
   },
   "source": [
    "### plot summary for total workflow time"
   ]
  },
  {
   "cell_type": "code",
   "execution_count": null,
   "id": "b9baca82-709c-4daf-9584-b6c585f01288",
   "metadata": {
    "tags": []
   },
   "outputs": [],
   "source": [
    "fig = plt.figure(figsize=(15, 2))\n",
    "\n",
    "ax = fig.add_subplot(111)\n",
    "vs.plot_wf_total_time_summary(issues_df, ax)\n",
    "\n",
    "fig = plt.figure(figsize=(15, 2))\n",
    "ax = fig.add_subplot(111)\n",
    "vs.plot_issues_processing_steps(issues_df, ax)\n",
    "\n",
    "issues_df[['processing_steps']].describe().transpose()"
   ]
  },
  {
   "cell_type": "code",
   "execution_count": null,
   "id": "bab594ba-8f0f-46f4-9b6d-4620cea3464b",
   "metadata": {
    "tags": []
   },
   "outputs": [],
   "source": [
    "t = issues_df[['wf_total_time']].copy()\n",
    "t['wf_total_time'] = t['wf_total_time']/(60*60*24)\n",
    "t[['wf_total_time']].describe().transpose()"
   ]
  },
  {
   "cell_type": "markdown",
   "id": "90954382-dd4b-4e4a-af03-b5b52e914296",
   "metadata": {
    "tags": []
   },
   "source": [
    "### Explore the relation between steps count and total processing time"
   ]
  },
  {
   "cell_type": "code",
   "execution_count": null,
   "id": "fb53f8ef-7c4c-493a-b38e-47547226c476",
   "metadata": {
    "tags": []
   },
   "outputs": [],
   "source": [
    "# fig = plt.figure(figsize=(20, 6))\n",
    "\n",
    "# max_ps = issues_df['processing_steps'].max()\n",
    "# max_wf_time = issues_df['wf_total_time'].max()\n",
    "\n",
    "# proj_cat = issues_df['proj_category'].drop_duplicates().sort_values()\n",
    "# for i,c in enumerate(proj_cat):    \n",
    "#     ax = fig.add_subplot(2,3,i+1)\n",
    "#     df = issues_df[issues_df['proj_category'] == c]\n",
    "#     vs.plot_relation_between_processing_steps_and_time(df, ax, max_x = math.ceil(max_wf_time), max_y=math.ceil(max_ps))\n",
    "\n",
    "fig = plt.figure(figsize=(10, 5))\n",
    "ax = fig.add_subplot(111)\n",
    "vs.plot_relation_between_processing_steps_and_time(issues_df, ax)\n",
    "\n",
    "fig = plt.figure(figsize=(10, 5))\n",
    "ax = fig.add_subplot(111)\n",
    "vs.plot_processing_steps_frequency(issues_df, ax)"
   ]
  },
  {
   "cell_type": "markdown",
   "id": "41b467aa-9a32-4229-9298-3787703df8c8",
   "metadata": {},
   "source": [
    "### Explore number of contributors for each ticket"
   ]
  },
  {
   "cell_type": "code",
   "execution_count": null,
   "id": "ac8da53d-35f7-4904-b276-7641ed9ebdfa",
   "metadata": {
    "tags": []
   },
   "outputs": [],
   "source": [
    "contr = issues_df[['issue_contr_count']]\n",
    "\n",
    "fig = plt.figure(figsize=(10, 2))\n",
    "ax = fig.add_subplot(111)\n",
    "\n",
    "vs.plot_issue_contributors_summary(contr, ax)\n",
    "\n",
    "fig = plt.figure(figsize=(5, 5))\n",
    "ax = fig.add_subplot(111)\n",
    "vs.plot_issue_contributors_frequency(contr, ax)\n",
    "\n",
    "fig = plt.figure(figsize=(5, 5))\n",
    "ax = fig.add_subplot(111)\n",
    "vs.plot_issue_contributors_to_total_spent_time(issues_df, ax)\n",
    "\n",
    "fig = plt.figure(figsize=(5, 5))\n",
    "ax = fig.add_subplot(111)\n",
    "vs.plot_issue_contributors_to_total_comments(issues_df, ax)"
   ]
  }
 ],
 "metadata": {
  "kernelspec": {
   "display_name": "Python 3 (ipykernel)",
   "language": "python",
   "name": "python3"
  },
  "language_info": {
   "codemirror_mode": {
    "name": "ipython",
    "version": 3
   },
   "file_extension": ".py",
   "mimetype": "text/x-python",
   "name": "python",
   "nbconvert_exporter": "python",
   "pygments_lexer": "ipython3",
   "version": "3.10.9"
  }
 },
 "nbformat": 4,
 "nbformat_minor": 5
}
