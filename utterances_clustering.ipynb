{
 "cells": [
  {
   "cell_type": "markdown",
   "id": "bb0c795f-9ed7-4bbd-bd78-efe4bd4b7954",
   "metadata": {},
   "source": [
    "https://spotintelligence.com/2023/02/15/word2vec-for-text-classification/#Text_classification_using_Word2Vec_Python"
   ]
  },
  {
   "cell_type": "markdown",
   "id": "1a3e312b-7ed1-4eb4-90e8-7bdc89440b12",
   "metadata": {
    "jp-MarkdownHeadingCollapsed": true,
    "tags": []
   },
   "source": [
    "## Install required packages"
   ]
  },
  {
   "cell_type": "code",
   "execution_count": null,
   "id": "b51e8359-4197-4c14-aec8-7395cc97c57f",
   "metadata": {
    "tags": []
   },
   "source": [
    "# !pip install psycopg2-binary\n",
    "# referencing code samples in https://towardsdatascience.com/elbow-method-is-not-sufficient-to-find-best-k-in-k-means-clustering-fc820da0631d#:~:text=The%20elbow%20method%20is%20a,cluster%20and%20the%20cluster%20centroid.\n",
    "!pip --version\n",
    "\n",
    "!pip install -r requirements.txt"
   ],
   "outputs": []
  },
  {
   "cell_type": "markdown",
   "id": "e9491380-e3e1-4212-8c19-03ee0a491a07",
   "metadata": {
    "tags": []
   },
   "source": [
    "## Do general imports"
   ]
  },
  {
   "cell_type": "code",
   "execution_count": null,
   "id": "284f13a5-123e-4236-9570-e5371ddc3abb",
   "metadata": {
    "tags": []
   },
   "source": [
    "import numpy as np\n",
    "import seaborn as sns\n",
    "import matplotlib.pyplot as plt\n",
    "import pandas as pd\n",
    "import math as math\n",
    "from yellowbrick.cluster import KElbowVisualizer\n",
    "from yellowbrick.cluster import SilhouetteVisualizer\n",
    "from sklearn.cluster import KMeans\n",
    "from sklearn.preprocessing import StandardScaler\n",
    "from scipy.stats import f_oneway\n",
    "from scipy.stats import kruskal\n",
    "from gensim.models import Word2Vec\n",
    "from sklearn.decomposition import PCA\n",
    "\n",
    "\n",
    "pd.set_option('display.max_columns', None)"
   ],
   "outputs": []
  },
  {
   "cell_type": "code",
   "execution_count": null,
   "id": "554f5a99-90ef-470e-990b-bc7207a4bc75",
   "metadata": {
    "tags": []
   },
   "source": [
    "a = np.array([[1,1,1],[1,2,2],[1,3,3]])\n",
    "a.mean(axis=0)"
   ],
   "outputs": []
  },
  {
   "cell_type": "code",
   "execution_count": null,
   "id": "277ff3a7-c4da-46c1-bd4c-5bb1dba5efc0",
   "metadata": {
    "tags": []
   },
   "source": [
    "max_clusters = 40\n",
    "vector_size = 300\n",
    "author_role = 'others'\n",
    "\n",
    "def vectorize(sentence, w2v_model):\n",
    "    words = sentence.split()\n",
    "    words_vecs = [w2v_model.wv[word] for word in words if word in w2v_model.wv]\n",
    "    if len(words_vecs) == 0:\n",
    "        return np.zeros(vector_size)\n",
    "    words_vecs = np.array(words_vecs)\n",
    "    return words_vecs.mean(axis=0)"
   ],
   "outputs": []
  },
  {
   "cell_type": "markdown",
   "id": "d74adbd8-5c1d-433a-84a6-1bc975560573",
   "metadata": {
    "tags": []
   },
   "source": [
    "## Load Datasets"
   ]
  },
  {
   "cell_type": "code",
   "execution_count": null,
   "id": "7df54375-7af5-459a-b9fc-3e597dd54c28",
   "metadata": {
    "tags": []
   },
   "source": [
    "utterances_df = pd.read_csv('./temp_data/pp_utterances.csv')\n",
    "utterances_df = utterances_df[utterances_df['author_role'] == author_role]\n",
    "utterances_df = utterances_df[~((utterances_df['author'].isin(['admin', 'u003']))\n",
    "                                    & (utterances_df['comment_seq'] < 3)\n",
    "                                    & (utterances_df['author_role'] == 'others'))]\n",
    "print(len(utterances_df))\n",
    "utterances_df.head(2)"
   ],
   "outputs": []
  },
  {
   "cell_type": "code",
   "execution_count": null,
   "id": "97b3a795-c40e-41c1-8f93-84e808df5349",
   "metadata": {
    "tags": []
   },
   "source": [
    "text = utterances_df['pp_actionbody'].astype(str)\n",
    "\n",
    "sentences = [str(sentence).split() for sentence in text]\n",
    "print('train model')\n",
    "w2v_model = Word2Vec(sentences, vector_size=vector_size, window=5, min_count=5, workers=1,seed=42)\n",
    "print('word2vec model built')"
   ],
   "outputs": []
  },
  {
   "cell_type": "code",
   "execution_count": null,
   "id": "0f197817-bbfa-47d3-8309-ddd379a0c3a9",
   "metadata": {
    "tags": []
   },
   "source": [
    "f_names = [f'f{i}' for i in range(0,vector_size)]\n",
    "rows = []\n",
    "\n",
    "for t in text:\n",
    "    rows.append(vectorize(t, w2v_model))\n",
    "\n",
    "df = pd.DataFrame(columns=f_names, data = rows)\n",
    "print(len(df))"
   ],
   "outputs": []
  },
  {
   "cell_type": "code",
   "execution_count": null,
   "id": "f1c7112d-1c72-4b9a-b78c-eaa73b541cac",
   "metadata": {
    "tags": []
   },
   "source": [
    "df.head(1)"
   ],
   "outputs": []
  },
  {
   "cell_type": "code",
   "execution_count": null,
   "id": "34094f95-fb83-4e1b-b0bb-06cf97fe13c3",
   "metadata": {
    "tags": []
   },
   "source": [
    "km = KMeans(n_init=\"auto\",random_state=42)\n",
    "\n",
    "visualizer = KElbowVisualizer(km, k=(2,max_clusters+1),timings=False)\n",
    "visualizer.ax.set_xlabel('k',fontsize=14) \n",
    "visualizer.ax.set_ylabel('distortion score',fontsize=14) \n",
    "\n",
    "visualizer.fit(df)        # Fit the data to the visualizer\n",
    "visualizer.show()        # Finalize and render the figure"
   ],
   "outputs": []
  },
  {
   "cell_type": "code",
   "execution_count": null,
   "id": "44367a00-dbe6-4e52-a365-c773101271ea",
   "metadata": {
    "tags": []
   },
   "source": [
    "print(f'best k is {visualizer.elbow_value_}')\n",
    "km = KMeans(n_clusters=visualizer.elbow_value_, n_init='auto', random_state=42)\n",
    "km.fit(df)\n",
    "\n",
    "# pca = PCA(n_components=2)\n",
    "# pca = pca.fit_transform(df.to_numpy())\n",
    "# pca_df = pd.DataFrame(columns=['pc1','pc2'],data=pca)\n",
    "\n",
    "# pca_df['label'] = km.labels_\n",
    "# # pca_df.head(3)"
   ],
   "outputs": []
  },
  {
   "cell_type": "code",
   "execution_count": null,
   "id": "12e0ab39-eca1-43eb-a826-409464b7ca09",
   "metadata": {
    "tags": []
   },
   "source": [
    "# pca_df['label'].value_counts()"
   ],
   "outputs": []
  },
  {
   "cell_type": "code",
   "execution_count": null,
   "id": "3690618a-3c92-4a2c-b57d-38a6aa4b1072",
   "metadata": {
    "tags": []
   },
   "source": [
    "# fig = plt.figure(figsize=(8,8))\n",
    "# ax = fig.add_subplot(111)\n",
    "# for c in pca_df['label'].drop_duplicates():\n",
    "#     pca_l = pca_df[pca_df['label'] == c]\n",
    "#     ax.scatter(pca_l['pc1'],pca_l['pc2'],label=f'{c}-{len(pca_l)}')\n",
    "# ax.legend()"
   ],
   "outputs": []
  },
  {
   "cell_type": "code",
   "execution_count": null,
   "id": "2b30e532-3604-44a8-a719-1accf1045e42",
   "metadata": {
    "tags": []
   },
   "source": [
    "from pathlib import Path\n",
    "\n",
    "utterances_df['label'] = km.labels_\n",
    "for c in utterances_df['label'].drop_duplicates():\n",
    "    c_df = utterances_df[utterances_df['label'] == c]\n",
    "    Path(f'./temp_data/{author_role}/{vector_size}').mkdir(exist_ok=True,parents=True)\n",
    "    c_df.to_csv(f'./temp_data/{author_role}/{vector_size}/pp_utterances_{c}.csv')\n",
    "print('saved')"
   ],
   "outputs": []
  },
  {
   "cell_type": "code",
   "execution_count": null,
   "id": "dc7480d3-17f0-499b-8cb2-c399967c0d83",
   "metadata": {
    "tags": []
   },
   "source": [
    "# for i in range(2,max_clusters + 1):\n",
    "#     km = KMeans(n_clusters=i, n_init='auto', random_state=42)\n",
    "#     q, mod = divmod(i, 3)\n",
    "#     fig = plt.figure(figsize=(6,2))\n",
    "#     ax = fig.add_subplot(1,1,1)\n",
    "#     ax.set_ylabel('Size')\n",
    "#     ax.set_xlabel(f'Score')\n",
    "#     ax.set_title(f'{i} clusters')\n",
    "#     visualizer = SilhouetteVisualizer(km,colors=sns.color_palette(\"tab10\"), ax=ax)\n",
    "#     visualizer.fit(df)"
   ],
   "outputs": []
  },
  {
   "cell_type": "code",
   "execution_count": null,
   "id": "7d915b7c-e64a-4ae0-a51a-a75f772f8974",
   "metadata": {
    "tags": []
   },
   "source": [
    "# km = KMeans(n_clusters=4, n_init='auto', random_state=42)\n",
    "# km.fit(df)\n",
    "\n",
    "# df_pp = issues_df[columns].copy()\n",
    "# df_pp.loc[:,'category'] = km.labels_\n",
    "\n"
   ],
   "outputs": []
  }
 ],
 "metadata": {
  "kernelspec": {
   "display_name": "Python 3 (ipykernel)",
   "language": "python",
   "name": "python3"
  },
  "language_info": {
   "codemirror_mode": {
    "name": "ipython",
    "version": 3
   },
   "file_extension": ".py",
   "mimetype": "text/x-python",
   "name": "python",
   "nbconvert_exporter": "python",
   "pygments_lexer": "ipython3",
   "version": "3.10.9"
  }
 },
 "nbformat": 4,
 "nbformat_minor": 5
}
