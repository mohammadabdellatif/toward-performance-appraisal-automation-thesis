{
 "cells": [
  {
   "cell_type": "markdown",
   "id": "1a3e312b-7ed1-4eb4-90e8-7bdc89440b12",
   "metadata": {
    "tags": []
   },
   "source": [
    "## Install required packages"
   ]
  },
  {
   "cell_type": "code",
   "execution_count": null,
   "id": "b51e8359-4197-4c14-aec8-7395cc97c57f",
   "metadata": {
    "tags": []
   },
   "outputs": [],
   "source": [
    "# !pip install psycopg2-binary\n",
    "!pip --version\n",
    "\n",
    "!pip install -r requirements.txt"
   ]
  },
  {
   "cell_type": "markdown",
   "id": "e9491380-e3e1-4212-8c19-03ee0a491a07",
   "metadata": {
    "tags": []
   },
   "source": [
    "## Do general imports"
   ]
  },
  {
   "cell_type": "code",
   "execution_count": null,
   "id": "284f13a5-123e-4236-9570-e5371ddc3abb",
   "metadata": {
    "tags": []
   },
   "outputs": [],
   "source": [
    "import numpy as np\n",
    "import seaborn as sns\n",
    "import matplotlib.pyplot as plt\n",
    "import pandas as pd\n",
    "import math as math\n",
    "from sklearn import preprocessing\n",
    "from feature_engine.discretisation import ArbitraryDiscretiser\n",
    "\n",
    "from preprocessing.projects import ProjectsPreProcess\n",
    "import exploration.analytics_plots as vs\n",
    "\n",
    "pd.set_option('display.max_columns', None)\n"
   ]
  },
  {
   "cell_type": "markdown",
   "id": "d74adbd8-5c1d-433a-84a6-1bc975560573",
   "metadata": {
    "tags": []
   },
   "source": [
    "## Load Datasets"
   ]
  },
  {
   "cell_type": "code",
   "execution_count": null,
   "id": "6e36278e-1525-4524-aac7-cea514884173",
   "metadata": {},
   "outputs": [],
   "source": [
    "issues_df = pd.read_csv('./temp_data/issues.csv', index_col=[\"id\"])\n",
    "\n",
    "# types = ['Ticket','Service','Deployment','HD Service','Project']\n",
    "types = ['Ticket','Deployment','HD Service']\n",
    "\n",
    "issues_df = issues_df[(issues_df['issue_proj'].str.match('\\w{2}\\d{2}\\w{1,}'))\n",
    "                      & (issues_df['issue_type'].isin(types))\n",
    "                      & (issues_df['issue_created'] >= '2022-01-01')\n",
    "                      & (issues_df['issue_created'] <= '2022-12-31')\n",
    "                      & pd.notna(issues_df['issue_resolution_date'])]\n",
    "                      # & (issues_df['issue_priority'] == 'High')]\n",
    "print(F'Total records after filter %i' % len(issues_df))\n",
    "\n",
    "issues_df.head(1)"
   ]
  },
  {
   "cell_type": "markdown",
   "id": "a7e0392d-470e-424a-952f-20997e8e8838",
   "metadata": {
    "tags": []
   },
   "source": [
    "## Data pre-processing"
   ]
  },
  {
   "cell_type": "markdown",
   "id": "02669adb-0cd1-4348-a986-9ac0702236cd",
   "metadata": {
    "tags": []
   },
   "source": [
    "### Cluster issues by wf_total_time and cluster by Project category"
   ]
  },
  {
   "cell_type": "code",
   "execution_count": null,
   "id": "ad1a0b0f-0214-4ea9-96be-b6dc99c1dc79",
   "metadata": {
    "tags": []
   },
   "outputs": [],
   "source": [
    "projects_preprocess = ProjectsPreProcess()\n",
    "\n",
    "projects_labels_df = projects_preprocess.pre_process(issues_df)\n",
    "projects_preprocess.merge(issues_df, projects_labels_df)\n",
    "\n",
    "issues_df.head(2)"
   ]
  },
  {
   "cell_type": "markdown",
   "id": "90954382-dd4b-4e4a-af03-b5b52e914296",
   "metadata": {
    "tags": []
   },
   "source": [
    "### Explore the relation between steps count and total processing time"
   ]
  },
  {
   "cell_type": "code",
   "execution_count": null,
   "id": "fb53f8ef-7c4c-493a-b38e-47547226c476",
   "metadata": {
    "tags": []
   },
   "outputs": [],
   "source": [
    "fig = plt.figure(figsize=(20, 20))\n",
    "\n",
    "max_ps = issues_df['processing_steps'].max()\n",
    "max_wf_time = issues_df['wf_total_time'].max()\n",
    "max_com = issues_df['issue_comments_count'].max()\n",
    "\n",
    "proj_cat = issues_df['proj_category'].drop_duplicates().sort_values()\n",
    "t = 1\n",
    "for i,c in enumerate(proj_cat):  \n",
    "    df = issues_df[issues_df['proj_category'] == c]\n",
    "    \n",
    "    ax = fig.add_subplot(5,2,t)    \n",
    "    vs.plot_relation_between_processing_steps_and_time(df, ax, max_x = math.ceil(max_wf_time), max_y=math.ceil(max_ps))\n",
    "    t += 1\n",
    "    ax = fig.add_subplot(5,2,t)\n",
    "    vs.plot_comments_count_time_spent(df,ax,max_x=math.ceil(max_wf_time),max_y=max_com)\n",
    "    t += 1\n"
   ]
  },
  {
   "cell_type": "markdown",
   "id": "c8959cc3-05b5-4988-b457-1d3fc2cc3be1",
   "metadata": {},
   "source": [
    "## Pair Plot"
   ]
  },
  {
   "cell_type": "code",
   "execution_count": null,
   "id": "cca6f263-cce7-4087-85e6-112e9512ca2f",
   "metadata": {
    "tags": []
   },
   "outputs": [],
   "source": [
    "ax = plt.figure(figsize=(8,8)).add_subplot(projection='3d')\n",
    "colors = ['red','orange','green','blue','gray']\n",
    "\n",
    "categories = issues_df['proj_category'].drop_duplicates().sort_values()\n",
    "\n",
    "x= ('Total Time','wf_total_time',)\n",
    "y= ('Comments Count','issue_comments_count',)\n",
    "z= ('Processing Steps', 'processing_steps',)\n",
    "\n",
    "df = issues_df[[x[1],y[1],z[1],'issue_proj','proj_category']]\n",
    "df.loc[:,x[1]] = (df[x[1]] - df[x[1]].mean()) / df[x[1]].std()\n",
    "df.loc[:,y[1]] = (df[y[1]] - df[y[1]].mean()) / df[y[1]].std()\n",
    "df.loc[:,z[1]] = (df[z[1]] - df[z[1]].mean()) / df[z[1]].std()\n",
    "\n",
    "for i,c in enumerate(categories):\n",
    "    # Plot the 3D surface\n",
    "    df_c = df[df['proj_category'] == c]\n",
    "    projects = df_c['issue_proj'].drop_duplicates()\n",
    "    x_v = df_c[x[1]]\n",
    "    y_v = df_c[y[1]]\n",
    "    z_v = df_c[z[1]]\n",
    "    ax.scatter(x_v, y_v, z_v, color=colors[i],label=f'{len(df_c)} items for {len(projects)} projects')\n",
    "\n",
    "ax.legend()\n",
    "if len(z) > 2:\n",
    "    ax.set_zticks(z[2])\n",
    "if len(x) > 2:\n",
    "    ax.set_xticks(x[2])\n",
    "if len(y) > 2:\n",
    "    ax.set_yticks(y[2])\n",
    "        \n",
    "# Plot the 3D surface\n",
    "ax.set_xlabel(x[0])\n",
    "ax.set_ylabel(y[0])\n",
    "ax.set_zlabel(z[0])\n",
    "\n",
    "# ax.view_init(elev=60, azim=50, roll=0)\n",
    "ax.view_init(elev=20, azim=40)\n",
    "ax.set_box_aspect(aspect=None, zoom=0.85)"
   ]
  }
 ],
 "metadata": {
  "kernelspec": {
   "display_name": "Python 3 (ipykernel)",
   "language": "python",
   "name": "python3"
  },
  "language_info": {
   "codemirror_mode": {
    "name": "ipython",
    "version": 3
   },
   "file_extension": ".py",
   "mimetype": "text/x-python",
   "name": "python",
   "nbconvert_exporter": "python",
   "pygments_lexer": "ipython3",
   "version": "3.10.9"
  }
 },
 "nbformat": 4,
 "nbformat_minor": 5
}
