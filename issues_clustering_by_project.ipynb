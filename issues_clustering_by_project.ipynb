{
 "cells": [
  {
   "cell_type": "markdown",
   "id": "e9491380-e3e1-4212-8c19-03ee0a491a07",
   "metadata": {
    "tags": []
   },
   "source": [
    "## Do general imports"
   ]
  },
  {
   "cell_type": "code",
   "execution_count": null,
   "id": "284f13a5-123e-4236-9570-e5371ddc3abb",
   "metadata": {
    "tags": []
   },
   "source": [
    "import matplotlib.pyplot as plt\n",
    "import pandas as pd\n",
    "import seaborn as sns\n",
    "\n",
    "pd.set_option('display.max_columns', None)"
   ],
   "outputs": []
  },
  {
   "cell_type": "markdown",
   "id": "d74adbd8-5c1d-433a-84a6-1bc975560573",
   "metadata": {
    "tags": []
   },
   "source": [
    "## Load Datasets"
   ]
  },
  {
   "cell_type": "code",
   "execution_count": null,
   "id": "7df54375-7af5-459a-b9fc-3e597dd54c28",
   "metadata": {
    "tags": []
   },
   "source": [
    "from preprocessing.projects import ProjectsPreProcess\n",
    "\n",
    "issues_df = pd.read_csv('./temp_data/issues.csv')\n",
    "# types = ['Ticket','Service','Deployment','HD Service','Project']\n",
    "types = ['Ticket','Deployment','HD Service']\n",
    "\n",
    "issues_df = issues_df[(issues_df['issue_proj'].str.match('\\w{2}\\d{2}\\w{1,}'))\n",
    "                      & (issues_df['issue_type'].isin(types))\n",
    "                      & (issues_df['issue_created'] >= '2022-01-01')\n",
    "                      & (issues_df['issue_created'] <= '2022-12-31')\n",
    "                      & pd.notna(issues_df['issue_resolution_date'])]\n",
    "                      # & (issues_df['issue_priority'] == 'High')]\n",
    "print(F'Total records after filter %i' % len(issues_df))\n",
    "\n",
    "ppp = ProjectsPreProcess()\n",
    "labeled_projects = ppp.pre_process(issues_df=issues_df,\n",
    "                                       clusters=5,\n",
    "                                       features=['wf_total_time_mean','issue_comments_count_mean',\n",
    "                                                              'issue_contr_count_mean', 'processing_steps_mean'])\n",
    "\n",
    "ppp.merge(issues_df,labeled_projects)\n",
    "columns = ['processing_steps', 'issue_comments_count', 'issue_contr_count','issue_proj','proj_category']\n",
    "df = issues_df[columns].copy()"
   ],
   "outputs": []
  },
  {
   "cell_type": "code",
   "execution_count": null,
   "id": "52a29e25-646d-49d7-9978-277caf5f5733",
   "metadata": {
    "tags": []
   },
   "source": [
    "ax = plt.figure(figsize=(8, 8)).add_subplot(projection='3d')\n",
    "colors = palette = sns.color_palette(\"tab10\")\n",
    "categories = df['proj_category'].drop_duplicates().sort_values()\n",
    "\n",
    "x = ('Countributors Count', 'issue_contr_count',)\n",
    "y = ('Comments Count', 'issue_comments_count',)\n",
    "z = ('Processing Steps', 'processing_steps',)\n",
    "\n",
    "for i, c in enumerate(categories):\n",
    "    # Plot the 3D surface\n",
    "    df_c = df[df['proj_category'] == c]\n",
    "    projects = df_c['issue_proj'].drop_duplicates()\n",
    "    x_v = df_c[x[1]]\n",
    "    y_v = df_c[y[1]]\n",
    "    z_v = df_c[z[1]]\n",
    "    ax.scatter(x_v, y_v, z_v, c=colors[i], label=f'{len(df_c)} items for {len(projects)} projects')\n",
    "\n",
    "ax.legend()\n",
    "if len(z) > 2:\n",
    "    ax.set_zticks(z[2])\n",
    "if len(x) > 2:\n",
    "    ax.set_xticks(x[2])\n",
    "if len(y) > 2:\n",
    "    ax.set_yticks(y[2])\n",
    "\n",
    "# Plot the 3D surface\n",
    "ax.set_xlabel(x[0])\n",
    "ax.set_ylabel(y[0])\n",
    "ax.set_zlabel(z[0])\n",
    "\n",
    "# ax.view_init(elev=60, azim=50, roll=0)\n",
    "ax.view_init(elev=30, azim=-30)\n",
    "ax.set_box_aspect(aspect=None, zoom=0.85)"
   ],
   "outputs": []
  }
 ],
 "metadata": {
  "kernelspec": {
   "display_name": "Python 3 (ipykernel)",
   "language": "python",
   "name": "python3"
  },
  "language_info": {
   "codemirror_mode": {
    "name": "ipython",
    "version": 3
   },
   "file_extension": ".py",
   "mimetype": "text/x-python",
   "name": "python",
   "nbconvert_exporter": "python",
   "pygments_lexer": "ipython3",
   "version": "3.10.9"
  }
 },
 "nbformat": 4,
 "nbformat_minor": 5
}
