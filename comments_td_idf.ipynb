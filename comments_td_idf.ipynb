{
 "cells": [
  {
   "cell_type": "markdown",
   "id": "e7887f83-26eb-4861-a2ad-4ca64c50c362",
   "metadata": {},
   "source": [
    "### Notes\n",
    "We might need to remove the common words in the corpus beside the stop words as those are common cross all corpus"
   ]
  },
  {
   "cell_type": "code",
   "execution_count": null,
   "id": "4e88e3fa-f994-453a-b608-05d7e9f6be69",
   "metadata": {
    "tags": []
   },
   "outputs": [],
   "source": [
    "import pandas as pd\n",
    "from matplotlib import pyplot as plt\n",
    "\n",
    "utterances = pd.read_csv('./temp_data/pp_utterances.csv')\n",
    "utterances['actionbody'] = utterances['pp_actionbody'].astype(str)\n",
    "utterances.head(3)"
   ]
  },
  {
   "cell_type": "code",
   "execution_count": null,
   "id": "2f5e7946-6625-41ff-9f7d-8dbbf9bb7f52",
   "metadata": {
    "tags": []
   },
   "outputs": [],
   "source": [
    "len(utterances)"
   ]
  },
  {
   "cell_type": "code",
   "execution_count": null,
   "id": "77ffd7f7",
   "metadata": {
    "collapsed": false,
    "jupyter": {
     "outputs_hidden": false
    }
   },
   "outputs": [],
   "source": [
    "from sklearn.feature_extraction.text import TfidfVectorizer\n",
    "\n",
    "tfidf_vectorizer = TfidfVectorizer(\n",
    "    max_df=1.0, min_df=0.005,\n",
    "    max_features=None,\n",
    "    stop_words=None,\n",
    "    token_pattern=r'(?u)(\\b\\w\\w+\\b|#\\b\\w\\w+\\b#)')\n",
    "# TF-IDF feature matrix\n",
    "tfidf = tfidf_vectorizer.fit_transform(utterances['actionbody'])\n",
    "tfidf\n",
    "vocabulary = tfidf_vectorizer.vocabulary_\n",
    "\n",
    "df_columns = [''] * len(vocabulary)\n",
    "for c,idx in vocabulary.items():\n",
    "    df_columns[idx] = c\n",
    "\n",
    "# df_columns\n",
    "print(f'number of features: {len(df_columns)}')\n"
   ]
  },
  {
   "cell_type": "code",
   "execution_count": null,
   "id": "9d3b4936-97a6-4625-95d1-20b08002b063",
   "metadata": {
    "tags": []
   },
   "outputs": [],
   "source": [
    "import re\n",
    "\n",
    "rgx = re.compile('\\d+')\n",
    "words = set()\n",
    "for k,c in vocabulary.items():\n",
    "    if not rgx.fullmatch(k):\n",
    "        words.add(k)\n",
    "        \n",
    "len(words)\n"
   ]
  },
  {
   "cell_type": "code",
   "execution_count": null,
   "id": "bcda680c",
   "metadata": {
    "collapsed": false,
    "jupyter": {
     "outputs_hidden": false
    },
    "tags": []
   },
   "outputs": [],
   "source": [
    "tfidf_df = pd.DataFrame(data=tfidf.toarray(),columns=df_columns)\n",
    "tfidf_df"
   ]
  }
 ],
 "metadata": {
  "kernelspec": {
   "display_name": "Python 3 (ipykernel)",
   "language": "python",
   "name": "python3"
  },
  "language_info": {
   "codemirror_mode": {
    "name": "ipython",
    "version": 3
   },
   "file_extension": ".py",
   "mimetype": "text/x-python",
   "name": "python",
   "nbconvert_exporter": "python",
   "pygments_lexer": "ipython3",
   "version": "3.10.9"
  }
 },
 "nbformat": 4,
 "nbformat_minor": 5
}
