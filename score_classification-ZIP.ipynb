{
 "cells": [
  {
   "cell_type": "markdown",
   "id": "f25ff65c-570a-4f25-8d55-5209f8f6dbd0",
   "metadata": {},
   "source": [
    "https://timeseriesreasoning.com/contents/zero-inflated-poisson-regression-model/"
   ]
  },
  {
   "cell_type": "markdown",
   "id": "1a3e312b-7ed1-4eb4-90e8-7bdc89440b12",
   "metadata": {
    "jp-MarkdownHeadingCollapsed": true,
    "tags": []
   },
   "source": [
    "## Install required packages"
   ]
  },
  {
   "cell_type": "markdown",
   "id": "292d14ef-37c6-4456-b861-6aea2a254e64",
   "metadata": {},
   "source": [
    "This script was based on the article below:\n",
    "https://medium.com/@knoldus/how-to-find-correlation-value-of-categorical-variables-23de7e7a9e26\n",
    "\n",
    "I should add a reference for this\n",
    "\n",
    "\"It calculates the correlation/strength-of-association of features in the data-set with both categorical and continuous features using: Pearson’s R for continuous-continuous cases, Correlation Ratio for categorical-continuous cases, Cramer’s V or Theil’s U for categorical-categorical cases.\""
   ]
  },
  {
   "cell_type": "code",
   "execution_count": null,
   "id": "b51e8359-4197-4c14-aec8-7395cc97c57f",
   "metadata": {
    "tags": []
   },
   "outputs": [],
   "source": [
    "# !pip install psycopg2-binary\n",
    "!pip --version\n",
    "\n",
    "!pip install -r requirements.txt"
   ]
  },
  {
   "cell_type": "markdown",
   "id": "e9491380-e3e1-4212-8c19-03ee0a491a07",
   "metadata": {
    "tags": []
   },
   "source": [
    "## Do general imports"
   ]
  },
  {
   "cell_type": "code",
   "execution_count": null,
   "id": "284f13a5-123e-4236-9570-e5371ddc3abb",
   "metadata": {
    "tags": []
   },
   "outputs": [],
   "source": [
    "import numpy as np\n",
    "import matplotlib.pyplot as plt\n",
    "import pandas as pd\n",
    "import math as math\n",
    "from sklearn.model_selection import train_test_split\n",
    "from matplotlib import pyplot as plt\n",
    "from classifiers.ml_dataset_preparation import build_dataset,split\n",
    "from sklearn.metrics import classification_report\n",
    "\n",
    "pd.set_option('display.max_columns', None)"
   ]
  },
  {
   "cell_type": "markdown",
   "id": "d74adbd8-5c1d-433a-84a6-1bc975560573",
   "metadata": {
    "tags": []
   },
   "source": [
    "## Load Datasets"
   ]
  },
  {
   "cell_type": "code",
   "execution_count": null,
   "id": "6e36278e-1525-4524-aac7-cea514884173",
   "metadata": {},
   "outputs": [],
   "source": [
    "issues_df = pd.read_csv('./temp_data/scored_issues_snapshots_w2v_cls.csv', index_col=[\"idx\"])\n",
    "print(F'Total records in dataset %i' % len(issues_df))\n",
    "issues_df.head(1)"
   ]
  },
  {
   "cell_type": "code",
   "execution_count": null,
   "id": "c00db4dc-3520-4515-87c9-05d194f23e51",
   "metadata": {
    "tags": []
   },
   "outputs": [],
   "source": [
    "issues_df[['Q1']].value_counts()"
   ]
  },
  {
   "cell_type": "markdown",
   "id": "91037703-2711-4811-9098-210c5b5ca160",
   "metadata": {
    "tags": []
   },
   "source": [
    "### Build Dataset"
   ]
  },
  {
   "cell_type": "code",
   "execution_count": null,
   "id": "a1558b83-fca0-464f-b832-8c1cb6ccb1ce",
   "metadata": {},
   "outputs": [],
   "source": [
    "from sklearn.preprocessing import MinMaxScaler\n",
    "\n",
    "X,y = build_dataset(issues_df.copy(),class_to_predict = None,add_dummies=False,utterances_as_percentage=True)\n",
    "# wf_cols = [c for c in X.columns if 'wf_' in c]\n",
    "# X.loc[:,wf_cols] = MinMaxScaler().fit_transform(X[wf_cols])\n",
    "# c = ['issue_comments_count','processing_steps','assignee_terms_count', 'reporter_terms_count' , 'others_terms_count','turn']\n",
    "# X.loc[:,c] = MinMaxScaler().fit_transform(X[c])\n",
    "# X['wf_total_time'] = MinMaxScaler().fit_transform(X[['wf_total_time']])\n",
    "print(f'{len(X)} records with {len(X.columns)} columns')"
   ]
  },
  {
   "cell_type": "code",
   "execution_count": null,
   "id": "26ddcbb8-357a-474e-aa8f-c46d406c0225",
   "metadata": {
    "tags": []
   },
   "outputs": [],
   "source": [
    "# X.describe()"
   ]
  },
  {
   "cell_type": "code",
   "execution_count": null,
   "id": "e59b1bd5-935e-486c-b261-77cff8b40a9e",
   "metadata": {
    "tags": []
   },
   "outputs": [],
   "source": [
    "y.value_counts()"
   ]
  },
  {
   "cell_type": "code",
   "execution_count": null,
   "id": "2e2074f5-01dc-42e0-b81b-960081ac862e",
   "metadata": {
    "tags": []
   },
   "outputs": [],
   "source": [
    "def change_label(df,lfrom,lto):\n",
    "    df.loc[df['Q1'] == lfrom,'Q1_m'] = lto\n",
    "\n",
    "change_label(y,5,0)\n",
    "change_label(y,4,1)\n",
    "change_label(y,3,2)\n",
    "change_label(y,1,3)\n",
    "change_label(y,2,4)\n",
    "y.drop(columns='Q1',inplace=True)\n",
    "y.rename(columns={'Q1_m':'Q1'},inplace=True)\n",
    "y.value_counts()"
   ]
  },
  {
   "cell_type": "code",
   "execution_count": null,
   "id": "ed6b9e7f-41ea-49ac-ad02-9ef0d3154bca",
   "metadata": {
    "tags": []
   },
   "outputs": [],
   "source": [
    "fig = plt.figure(figsize=(5,5))\n",
    "ax = fig.add_subplot(111)\n",
    "ax.hist(y)\n",
    "ax.set_xticks(range(0,5))\n",
    "ax.set_xticklabels(['5','4','3','1','2'])"
   ]
  },
  {
   "cell_type": "code",
   "execution_count": null,
   "id": "401579c4-e219-4447-9922-0f28f6734678",
   "metadata": {
    "tags": []
   },
   "outputs": [],
   "source": [
    "x_train, x_test, y_train, y_test = split(X,y,train_size=0.7)"
   ]
  },
  {
   "cell_type": "code",
   "execution_count": null,
   "id": "aa953a21-4420-4606-bbc9-1824dce2082f",
   "metadata": {
    "tags": []
   },
   "outputs": [],
   "source": [
    "from patsy import dmatrices\n",
    "import statsmodels.api as sm\n",
    "\n",
    "df_train = pd.concat([x_train,y_train],axis=1)\n",
    "df_test = pd.concat([x_test,y_test],axis=1)"
   ]
  },
  {
   "cell_type": "code",
   "execution_count": null,
   "id": "336f1852-652e-4044-aa53-d600765c2f3a",
   "metadata": {
    "tags": []
   },
   "outputs": [],
   "source": [
    "# expr = ''\n",
    "# for c in df_train.columns:\n",
    "#     if c == 'Q1':\n",
    "#         continue\n",
    "#     if expr == '':\n",
    "#         expr = f'Q1 ~ {c}'\n",
    "#         continue\n",
    "#     expr = expr + f' + {c}'\n",
    "# expr"
   ]
  },
  {
   "cell_type": "code",
   "execution_count": null,
   "id": "de519665-97aa-4706-92ff-d08f9f659de3",
   "metadata": {
    "tags": []
   },
   "outputs": [],
   "source": [
    "expr = 'Q1 ~ wf_total_time + issue_comments_count + processing_steps + assignee_terms_count + reporter_terms_count + others_terms_count + turn'\n",
    "# expr = expr + ' + wf_in_review + wf_deployment + wf_resolved + wf_open + wf_monitoring + wf_done + wf_pending_customer_approval + wf_rejected + wf_testing_monitoring + wf_in_progress + wf_reopened + wf_to_do + wf_validation + wf_resolved_under_monitoring + wf_closed + wf_waiting + wf_cancelled +  wf_under_review + wf_approved + wf_pending_deployment'\n",
    "expr = expr + ' + wf_open + wf_in_progress + wf_resolved + wf_waiting'\n",
    "# expr = expr + ' + wfe_open + wfe_in_progress + wfe_resolved + wfe_waiting'\n",
    "expr = expr + ' + assignee_utr_inform + assignee_utr_user_mention + assignee_utr_resolution + assignee_utr_technical + assignee_utr_investigation + assignee_utr_assignment_update + assignee_utr_reminder + assignee_utr_status_update + assignee_utr_support_session'\n",
    "expr = expr + ' + reporter_utr_user_mention + reporter_utr_support_session + reporter_utr_request + reporter_utr_attach_info + reporter_utr_resolution + reporter_utr_inform + reporter_utr_technical'\n",
    "expr = expr + ' + others_utr_open_close + others_utr_user_mention + others_utr_investigation + others_utr_reminder + others_utr_assignment_update + others_utr_technical + others_utr_request + others_utr_resolution_update + others_utr_update_request + others_utr_resolution'\n",
    "expr"
   ]
  },
  {
   "cell_type": "code",
   "execution_count": null,
   "id": "4717e610-966d-47bc-8fe8-74d5f9d044f2",
   "metadata": {
    "tags": []
   },
   "outputs": [],
   "source": [
    "y_train, X_train = dmatrices(expr, df_train, return_type='dataframe')\n",
    "y_test, X_test = dmatrices(expr, df_test, return_type='dataframe')\n",
    "X_train.head(3)"
   ]
  },
  {
   "cell_type": "code",
   "execution_count": null,
   "id": "ad400f96-36f8-4744-9c56-730a0fa9f239",
   "metadata": {
    "tags": []
   },
   "outputs": [],
   "source": [
    "zip_training_results = sm.ZeroInflatedPoisson(endog=y_train, exog=X_train, exog_infl=X_train, inflation='logit').fit_regularized(maxiter=200)\n",
    "zip_training_results.summary()"
   ]
  },
  {
   "cell_type": "code",
   "execution_count": null,
   "id": "55f726cf-0610-49c7-a6c7-ebd38b1efffd",
   "metadata": {
    "tags": []
   },
   "outputs": [],
   "source": [
    "from sklearn.metrics import mean_squared_error\n",
    "\n",
    "zip_predictions = zip_training_results.predict(X_test,exog_infl=X_test)\n",
    "predicted_counts=np.round(zip_predictions)\n",
    "predicted_counts = [4 if p > 4 else p for p in predicted_counts]\n",
    "actual_counts = y_test['Q1']\n",
    "print('ZIP RMSE='+str(np.sqrt(np.sum(np.power(np.subtract(predicted_counts,actual_counts),2)))))\n",
    "print(mean_squared_error(predicted_counts,actual_counts))\n",
    "print(classification_report(actual_counts,predicted_counts))"
   ]
  },
  {
   "cell_type": "code",
   "execution_count": null,
   "id": "2949731f-6bdb-4b7f-b504-0a3edfa4c7e2",
   "metadata": {
    "tags": []
   },
   "outputs": [],
   "source": [
    "fig = plt.figure(figsize=(15,5))\n",
    "fig.suptitle('Predicted versus actual counts using the ZIP model')\n",
    "predicted, = plt.plot(range(0,len(x_test)), predicted_counts, 'go-', label='Predicted')\n",
    "actual, = plt.plot(range(0,len(x_test)), actual_counts, 'ro-', label='Actual')\n",
    "plt.legend(handles=[predicted, actual])\n",
    "plt.show()"
   ]
  }
 ],
 "metadata": {
  "kernelspec": {
   "display_name": "Python 3 (ipykernel)",
   "language": "python",
   "name": "python3"
  },
  "language_info": {
   "codemirror_mode": {
    "name": "ipython",
    "version": 3
   },
   "file_extension": ".py",
   "mimetype": "text/x-python",
   "name": "python",
   "nbconvert_exporter": "python",
   "pygments_lexer": "ipython3",
   "version": "3.10.9"
  }
 },
 "nbformat": 4,
 "nbformat_minor": 5
}
