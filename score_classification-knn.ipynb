{
 "cells": [
  {
   "cell_type": "markdown",
   "id": "3b9879a7-7b84-4bf1-8591-fceaf757061e",
   "metadata": {},
   "source": [
    "### Conculsion\n",
    "- Multiple tests with K 3, 5, 7, and 9\n",
    "- The performance didn't change after 7, as the accuracy was 78%, 81%, 83%, and 83%. Therefore, k=7 was selected.\n",
    "- The performance didn't change without the utterances classes features"
   ]
  },
  {
   "cell_type": "markdown",
   "id": "1a3e312b-7ed1-4eb4-90e8-7bdc89440b12",
   "metadata": {
    "jp-MarkdownHeadingCollapsed": true,
    "tags": []
   },
   "source": [
    "## Install required packages"
   ]
  },
  {
   "cell_type": "markdown",
   "id": "292d14ef-37c6-4456-b861-6aea2a254e64",
   "metadata": {},
   "source": [
    "This script was based on the article below:\n",
    "https://medium.com/@knoldus/how-to-find-correlation-value-of-categorical-variables-23de7e7a9e26\n",
    "\n",
    "I should add a reference for this\n",
    "\n",
    "\"It calculates the correlation/strength-of-association of features in the data-set with both categorical and continuous features using: Pearson’s R for continuous-continuous cases, Correlation Ratio for categorical-continuous cases, Cramer’s V or Theil’s U for categorical-categorical cases.\""
   ]
  },
  {
   "cell_type": "code",
   "execution_count": 1,
   "id": "b51e8359-4197-4c14-aec8-7395cc97c57f",
   "metadata": {
    "tags": []
   },
   "outputs": [
    {
     "name": "stdout",
     "output_type": "stream",
     "text": [
      "pip 23.0.1 from /opt/conda/lib/python3.10/site-packages/pip (python 3.10)\n",
      "Requirement already satisfied: click==8.1.3 in /opt/conda/lib/python3.10/site-packages (from -r requirements.txt (line 1)) (8.1.3)\n",
      "Requirement already satisfied: colorama==0.4.6 in /opt/conda/lib/python3.10/site-packages (from -r requirements.txt (line 2)) (0.4.6)\n",
      "Requirement already satisfied: contourpy==1.0.7 in /opt/conda/lib/python3.10/site-packages (from -r requirements.txt (line 3)) (1.0.7)\n",
      "Requirement already satisfied: cycler==0.11.0 in /opt/conda/lib/python3.10/site-packages (from -r requirements.txt (line 4)) (0.11.0)\n",
      "Requirement already satisfied: feature-engine==1.5.2 in /opt/conda/lib/python3.10/site-packages (from -r requirements.txt (line 5)) (1.5.2)\n",
      "Requirement already satisfied: fonttools==4.39.2 in /opt/conda/lib/python3.10/site-packages (from -r requirements.txt (line 6)) (4.39.2)\n",
      "Requirement already satisfied: greenlet==2.0.2 in /opt/conda/lib/python3.10/site-packages (from -r requirements.txt (line 7)) (2.0.2)\n",
      "Requirement already satisfied: joblib==1.2.0 in /opt/conda/lib/python3.10/site-packages (from -r requirements.txt (line 8)) (1.2.0)\n",
      "Requirement already satisfied: kiwisolver==1.4.4 in /opt/conda/lib/python3.10/site-packages (from -r requirements.txt (line 9)) (1.4.4)\n",
      "Requirement already satisfied: matplotlib==3.7.1 in /opt/conda/lib/python3.10/site-packages (from -r requirements.txt (line 10)) (3.7.1)\n",
      "Requirement already satisfied: nltk==3.8.1 in /opt/conda/lib/python3.10/site-packages (from -r requirements.txt (line 11)) (3.8.1)\n",
      "Requirement already satisfied: numpy==1.24.2 in /opt/conda/lib/python3.10/site-packages (from -r requirements.txt (line 12)) (1.24.2)\n",
      "Requirement already satisfied: packaging==23.0 in /opt/conda/lib/python3.10/site-packages (from -r requirements.txt (line 13)) (23.0)\n",
      "Requirement already satisfied: pandas==1.5.3 in /opt/conda/lib/python3.10/site-packages (from -r requirements.txt (line 14)) (1.5.3)\n",
      "Requirement already satisfied: patsy==0.5.3 in /opt/conda/lib/python3.10/site-packages (from -r requirements.txt (line 15)) (0.5.3)\n",
      "Requirement already satisfied: Pillow==9.4.0 in /opt/conda/lib/python3.10/site-packages (from -r requirements.txt (line 16)) (9.4.0)\n",
      "Requirement already satisfied: psycopg2-binary==2.9.5 in /opt/conda/lib/python3.10/site-packages (from -r requirements.txt (line 17)) (2.9.5)\n",
      "Requirement already satisfied: pyparsing==3.0.9 in /opt/conda/lib/python3.10/site-packages (from -r requirements.txt (line 18)) (3.0.9)\n",
      "Requirement already satisfied: python-dateutil==2.8.2 in /opt/conda/lib/python3.10/site-packages (from -r requirements.txt (line 19)) (2.8.2)\n",
      "Requirement already satisfied: pytz==2022.7.1 in /opt/conda/lib/python3.10/site-packages (from -r requirements.txt (line 20)) (2022.7.1)\n",
      "Requirement already satisfied: regex==2022.10.31 in /opt/conda/lib/python3.10/site-packages (from -r requirements.txt (line 21)) (2022.10.31)\n",
      "Requirement already satisfied: scikit-learn==1.2.1 in /opt/conda/lib/python3.10/site-packages (from -r requirements.txt (line 22)) (1.2.1)\n",
      "Requirement already satisfied: scipy==1.10.1 in /opt/conda/lib/python3.10/site-packages (from -r requirements.txt (line 23)) (1.10.1)\n",
      "Requirement already satisfied: six==1.16.0 in /opt/conda/lib/python3.10/site-packages (from -r requirements.txt (line 24)) (1.16.0)\n",
      "Requirement already satisfied: SQLAlchemy==2.0.4 in /opt/conda/lib/python3.10/site-packages (from -r requirements.txt (line 25)) (2.0.4)\n",
      "Requirement already satisfied: dython==0.7.4 in /opt/conda/lib/python3.10/site-packages (from -r requirements.txt (line 26)) (0.7.4)\n",
      "Requirement already satisfied: statsmodels==0.13.5 in /opt/conda/lib/python3.10/site-packages (from -r requirements.txt (line 27)) (0.13.5)\n",
      "Requirement already satisfied: threadpoolctl==3.1.0 in /opt/conda/lib/python3.10/site-packages (from -r requirements.txt (line 28)) (3.1.0)\n",
      "Requirement already satisfied: tqdm==4.64.1 in /opt/conda/lib/python3.10/site-packages (from -r requirements.txt (line 29)) (4.64.1)\n",
      "Requirement already satisfied: typing_extensions==4.5.0 in /opt/conda/lib/python3.10/site-packages (from -r requirements.txt (line 30)) (4.5.0)\n",
      "Requirement already satisfied: yellowbrick==1.5 in /opt/conda/lib/python3.10/site-packages (from -r requirements.txt (line 31)) (1.5)\n",
      "Requirement already satisfied: openpyxl==3.1.2 in /opt/conda/lib/python3.10/site-packages (from -r requirements.txt (line 32)) (3.1.2)\n",
      "Requirement already satisfied: textblob==0.17.1 in /opt/conda/lib/python3.10/site-packages (from -r requirements.txt (line 33)) (0.17.1)\n",
      "Requirement already satisfied: wordcloud==1.9.2 in /opt/conda/lib/python3.10/site-packages (from -r requirements.txt (line 34)) (1.9.2)\n",
      "Requirement already satisfied: gensim==4.3.1 in /opt/conda/lib/python3.10/site-packages (from -r requirements.txt (line 35)) (4.3.1)\n",
      "Requirement already satisfied: pyLDAvis==3.2.1 in /opt/conda/lib/python3.10/site-packages (from -r requirements.txt (line 36)) (3.2.1)\n",
      "Requirement already satisfied: skfeature-chappers==1.1.0 in /opt/conda/lib/python3.10/site-packages (from -r requirements.txt (line 37)) (1.1.0)\n",
      "Requirement already satisfied: scikit-plot>=0.3.7 in /opt/conda/lib/python3.10/site-packages (from dython==0.7.4->-r requirements.txt (line 26)) (0.3.7)\n",
      "Requirement already satisfied: seaborn>=0.12.0 in /opt/conda/lib/python3.10/site-packages (from dython==0.7.4->-r requirements.txt (line 26)) (0.12.2)\n",
      "Requirement already satisfied: psutil>=5.9.1 in /opt/conda/lib/python3.10/site-packages (from dython==0.7.4->-r requirements.txt (line 26)) (5.9.4)\n",
      "Requirement already satisfied: et-xmlfile in /opt/conda/lib/python3.10/site-packages (from openpyxl==3.1.2->-r requirements.txt (line 32)) (1.1.0)\n",
      "Requirement already satisfied: smart-open>=1.8.1 in /opt/conda/lib/python3.10/site-packages (from gensim==4.3.1->-r requirements.txt (line 35)) (6.4.0)\n",
      "Requirement already satisfied: jinja2>=2.7.2 in /opt/conda/lib/python3.10/site-packages (from pyLDAvis==3.2.1->-r requirements.txt (line 36)) (3.1.2)\n",
      "Requirement already satisfied: numexpr in /opt/conda/lib/python3.10/site-packages (from pyLDAvis==3.2.1->-r requirements.txt (line 36)) (2.8.3)\n",
      "Requirement already satisfied: future in /opt/conda/lib/python3.10/site-packages (from pyLDAvis==3.2.1->-r requirements.txt (line 36)) (0.18.3)\n",
      "Requirement already satisfied: wheel>=0.23.0 in /opt/conda/lib/python3.10/site-packages (from pyLDAvis==3.2.1->-r requirements.txt (line 36)) (0.38.4)\n",
      "Requirement already satisfied: funcy in /opt/conda/lib/python3.10/site-packages (from pyLDAvis==3.2.1->-r requirements.txt (line 36)) (2.0)\n",
      "Requirement already satisfied: MarkupSafe>=2.0 in /opt/conda/lib/python3.10/site-packages (from jinja2>=2.7.2->pyLDAvis==3.2.1->-r requirements.txt (line 36)) (2.1.2)\n"
     ]
    }
   ],
   "source": [
    "# !pip install psycopg2-binary\n",
    "!pip --version\n",
    "\n",
    "!pip install -r requirements.txt"
   ]
  },
  {
   "cell_type": "markdown",
   "id": "e9491380-e3e1-4212-8c19-03ee0a491a07",
   "metadata": {
    "tags": []
   },
   "source": [
    "## Do general imports"
   ]
  },
  {
   "cell_type": "code",
   "execution_count": 2,
   "id": "284f13a5-123e-4236-9570-e5371ddc3abb",
   "metadata": {
    "tags": []
   },
   "outputs": [],
   "source": [
    "from classifiers.testing import cycle_test,TestType,TestInputs,DatasetFeatures\n",
    "\n",
    "n_neighbors = 7"
   ]
  },
  {
   "cell_type": "markdown",
   "id": "0d8820cc-59cf-4d2f-a792-1235564deb8a",
   "metadata": {},
   "source": [
    "### KNN"
   ]
  },
  {
   "cell_type": "code",
   "execution_count": 3,
   "id": "27f5c956-56d6-4142-aeda-07fa183252fc",
   "metadata": {
    "tags": []
   },
   "outputs": [],
   "source": [
    "from sklearn.neighbors import KNeighborsClassifier\n",
    "from sklearn.preprocessing import MinMaxScaler\n",
    "\n",
    "def pre_process(x,y):\n",
    "    # num_x = x.select_dtypes(include='number')\n",
    "    # x[num_x.columns] = MinMaxScaler().fit_transform(num_x[num_x.columns])\n",
    "    return x,y\n",
    "\n",
    "def fit_and_test(inputs: TestInputs):\n",
    "    knn = KNeighborsClassifier(algorithm='brute', n_neighbors=n_neighbors)\n",
    "    knn_clf = knn.fit(inputs.x_train,inputs.y_train['Q1'])\n",
    "    print(knn_clf.algorithm)\n",
    "    print(knn_clf.metric)\n",
    "    predicted = knn_clf.predict(inputs.x_test)\n",
    "    return predicted"
   ]
  },
  {
   "cell_type": "code",
   "execution_count": 4,
   "id": "e6eac0b6-c01b-43f5-8a26-e6284806a1fc",
   "metadata": {
    "tags": []
   },
   "outputs": [
    {
     "name": "stdout",
     "output_type": "stream",
     "text": [
      "==================================================\n",
      "start test KNN K = 7 to test 5 Vs All\n",
      "Total records in dataset 747\n",
      "brute\n",
      "minkowski\n",
      "5 Vs All - Without DA features\n",
      "              precision    recall  f1-score   support\n",
      "\n",
      "           0       0.76      0.81      0.79        70\n",
      "           5       0.88      0.84      0.86       111\n",
      "\n",
      "    accuracy                           0.83       181\n",
      "   macro avg       0.82      0.83      0.82       181\n",
      "weighted avg       0.83      0.83      0.83       181\n",
      "\n",
      "brute\n",
      "minkowski\n",
      "5 Vs All - With DA features (%)\n",
      "              precision    recall  f1-score   support\n",
      "\n",
      "           0       0.76      0.81      0.79        70\n",
      "           5       0.88      0.84      0.86       111\n",
      "\n",
      "    accuracy                           0.83       181\n",
      "   macro avg       0.82      0.83      0.82       181\n",
      "weighted avg       0.83      0.83      0.83       181\n",
      "\n",
      "brute\n",
      "minkowski\n",
      "5 Vs All - With DA features (counts)\n",
      "              precision    recall  f1-score   support\n",
      "\n",
      "           0       0.76      0.81      0.79        70\n",
      "           5       0.88      0.84      0.86       111\n",
      "\n",
      "    accuracy                           0.83       181\n",
      "   macro avg       0.82      0.83      0.82       181\n",
      "weighted avg       0.83      0.83      0.83       181\n",
      "\n",
      "==================================================\n"
     ]
    }
   ],
   "source": [
    "cycle_test('KNN K = 7',fit_and_test,test_type=TestType.FIVE_VS_ALL,pre_processor=pre_process)#dataset_types=DatasetFeatures.WITH_TEXT_TONE_AS_PERCENTAGES"
   ]
  },
  {
   "cell_type": "code",
   "execution_count": 5,
   "id": "43a9c0ca-704e-4f49-9531-24a0c1853945",
   "metadata": {
    "tags": []
   },
   "outputs": [
    {
     "name": "stdout",
     "output_type": "stream",
     "text": [
      "==================================================\n",
      "start test KNN K = 7 to test Three Levels\n",
      "Total records in dataset 747\n",
      "brute\n",
      "minkowski\n",
      "Three Levels - Without DA features\n",
      "              precision    recall  f1-score   support\n",
      "\n",
      "           0       0.52      0.57      0.54        28\n",
      "           1       0.48      0.50      0.49        42\n",
      "           2       0.88      0.84      0.86       111\n",
      "\n",
      "    accuracy                           0.72       181\n",
      "   macro avg       0.62      0.64      0.63       181\n",
      "weighted avg       0.73      0.72      0.72       181\n",
      "\n",
      "brute\n",
      "minkowski\n",
      "Three Levels - With DA features (%)\n",
      "              precision    recall  f1-score   support\n",
      "\n",
      "           0       0.52      0.57      0.54        28\n",
      "           1       0.48      0.50      0.49        42\n",
      "           2       0.88      0.84      0.86       111\n",
      "\n",
      "    accuracy                           0.72       181\n",
      "   macro avg       0.62      0.64      0.63       181\n",
      "weighted avg       0.73      0.72      0.72       181\n",
      "\n",
      "brute\n",
      "minkowski\n",
      "Three Levels - With DA features (counts)\n",
      "              precision    recall  f1-score   support\n",
      "\n",
      "           0       0.52      0.57      0.54        28\n",
      "           1       0.48      0.50      0.49        42\n",
      "           2       0.88      0.84      0.86       111\n",
      "\n",
      "    accuracy                           0.72       181\n",
      "   macro avg       0.62      0.64      0.63       181\n",
      "weighted avg       0.73      0.72      0.72       181\n",
      "\n",
      "==================================================\n"
     ]
    }
   ],
   "source": [
    "cycle_test('KNN K = 7',fit_and_test,test_type=TestType.THREE_LEVELS,pre_processor=pre_process)#,dataset_types=DatasetFeatures.WITH_TEXT_TONE_AS_PERCENTAGES"
   ]
  },
  {
   "cell_type": "code",
   "execution_count": 6,
   "id": "7e1f7ec4-b4a9-4a8f-9139-14123fb1ea61",
   "metadata": {
    "tags": []
   },
   "outputs": [
    {
     "name": "stdout",
     "output_type": "stream",
     "text": [
      "==================================================\n",
      "start test KNN K = 7 to test All classes\n",
      "Total records in dataset 747\n",
      "brute\n",
      "minkowski\n",
      "All classes - Without DA features\n",
      "              precision    recall  f1-score   support\n",
      "\n",
      "           1       0.42      0.44      0.43        18\n",
      "           2       0.38      0.50      0.43        10\n",
      "           3       0.19      0.20      0.20        20\n",
      "           4       0.08      0.05      0.06        22\n",
      "           5       0.83      0.86      0.85       111\n",
      "\n",
      "    accuracy                           0.63       181\n",
      "   macro avg       0.38      0.41      0.39       181\n",
      "weighted avg       0.60      0.63      0.61       181\n",
      "\n",
      "brute\n",
      "minkowski\n",
      "All classes - With DA features (%)\n",
      "              precision    recall  f1-score   support\n",
      "\n",
      "           1       0.42      0.44      0.43        18\n",
      "           2       0.38      0.50      0.43        10\n",
      "           3       0.19      0.20      0.20        20\n",
      "           4       0.08      0.05      0.06        22\n",
      "           5       0.83      0.86      0.85       111\n",
      "\n",
      "    accuracy                           0.63       181\n",
      "   macro avg       0.38      0.41      0.39       181\n",
      "weighted avg       0.60      0.63      0.61       181\n",
      "\n",
      "brute\n",
      "minkowski\n",
      "All classes - With DA features (counts)\n",
      "              precision    recall  f1-score   support\n",
      "\n",
      "           1       0.42      0.44      0.43        18\n",
      "           2       0.38      0.50      0.43        10\n",
      "           3       0.19      0.20      0.20        20\n",
      "           4       0.08      0.05      0.06        22\n",
      "           5       0.83      0.86      0.85       111\n",
      "\n",
      "    accuracy                           0.63       181\n",
      "   macro avg       0.38      0.41      0.39       181\n",
      "weighted avg       0.60      0.63      0.61       181\n",
      "\n",
      "==================================================\n"
     ]
    }
   ],
   "source": [
    "cycle_test('KNN K = 7',fit_and_test,test_type=TestType.ALL,pre_processor=pre_process)#,dataset_types=DatasetFeatures.WITH_TEXT_TONE_AS_PERCENTAGES"
   ]
  }
 ],
 "metadata": {
  "kernelspec": {
   "display_name": "Python 3 (ipykernel)",
   "language": "python",
   "name": "python3"
  },
  "language_info": {
   "codemirror_mode": {
    "name": "ipython",
    "version": 3
   },
   "file_extension": ".py",
   "mimetype": "text/x-python",
   "name": "python",
   "nbconvert_exporter": "python",
   "pygments_lexer": "ipython3",
   "version": "3.10.9"
  }
 },
 "nbformat": 4,
 "nbformat_minor": 5
}
