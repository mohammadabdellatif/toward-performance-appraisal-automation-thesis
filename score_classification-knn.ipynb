{
 "cells": [
  {
   "cell_type": "markdown",
   "id": "3b9879a7-7b84-4bf1-8591-fceaf757061e",
   "metadata": {},
   "source": [
    "### Conculsion\n",
    "- Multiple tests with K 3, 5, 7, and 9\n",
    "- The performance didn't change after 7, as the accuracy was 78%, 81%, 83%, and 83%. Therefore, k=7 was selected.\n",
    "- The performance didn't change without the utterances classes features"
   ]
  },
  {
   "cell_type": "markdown",
   "id": "e9491380-e3e1-4212-8c19-03ee0a491a07",
   "metadata": {
    "tags": []
   },
   "source": [
    "## Do general imports"
   ]
  },
  {
   "cell_type": "code",
   "execution_count": 1,
   "id": "284f13a5-123e-4236-9570-e5371ddc3abb",
   "metadata": {
    "tags": []
   },
   "outputs": [],
   "source": [
    "from classifiers.testing import cycle_test,TestType,TestInputs,DatasetFeatures\n",
    "\n",
    "n_neighbors = 7"
   ]
  },
  {
   "cell_type": "markdown",
   "id": "0d8820cc-59cf-4d2f-a792-1235564deb8a",
   "metadata": {},
   "source": [
    "### KNN"
   ]
  },
  {
   "cell_type": "code",
   "execution_count": 2,
   "id": "27f5c956-56d6-4142-aeda-07fa183252fc",
   "metadata": {
    "tags": []
   },
   "outputs": [],
   "source": [
    "from sklearn.neighbors import KNeighborsClassifier\n",
    "from sklearn.preprocessing import MinMaxScaler\n",
    "\n",
    "def pre_process(x,y):\n",
    "    # num_x = x.select_dtypes(include='number')\n",
    "    # x[num_x.columns] = MinMaxScaler().fit_transform(num_x[num_x.columns])\n",
    "    return x,y\n",
    "\n",
    "def fit_and_test(inputs: TestInputs):\n",
    "    knn = KNeighborsClassifier(algorithm='brute', n_neighbors=n_neighbors)\n",
    "    knn_clf = knn.fit(inputs.x_train,inputs.y_train['Q1'])\n",
    "    print(knn_clf.algorithm)\n",
    "    print(knn_clf.metric)\n",
    "    predicted = knn_clf.predict(inputs.x_test)\n",
    "    return predicted"
   ]
  },
  {
   "cell_type": "code",
   "execution_count": 3,
   "id": "e6eac0b6-c01b-43f5-8a26-e6284806a1fc",
   "metadata": {
    "tags": []
   },
   "outputs": [
    {
     "name": "stdout",
     "output_type": "stream",
     "text": [
      "==================================================\n",
      "start test KNN K = 7 to test 5 Vs All\n",
      "Total records in dataset 747\n",
      "total records in learning dataset 747\n",
      "total number of records in learning 603\n",
      "brute\n",
      "minkowski\n",
      "5 Vs All - Without DA features\n",
      "              precision    recall  f1-score   support\n",
      "\n",
      "           0       0.76      0.81      0.79        70\n",
      "           5       0.88      0.84      0.86       111\n",
      "\n",
      "    accuracy                           0.83       181\n",
      "   macro avg       0.82      0.83      0.82       181\n",
      "weighted avg       0.83      0.83      0.83       181\n",
      "\n",
      "brute\n",
      "minkowski\n",
      "5 Vs All - With DA features (%)\n",
      "              precision    recall  f1-score   support\n",
      "\n",
      "           0       0.76      0.81      0.79        70\n",
      "           5       0.88      0.84      0.86       111\n",
      "\n",
      "    accuracy                           0.83       181\n",
      "   macro avg       0.82      0.83      0.82       181\n",
      "weighted avg       0.83      0.83      0.83       181\n",
      "\n",
      "total records in learning dataset 747\n",
      "total number of records in learning 603\n",
      "brute\n",
      "minkowski\n",
      "5 Vs All - With DA features (counts)\n",
      "              precision    recall  f1-score   support\n",
      "\n",
      "           0       0.76      0.81      0.79        70\n",
      "           5       0.88      0.84      0.86       111\n",
      "\n",
      "    accuracy                           0.83       181\n",
      "   macro avg       0.82      0.83      0.82       181\n",
      "weighted avg       0.83      0.83      0.83       181\n",
      "\n",
      "==================================================\n"
     ]
    }
   ],
   "source": [
    "cycle_test('KNN K = 7',fit_and_test,test_type=TestType.FIVE_VS_ALL,pre_processor=pre_process)#dataset_types=DatasetFeatures.WITH_TEXT_TONE_AS_PERCENTAGES"
   ]
  },
  {
   "cell_type": "code",
   "execution_count": 4,
   "id": "43a9c0ca-704e-4f49-9531-24a0c1853945",
   "metadata": {
    "tags": []
   },
   "outputs": [
    {
     "name": "stdout",
     "output_type": "stream",
     "text": [
      "==================================================\n",
      "start test KNN K = 7 to test Three Levels\n",
      "Total records in dataset 747\n",
      "total records in learning dataset 747\n",
      "total number of records in learning 603\n",
      "brute\n",
      "minkowski\n",
      "Three Levels - Without DA features\n",
      "              precision    recall  f1-score   support\n",
      "\n",
      "           0       0.52      0.57      0.54        28\n",
      "           1       0.48      0.50      0.49        42\n",
      "           2       0.88      0.84      0.86       111\n",
      "\n",
      "    accuracy                           0.72       181\n",
      "   macro avg       0.62      0.64      0.63       181\n",
      "weighted avg       0.73      0.72      0.72       181\n",
      "\n",
      "brute\n",
      "minkowski\n",
      "Three Levels - With DA features (%)\n",
      "              precision    recall  f1-score   support\n",
      "\n",
      "           0       0.52      0.57      0.54        28\n",
      "           1       0.48      0.50      0.49        42\n",
      "           2       0.88      0.84      0.86       111\n",
      "\n",
      "    accuracy                           0.72       181\n",
      "   macro avg       0.62      0.64      0.63       181\n",
      "weighted avg       0.73      0.72      0.72       181\n",
      "\n",
      "total records in learning dataset 747\n",
      "total number of records in learning 603\n",
      "brute\n",
      "minkowski\n",
      "Three Levels - With DA features (counts)\n",
      "              precision    recall  f1-score   support\n",
      "\n",
      "           0       0.52      0.57      0.54        28\n",
      "           1       0.48      0.50      0.49        42\n",
      "           2       0.88      0.84      0.86       111\n",
      "\n",
      "    accuracy                           0.72       181\n",
      "   macro avg       0.62      0.64      0.63       181\n",
      "weighted avg       0.73      0.72      0.72       181\n",
      "\n",
      "==================================================\n"
     ]
    }
   ],
   "source": [
    "cycle_test('KNN K = 7',fit_and_test,test_type=TestType.THREE_LEVELS,pre_processor=pre_process)#,dataset_types=DatasetFeatures.WITH_TEXT_TONE_AS_PERCENTAGES"
   ]
  },
  {
   "cell_type": "code",
   "execution_count": 5,
   "id": "7e1f7ec4-b4a9-4a8f-9139-14123fb1ea61",
   "metadata": {
    "tags": []
   },
   "outputs": [
    {
     "name": "stdout",
     "output_type": "stream",
     "text": [
      "==================================================\n",
      "start test KNN K = 7 to test All classes\n",
      "Total records in dataset 747\n",
      "total records in learning dataset 747\n",
      "total number of records in learning 603\n",
      "brute\n",
      "minkowski\n",
      "All classes - Without DA features\n",
      "              precision    recall  f1-score   support\n",
      "\n",
      "           1       0.42      0.44      0.43        18\n",
      "           2       0.38      0.50      0.43        10\n",
      "           3       0.19      0.20      0.20        20\n",
      "           4       0.08      0.05      0.06        22\n",
      "           5       0.83      0.86      0.85       111\n",
      "\n",
      "    accuracy                           0.63       181\n",
      "   macro avg       0.38      0.41      0.39       181\n",
      "weighted avg       0.60      0.63      0.61       181\n",
      "\n",
      "brute\n",
      "minkowski\n",
      "All classes - With DA features (%)\n",
      "              precision    recall  f1-score   support\n",
      "\n",
      "           1       0.42      0.44      0.43        18\n",
      "           2       0.38      0.50      0.43        10\n",
      "           3       0.19      0.20      0.20        20\n",
      "           4       0.08      0.05      0.06        22\n",
      "           5       0.83      0.86      0.85       111\n",
      "\n",
      "    accuracy                           0.63       181\n",
      "   macro avg       0.38      0.41      0.39       181\n",
      "weighted avg       0.60      0.63      0.61       181\n",
      "\n",
      "total records in learning dataset 747\n",
      "total number of records in learning 603\n",
      "brute\n",
      "minkowski\n",
      "All classes - With DA features (counts)\n",
      "              precision    recall  f1-score   support\n",
      "\n",
      "           1       0.42      0.44      0.43        18\n",
      "           2       0.38      0.50      0.43        10\n",
      "           3       0.19      0.20      0.20        20\n",
      "           4       0.08      0.05      0.06        22\n",
      "           5       0.83      0.86      0.85       111\n",
      "\n",
      "    accuracy                           0.63       181\n",
      "   macro avg       0.38      0.41      0.39       181\n",
      "weighted avg       0.60      0.63      0.61       181\n",
      "\n",
      "==================================================\n"
     ]
    }
   ],
   "source": [
    "cycle_test('KNN K = 7',fit_and_test,test_type=TestType.ALL,pre_processor=pre_process)#,dataset_types=DatasetFeatures.WITH_TEXT_TONE_AS_PERCENTAGES"
   ]
  }
 ],
 "metadata": {
  "kernelspec": {
   "display_name": "Python 3 (ipykernel)",
   "language": "python",
   "name": "python3"
  },
  "language_info": {
   "codemirror_mode": {
    "name": "ipython",
    "version": 3
   },
   "file_extension": ".py",
   "mimetype": "text/x-python",
   "name": "python",
   "nbconvert_exporter": "python",
   "pygments_lexer": "ipython3",
   "version": "3.10.9"
  }
 },
 "nbformat": 4,
 "nbformat_minor": 5
}
