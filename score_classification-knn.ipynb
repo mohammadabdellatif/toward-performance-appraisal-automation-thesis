{
 "cells": [
  {
   "cell_type": "markdown",
   "id": "3b9879a7-7b84-4bf1-8591-fceaf757061e",
   "metadata": {},
   "source": [
    "### Conculsion\n",
    "- Multiple tests with K 3, 5, 7, and 9\n",
    "- The performance didn't change after 7, as the accuracy was 78%, 81%, 83%, and 83%. Therefore, k=7 was selected.\n",
    "- The performance didn't change without the utterances classes features"
   ]
  },
  {
   "cell_type": "markdown",
   "id": "e9491380-e3e1-4212-8c19-03ee0a491a07",
   "metadata": {
    "tags": []
   },
   "source": [
    "## Do general imports"
   ]
  },
  {
   "cell_type": "code",
   "id": "284f13a5-123e-4236-9570-e5371ddc3abb",
   "metadata": {
    "tags": []
   },
   "source": [
    "from classifiers.testing import cycle_test,TestType,TestInputs,DatasetFeatures\n",
    "\n",
    "n_neighbors = 7"
   ],
   "outputs": [],
   "execution_count": null
  },
  {
   "cell_type": "markdown",
   "id": "0d8820cc-59cf-4d2f-a792-1235564deb8a",
   "metadata": {},
   "source": [
    "### KNN"
   ]
  },
  {
   "cell_type": "code",
   "id": "27f5c956-56d6-4142-aeda-07fa183252fc",
   "metadata": {
    "tags": []
   },
   "source": [
    "from sklearn.neighbors import KNeighborsClassifier\n",
    "from sklearn.preprocessing import MinMaxScaler\n",
    "\n",
    "def pre_process(x,y):\n",
    "    # num_x = x.select_dtypes(include='number')\n",
    "    # x[num_x.columns] = MinMaxScaler().fit_transform(num_x[num_x.columns])\n",
    "    return x,y\n",
    "\n",
    "def fit_and_test(inputs: TestInputs):\n",
    "    knn = KNeighborsClassifier(algorithm='brute', n_neighbors=n_neighbors)\n",
    "    knn_clf = knn.fit(inputs.x_train,inputs.y_train['Q1'])\n",
    "    print(knn_clf.algorithm)\n",
    "    print(knn_clf.metric)\n",
    "    predicted = knn_clf.predict(inputs.x_test)\n",
    "    return predicted"
   ],
   "outputs": [],
   "execution_count": null
  },
  {
   "cell_type": "code",
   "id": "e6eac0b6-c01b-43f5-8a26-e6284806a1fc",
   "metadata": {
    "tags": []
   },
   "source": [
    "cycle_test('KNN K = 7',fit_and_test,test_type=TestType.FIVE_VS_ALL,pre_processor=pre_process)#dataset_types=DatasetFeatures.WITH_TEXT_TONE_AS_PERCENTAGES"
   ],
   "outputs": [],
   "execution_count": null
  },
  {
   "cell_type": "code",
   "id": "43a9c0ca-704e-4f49-9531-24a0c1853945",
   "metadata": {
    "tags": []
   },
   "source": [
    "cycle_test('KNN K = 7',fit_and_test,test_type=TestType.THREE_LEVELS,pre_processor=pre_process)#,dataset_types=DatasetFeatures.WITH_TEXT_TONE_AS_PERCENTAGES"
   ],
   "outputs": [],
   "execution_count": null
  },
  {
   "cell_type": "code",
   "id": "7e1f7ec4-b4a9-4a8f-9139-14123fb1ea61",
   "metadata": {
    "tags": []
   },
   "source": [
    "cycle_test('KNN K = 7',fit_and_test,test_type=TestType.ALL,pre_processor=pre_process)#,dataset_types=DatasetFeatures.WITH_TEXT_TONE_AS_PERCENTAGES"
   ],
   "outputs": [],
   "execution_count": null
  }
 ],
 "metadata": {
  "kernelspec": {
   "display_name": "Python 3 (ipykernel)",
   "language": "python",
   "name": "python3"
  },
  "language_info": {
   "codemirror_mode": {
    "name": "ipython",
    "version": 3
   },
   "file_extension": ".py",
   "mimetype": "text/x-python",
   "name": "python",
   "nbconvert_exporter": "python",
   "pygments_lexer": "ipython3",
   "version": "3.10.9"
  }
 },
 "nbformat": 4,
 "nbformat_minor": 5
}
